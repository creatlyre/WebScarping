{
 "cells": [
  {
   "cell_type": "code",
   "execution_count": null,
   "id": "29fc006a",
   "metadata": {},
   "outputs": [],
   "source": [
    "from selenium import webdriver\n",
    "from selenium.webdriver.common.by import By\n",
    "from selenium.webdriver.support.ui import WebDriverWait\n",
    "from selenium.webdriver.support import expected_conditions as EC\n",
    "from bs4 import BeautifulSoup\n",
    "import time\n",
    "import pandas as pd\n",
    "from webdriver_manager.chrome import ChromeDriverManager\n",
    "from selenium.webdriver.chrome.service import Service\n",
    "from selenium.webdriver.common.keys import Keys\n",
    "import numpy as np\n",
    "import datetime\n",
    "from selenium.webdriver.common.action_chains import ActionChains\n",
    "from openpyxl import Workbook, load_workbook\n",
    "import os\n",
    "import shutil\n",
    "from io import StringIO\n",
    "import logging\n",
    "import traceback\n",
    "import re\n",
    "from azure.storage.blob import BlobServiceClient\n",
    "# from undetected_chromedriver import Chrome, ChromeOptions\n",
    "# from user_agent import generate_user_agent\n",
    "# import ctypes  # An included library with Python install.   \n",
    "import random\n",
    "import requests\n",
    "import json\n",
    "import concurrent.futures\n",
    "\n",
    "# eyJhbGciOiJSUzI1NiIsImtpZCI6IjY3YmFiYWFiYTEwNWFkZDZiM2ZiYjlmZjNmZjVmZTNkY2E0Y2VkYTEiLCJ0eXAiOiJKV1QifQ.eyJuYW1lIjoiV29qdGVrIEJhbG9uIiwicGljdHVyZSI6Imh0dHBzOi8vbGgzLmdvb2dsZXVzZXJjb250ZW50LmNvbS9hL0FBY0hUdGZCODM1WVhSalRJeEl4WmxyTnBaRXpWQk9hZmUyMUFmU1dZZXNnUGc9czk2LWMiLCJpc3MiOiJodHRwczovL3NlY3VyZXRva2VuLmdvb2dsZS5jb20vZXhhMi1mYjE3MCIsImF1ZCI6ImV4YTItZmIxNzAiLCJhdXRoX3RpbWUiOjE2ODY2NTg5MDYsInVzZXJfaWQiOiJEcWRXRDhRdloyUTkzcTR4WFhWWlFWUk8wSEMyIiwic3ViIjoiRHFkV0Q4UXZaMlE5M3E0eFhYVlpRVlJPMEhDMiIsImlhdCI6MTY4NjY1OTA2MSwiZXhwIjoxNjg2NjYyNjYxLCJlbWFpbCI6IndvamJhbDNAZ21haWwuY29tIiwiZW1haWxfdmVyaWZpZWQiOnRydWUsImZpcmViYXNlIjp7ImlkZW50aXRpZXMiOnsiZ29vZ2xlLmNvbSI6WyIxMTUwNTc1NjgzNzI4NjQ1MzA0NTciXSwiZW1haWwiOlsid29qYmFsM0BnbWFpbC5jb20iXX0sInNpZ25faW5fcHJvdmlkZXIiOiJnb29nbGUuY29tIn19.IAOh_U2LXNXGk1jqG3q6m9utI79QVMDtCuUcDBSH5TEKPmMCEdW962qOZN6J8wfMzexHX1cWoqGcXYBmjLcjQKBhhQoAUAdYjxEivrLHe8Hi37bIwXrEX9mvAKD1wE71Sq1sbB3B9xU51lTsH88l7P0pq9LDgbaKkJCljvvzJ186BTbX9Qw0CF4gma1XjJ1W3Nmd0BK2pE9y0b3arF_V8bSME6BeR4Ls1yKLM9da-MCN5y-IkwGVB6j78Qrt-4_emtAhxjkcYlzauOtEM8dZ0NzblgSxY-hdG_sG-Clg0gM6fxXRQSQJYjqHNgwY7sjAP885JUWbtjWjoXKvdJn_iA"
   ]
  },
  {
   "cell_type": "code",
   "execution_count": null,
   "id": "e6c40eaa",
   "metadata": {},
   "outputs": [],
   "source": [
    "date_today = datetime.date.today().strftime(\"%Y-%m-%d\")\n",
    "# date_today = '2023-10-19'\n",
    "date_yesterday = (datetime.date.today() - datetime.timedelta(days=1)).strftime(\"%Y-%m-%d\")\n",
    "output_viator = r'G:/.shortcut-targets-by-id/1ER8hilqZ2TuX2C34R3SMAtd1Xbk94LE2/MyOTAs/Baza Excel/Viator/All Links'\n",
    "file_path_done =fr'{output_viator}/{date_today}-DONE-Viator.csv'  \n",
    "archive_folder = fr'{output_viator}/Archive'\n",
    "\n",
    "file_path_done_archive =fr'{archive_folder}/{date_yesterday}-DONE-Viator.csv'  \n",
    "file_path_output = fr\"{output_viator}/AllLinksViator - {date_today}.xlsx\"\n",
    "file_path_output_processed = fr\"{output_viator}/All Links Viator - {date_today}.xlsx\"\n",
    "file_path_output_processed_csv = fr\"{output_viator}/All Links Viator - {date_today}.csv\"\n",
    "file_path_csv_operator = fr\"G:\\.shortcut-targets-by-id\\1ER8hilqZ2TuX2C34R3SMAtd1Xbk94LE2\\MyOTAs\\Pliki firmowe\\Operators_Groups.csv\"\n",
    "file_path_xlsx_operator = fr\"G:\\.shortcut-targets-by-id\\1ER8hilqZ2TuX2C34R3SMAtd1Xbk94LE2\\MyOTAs\\Pliki firmowe\\Operators_Groups.xlsx\"\n",
    "file_path_all_links_send_to_scraper = fr\"{output_viator}\\SupplierExtract - {date_today}.csv\"\n",
    "file_path_all_links_send_to_scraper_finished = fr\"{output_viator}\\SupplierExtractFinished - {date_today}.csv\"\n",
    "link_file = fr'G:/.shortcut-targets-by-id/1ER8hilqZ2TuX2C34R3SMAtd1Xbk94LE2/MyOTAs/Baza Excel/Resource/Viator_links.csv'\n",
    "all_links_file = fr'G:/.shortcut-targets-by-id/1ER8hilqZ2TuX2C34R3SMAtd1Xbk94LE2/MyOTAs/Baza Excel/Resource/AllViator_links.csv'\n",
    "# Set the path of the local file\n",
    "local_file_path = file_path_output\n",
    "# local_file_path = f\"{output_viator}/AllLinksViator - {date_today}.xlsx\"\n",
    "\n",
    "# Set the name of your Azure Storage account and the corresponding access key\n",
    "storage_account_name = \"storagemyotas\"\n",
    "storage_account_key = \"vyHHUXSN761ELqivtl/U3F61lUY27jGrLIKOyAplmE0krUzwaJuFVomDXsIc51ZkFWMjtxZ8wJiN+AStbsJHjA==\"\n",
    "\n",
    "# Set the name of the container and the desired blob name\n",
    "container_name_raw = \"raw/all_links/viator\"\n",
    "container_name_refined = \"refined/all_links/viator\"\n",
    "\n",
    "blob_name = fr'Viator - {date_today}.xlsx'\n",
    "# file_path_logs_processed = fr'G:/.shortcut-targets-by-id/1ER8hilqZ2TuX2C34R3SMAtd1Xbk94LE2/MyOTAs/Baza Excel/Logs/files_processed/{blob_name.split(\".\")[0]}'\n",
    "\n",
    "mapping_currency = {'COP\\xa0': 'COP (Colombian Peso)', 'HK$': 'HKD (Hong Kong Dollar)', \n",
    "                    '¥': 'JPY (Japanese Yen)', 'DKK': 'DKK (Danish Krone)', 'R$': 'BRL (Brazilian Real)',\n",
    "                    '₹': 'INR (Indian Rupee)', 'MX$': 'MXN (Mexican Peso)', 'ZAR\\xa0': 'ZAR (South African Rand)',\n",
    "                    'PEN\\xa0': 'PEN (Peruvian Sol)', 'NZ$': 'NZD (New Zealand Dollar)', '€': 'EUR (Euro)',\n",
    "                    'CA$': 'CAD (Canadian Dollar)', 'Â£': 'GBP (British Pound Sterling)',\n",
    "                    'PEN': 'PEN (Peruvian Sol)', 'SEK\\xa0': 'SEK (Swedish Krona)', 'NOK': 'NOK (Norwegian Krone)',\n",
    "                    '$': 'USD (United States Dollar)', 'COP': 'COP (Colombian Peso)', \n",
    "                    'NT$': 'TWD (New Taiwan Dollar)', '£': 'GBP (British Pound Sterling)',\n",
    "                    'â‚¬': 'EUR (Euro)', 'Â¥': 'JPY (Japanese Yen)',\n",
    "                    'â‚¹': 'INR (Indian Rupee)', 'SEK': 'SEK (Swedish Krona)', 'ZAR': 'ZAR (South African Rand)',\n",
    "                    'CHF': 'CHF (Swiss Franc)', 'â‚´': 'UAH (Ukrainian Hryvnia)', 'zÅ‚': 'PLN (Polish Zloty)',\n",
    "                    'Ð»Ð²': 'BGN Bulgarian Lev', 'US$': 'USD (United States Dollar)', 'lei': 'RON (Romanian Leu)',\n",
    "                    'zł': 'PLN (Polish Zloty)','$U': 'UYU (Uruguayan Peso)', 'COL$': 'COP (Colombian Peso)', \n",
    "                    '₴': 'UAH (Ukrainian Hryvnia)',\n",
    "                    'CHF': 'CHF (Swiss Franc)', 'zł': 'PLN (Polish Zloty)', 'R$': 'BRL (Brazilian Real)',\n",
    "                    'CL$': 'CLP (Chilean Peso)', 'Rp': 'IDR (Indonesian Rupiah)', 'AR$': 'ARS (Argentine Peso)',\n",
    "                    '฿': 'THB (Thai Baht)', 'Kč': 'CZK (Czech Koruna)', 'lei': 'RON (Romanian Leu)',\n",
    "                    '₺': 'TRY (Turkish Lira)', 'A$': 'AUD (Australian Dollar)', 'Ft': 'HUF (Hungarian Forint)',\n",
    "                    '€': 'EUR (Euro)', '£': 'GBP (British Pound Sterling)', '₹': 'INR (Indian Rupee)',\n",
    "                    'US$': 'USD (United States Dollar)', 'лв': 'BGN (Bulgarian Lev)',\n",
    "                    'COL$': 'COP (Colombian Peso)', 'lei': 'RON (Romanian Leu)', 'C$': 'NIO (Nicaraguan Cordoba)',\n",
    "                    '₺': 'TRY (Turkish Lira)', 'AR$': 'ARS (Argentine Peso)', 'A$': 'AUD (Australian Dollar)',\n",
    "                    'лв': 'BGN (Bulgarian Lev)', 'Ft': 'HUF (Hungarian Forint)', 'DKK': 'DKK (Danish Krone)',\n",
    "                    '₪': 'ILS (Israeli Shekel)', '€.': 'EUR (Euro)', '₴': 'UAH (Ukrainian Hryvnia)',\n",
    "                    'R$': 'BRL (Brazilian Real)', '₹': 'INR (Indian Rupee)', 'zł': 'PLN (Polish Zloty)',\n",
    "                    'US$': 'USD (United States Dollar)', '€': 'EUR (Euro)', '$U': 'UYU (Uruguayan Peso)',\n",
    "                    'Kč': 'CZK (Czech Koruna)', 'SEK': 'SEK (Swedish Krona)', '£': 'GBP (British Pound Sterling)',\n",
    "                    'E£': 'EGP (Egyptian Pound)', 'CL$': 'CLP (Chilean Peso)'}\n",
    "\n",
    "\n",
    "currency_list = []\n",
    "API_KEY = '8c36bc42cd11c738c1baad3e2000b40c'\n",
    "API_KEY_ZENROWS = '56ed5b7f827aa5c258b3f6d3f57d36999aa949e8' # https://app.zenrows.com/buildera\n"
   ]
  },
  {
   "cell_type": "code",
   "execution_count": null,
   "id": "f48489d4",
   "metadata": {},
   "outputs": [],
   "source": [
    "EUR_City = [\n",
    "    'Madrid',\n",
    "    'Florence',\n",
    "    'Capri',\n",
    "    'Naples',\n",
    "    'Taormina',\n",
    "    'Mount-Etna',\n",
    "    'Bali',\n",
    "    'Porto',\n",
    "    'Krakow',\n",
    "    'Barcelona',\n",
    "    'Athens',\n",
    "    'Palermo',\n",
    "    'Paris',\n",
    "    'Dubrovnik',\n",
    "    'Berlin',\n",
    "    'Istanbul',\n",
    "    'Adelaide',\n",
    "    'Venice',\n",
    "    'Amsterdam',\n",
    "    'Cairns-and-the-Tropical-North',\n",
    "    'Sorrento',\n",
    "    'Dublin',\n",
    "    'Rome',\n",
    "    'Perth',\n",
    "    'Gold-Coast',\n",
    "    'Amalfi-Coast',\n",
    "    'Salta',\n",
    "    'Bariloche',\n",
    "    'Milan',\n",
    "    'Hobart',\n",
    "    'Mount-Vesuvius',\n",
    "    'Reykjavik',\n",
    "    'Pompeii',\n",
    "    'Vienna',\n",
    "    'Herculaneum',\n",
    "    'Lisbon',\n",
    "    'Brisbane',\n",
    "    'Marrakech',\n",
    "    'Mt-Vesuvius',\n",
    "    'Buenos-Aires',\n",
    "    'Cartagena',\n",
    "    'Mendoza',\n",
    "    'Prague',\n",
    "    'Rio-de-Janeiro'\n",
    "]\n",
    "\n",
    "USD_City = [\n",
    "    'Oahu',\n",
    "    'New-York-City',\n",
    "    'Miami',\n",
    "    'Cancun',\n",
    "    'Vancouver',\n",
    "    'Cappadocia',\n",
    "    'Las-Vegas',\n",
    "    'Niagara-Falls-and-Around',\n",
    "    'Toronto',\n",
    "    'Dubai',\n",
    "    'Montreal',\n",
    "    'San-Francisco',\n",
    "    'Maui',\n",
    "    'Punta-Cana',\n",
    "    'Quebec-City',\n",
    "    'Queenstown',\n",
    "    'Singapore',\n",
    "    'Tokyo'\n",
    "]\n",
    "\n",
    "GBP_City = [\n",
    "    'Belfast',\n",
    "    'Killarney',\n",
    "    'Galway',\n",
    "    'Lanzarote',\n",
    "    'Edinburgh',\n",
    "    'Manchester',\n",
    "    'England',\n",
    "    'London'\n",
    "]"
   ]
  },
  {
   "cell_type": "markdown",
   "id": "8b7cb5ac",
   "metadata": {},
   "source": [
    "*Code below extract the supplier name from the html content*"
   ]
  },
  {
   "cell_type": "code",
   "execution_count": null,
   "id": "964f58bb",
   "metadata": {},
   "outputs": [],
   "source": [
    "# Setting up logging configuration\n",
    "logging.basicConfig(level=logging.INFO,\n",
    "                    format='%(asctime)s [%(levelname)s] - %(message)s',\n",
    "                    datefmt='%Y-%m-%d %H:%M:%S',\n",
    "                    handlers=[logging.FileHandler('viator_getoperator.log'),\n",
    "                               logging.StreamHandler()])\n",
    "\n",
    "\n",
    "class Scraper_API:\n",
    "#     with open(\"config.json\", 'r', encoding='utf-8') as file:\n",
    "#         config = json.load(file)\n",
    "#     api_key = config['api_key']\n",
    "#     file_path_csv_operator = config['file_path_csv_operator']\n",
    "#     file_path_all_links_send_to_scraper = congi['file_path_all_links_send_to_scraper']\n",
    "    \n",
    "    \n",
    "    def __init__(self, api_key, file_path_csv_operator, file_path_all_links_send_to_scraper):\n",
    "        self.API_KEY = api_key\n",
    "        self.file_path_csv_operator = file_path_csv_operator\n",
    "        self.file_path_all_links_send_to_scraper = file_path_all_links_send_to_scraper\n",
    "        self.recursive_calls = 0\n",
    "        logging.info(\"Scraper initialized with API key and file paths.\")\n",
    "\n",
    "    def _load_dataframe_csv(self, file_path):\n",
    "        \"\"\"Load data from CSV into a dataframe.\"\"\"\n",
    "        return pd.read_csv(file_path)\n",
    "    def _load_dataframe_xlsx(self, file_path):\n",
    "        \"\"\"Load data from CSV into a dataframe.\"\"\"\n",
    "        return pd.read_excel(file_path)\n",
    "\n",
    "    def _save_dataframe(self, df, file_path, header=True, mode='w'):\n",
    "        \"\"\"Save dataframe to CSV.\"\"\"\n",
    "        df.to_csv(file_path, index=False, header=header , mode=mode)\n",
    "\n",
    "    def send_url_to_process_supplier_name(self):\n",
    "        \"\"\"Send URLs to the processing service and update the CSV with the response.\"\"\"\n",
    "        # Load dataframe to process\n",
    "        dataframe_to_process = self._load_dataframe_xlsx(self.file_path_csv_operator)\n",
    "        dataframe_to_process = dataframe_to_process[dataframe_to_process['Operator'] == 'ToDo']\n",
    "\n",
    "        # Load the already processed URLs if file exists\n",
    "        if os.path.exists(self.file_path_all_links_send_to_scraper):\n",
    "            processed_data = pd.read_csv(self.file_path_all_links_send_to_scraper)\n",
    "            processed_urls = processed_data['UrlRequest'].unique()\n",
    "        else:\n",
    "            processed_urls = []\n",
    "\n",
    "        # print('To process URL wich will be send')\n",
    "        # display(dataframe_to_process)\n",
    "        country_codes = [\"us\",\"en\"]\n",
    "\n",
    "\n",
    "        # Filter out URLs that have already been processed\n",
    "        dataframe_to_process = dataframe_to_process[~dataframe_to_process['Link'].isin(processed_urls)]\n",
    "\n",
    "         # Initialize progress tracking variables\n",
    "        total_urls = len(dataframe_to_process)\n",
    "        processed_count = 0\n",
    "        for _, row in dataframe_to_process.iterrows():\n",
    "            processed_count += 1\n",
    "            url = row['Link']\n",
    "            random_country_code = random.choice(country_codes)\n",
    "            url_request = requests.post(url = 'https://async.scraperapi.com/jobs', \n",
    "                                        json={'apiKey': self.API_KEY, \n",
    "                                              'country_code': random_country_code,\n",
    "                                              'url': url })\n",
    "            self._handle_url_request_response(url_request, url)\n",
    "\n",
    "            # Log the processing status\n",
    "            percent_done = (processed_count / total_urls) * 100\n",
    "            logging.info(f\"Processing {processed_count}/{total_urls} row. Done {percent_done:.2f}%\")\n",
    "\n",
    "    def _handle_url_request_response(self, response, url):\n",
    "        \"\"\"Handle the response from the URL request.\"\"\"\n",
    "        if response.status_code == 200:\n",
    "            try:\n",
    "                status_url = response.json()['statusUrl']\n",
    "                data_send_df = pd.DataFrame({\n",
    "                    'UrlRequest': [url],\n",
    "                    'UrlResponse': [status_url],\n",
    "                    'Status': 'running',\n",
    "                    'Operator': 'ToDo'\n",
    "                })\n",
    "                self._save_dataframe(data_send_df, \n",
    "                                     self.file_path_all_links_send_to_scraper,\n",
    "                                     header=not os.path.exists(self.file_path_all_links_send_to_scraper),\n",
    "                                     mode='a')\n",
    "                \n",
    "#                 logging.info(f\"Processed URL: {url} with status URL: {status_url}\")\n",
    "            except ValueError:\n",
    "                logging.warning(\"JSON could not be decoded for URL: %s\", url)\n",
    "#                 print(\"JSON could not be decoded\")    \n",
    "        else:\n",
    "            logging.error(f\"HTTP request returned code: {response.status_code} for URL: {url}\")\n",
    "#             print(f\"HTTP request returned code: {response.status_code}\")\n",
    "            \n",
    "            \n",
    "\n",
    "    def check_status_and_add_to_file_path(self):\n",
    "        \"\"\"Check the status of URLs and update the CSV.\"\"\"\n",
    "        all_links = self._load_dataframe_csv(self.file_path_all_links_send_to_scraper)\n",
    "#         print('all_links in check_status_and_add_to_file_path')\n",
    "#         display(all_links)\n",
    "        df_links = all_links[all_links['Status'] == 'running']\n",
    "#         print('df_links in check_status_and_add_to_file_path')\n",
    "#         display(df_links)\n",
    "        \n",
    "        previous_hash = None   # Store the hash of the dataframe for change detection\n",
    "    \n",
    "        while len(df_links[df_links['Status'] == 'running']) > 0:\n",
    "            with concurrent.futures.ThreadPoolExecutor(max_workers=10) as executor:\n",
    "                futures = {executor.submit(self._get_status, url): url for url in df_links['UrlResponse']}\n",
    "                for future in concurrent.futures.as_completed(futures):\n",
    "                    url = futures[future]\n",
    "                    status = future.result()\n",
    "                    # Update the status of these rows in the original dataframe\n",
    "                    all_links.loc[all_links['UrlResponse'] == url, 'Status'] = status\n",
    "                    df_links.loc[df_links['UrlResponse'] == url, 'Status'] = status\n",
    "                    # print(url, status, len(df_links[df_links['Status'] == 'running']))\n",
    "                    # Remove the processed URL from the futures dictionary if its status is 'finished'\n",
    "                    if status == 'finished':\n",
    "                        del futures[future]\n",
    "                        logging.info(f\"Finished processing URL: {url}. Left to process: {len(df_links[df_links['Status'] == 'running'])}\") \n",
    "                    else:\n",
    "                        logging.debug(f\"URL: {url} is still runningm Rows to process{len(df_links[df_links['Status'] == 'running'])}\")\n",
    "                    \n",
    "\n",
    "            # Refresh the df_links dataframe to pick only 'running' URLs\n",
    "            df_links = df_links[df_links['Status'] == 'running']\n",
    "            # Check if the dataframe has changed\n",
    "            current_hash = hash(df_links.to_string())\n",
    "            if previous_hash != current_hash:\n",
    "                self._save_dataframe(all_links, self.file_path_all_links_send_to_scraper)\n",
    "                self.extract_supplier_name()\n",
    "                logging.info(\"Detected changes in df_links and saved the updated dataframe.\")\n",
    "                previous_hash = current_hash\n",
    "            else:\n",
    "                logging.info(\"No changes in df_links. \")\n",
    "            \n",
    "#             if len(df_links[df_links['Status'] == 'running']) <= 3 and previous_hash == current_hash:\n",
    "#                 if self.recursive_calls < 5:  # Check against threshold\n",
    "#                     logging.info(\"Low number of 'running' URLs detected. Triggering further processing...\")\n",
    "#                     self.extract_supplier_name()\n",
    "#                     self.send_url_to_process_supplier_name(150)\n",
    "#                     self.recursive_calls += 1\n",
    "#                     logging.info(f\"Starting recursive call. Current count: {self.recursive_calls}\")\n",
    "#                     self.check_status_and_add_to_file_path(150)\n",
    "#                 else:\n",
    "#                     logging.warning(\"Maximum recursive call threshold reached. Not triggering further processing.\")\n",
    "                \n",
    "#             print('df_links afterwards remvoed running')\n",
    "#             display(df_links)\n",
    "        # Save the entire dataframe back to the CSV, overwriting the original file\n",
    "        self._save_dataframe(all_links, self.file_path_all_links_send_to_scraper)\n",
    "        logging.info(f\"Updated {len(df_links)} links in the dataframe and saved.\")\n",
    "        self.recursive_calls -= 1  # Decrement the counter after processing\n",
    "        logging.info(f\"Recursive calls count: {self.recursive_calls}\")\n",
    "\n",
    "        return f'Updated {len(df_links)} links'\n",
    "\n",
    "\n",
    "    def _get_status(self, url):\n",
    "        \"\"\"Retrieve the status for a given URL.\"\"\"\n",
    "        try:\n",
    "            response = requests.get(url)\n",
    "            return response.json()['status']\n",
    "        except Exception as e:\n",
    "#             print(f\"Error while fetching URL: {url}, Error: {e}\")\n",
    "            logging.error(f\"Error while fetching URL: {url}, Error: {e}\")\n",
    "            return 'error'\n",
    "        \n",
    "    def extract_supplier_name(self):\n",
    "        \"\"\"Extract supplier name from the URLs and update the CSV.\"\"\"\n",
    "        all_links_df = self._load_dataframe_csv(self.file_path_all_links_send_to_scraper)\n",
    "        operator_csv = self._load_dataframe_xlsx(self.file_path_csv_operator)\n",
    "        df = all_links_df[(all_links_df['Status'] == 'finished') & (all_links_df['Operator'] == 'ToDo')]\n",
    "        counter = 1\n",
    "        # Preparing session for HTTPS requests\n",
    "        session = requests.Session()\n",
    "\n",
    "        for _, row in df.iterrows():\n",
    "            supplier_name = self._get_supplier_name_from_url(session, row['UrlResponse'])\n",
    "            logging.info(f\"Extracted supplier name: {supplier_name} for URL: {row['UrlResponse']}\")\n",
    "            all_links_df.loc[all_links_df['UrlResponse'] == row['UrlResponse'], 'Operator'] = supplier_name\n",
    "            operator_csv.loc[operator_csv['Link'] == row['UrlRequest'], 'Operator'] = supplier_name\n",
    "            counter +=1\n",
    "            print(counter)\n",
    "            if counter % 50 == 0:\n",
    "                print(counter, counter % 50)\n",
    "                logging.info('Saving files...')\n",
    "                self._save_dataframe(all_links_df, self.file_path_all_links_send_to_scraper)\n",
    "                self._save_dataframe(operator_csv, self.file_path_csv_operator)\n",
    "\n",
    "        self._save_dataframe(all_links_df, self.file_path_all_links_send_to_scraper)\n",
    "        self._save_dataframe(operator_csv, self.file_path_csv_operator)    \n",
    "\n",
    "    def _get_supplier_name_from_url(self, session, url):\n",
    "        \"\"\"Extract the supplier name from a given URL.\"\"\"\n",
    "        results = session.get(url)\n",
    "        soup = BeautifulSoup(results.content, 'html.parser')\n",
    "        split_supplier = str(soup).split('supplierName')\n",
    "        for supplier in split_supplier:\n",
    "            try:\n",
    "                supplier_name_array = supplier.split('timeZone')\n",
    "                if len(supplier_name_array[0]) <= 100:\n",
    "                    return ''.join(filter(lambda x: x.isalpha() or x.isspace(), supplier_name_array[0]))\n",
    "            except:\n",
    "                logging.error('Time zone not found in the extracted supplier details from URL: %s', url)\n",
    "        return None\n",
    "    \n",
    "\n",
    "\n"
   ]
  },
  {
   "cell_type": "markdown",
   "id": "e1e75575",
   "metadata": {},
   "source": []
  },
  {
   "cell_type": "code",
   "execution_count": null,
   "id": "4cc1464b",
   "metadata": {},
   "outputs": [],
   "source": [
    "# Setting up logging configuration\n",
    "logging.basicConfig(level=logging.INFO,\n",
    "                    format='%(asctime)s [%(levelname)s] - %(message)s',\n",
    "                    datefmt='%Y-%m-%d %H:%M:%S',\n",
    "                    handlers=[logging.FileHandler('viator_getoperator.log'),\n",
    "                              logging.StreamHandler()])\n",
    "\n",
    "class Scraper:\n",
    "    def __init__(self, api_key, file_path_csv_operator, file_path_all_links_send_to_scraper):\n",
    "        self.API_KEY = api_key\n",
    "        self.file_path_csv_operator = file_path_csv_operator\n",
    "        self.file_path_all_links_send_to_scraper = file_path_all_links_send_to_scraper\n",
    "        logging.info(\"Scraper initialized with API key and file paths.\")\n",
    "\n",
    "    def _load_dataframe_csv(self, file_path):\n",
    "        with open(file_path, 'rb') as file:\n",
    "            binary_content = file.read()\n",
    "\n",
    "        # Decode the binary content, ignoring undecodable characters\n",
    "        decoded_content = binary_content.decode('utf-8', errors='ignore')\n",
    "\n",
    "        # Use StringIO to turn the decoded content into a stream\n",
    "        data_stream = StringIO(decoded_content)\n",
    "\n",
    "        # Read the stream into a DataFrame\n",
    "        df = pd.read_csv(data_stream)\n",
    "        return df\n",
    "\n",
    "    def _load_dataframe_xlsx(self, file_path):\n",
    "        return pd.read_excel(file_path)\n",
    "\n",
    "    def _save_dataframe(self, df, file_path, header=True, mode='w'):\n",
    "        df.to_csv(file_path, index=False, header=header, mode=mode)\n",
    "\n",
    "    def send_url_to_process_supplier_name(self):\n",
    "        \"\"\"Process URLs using the updated ZenRows-based API interaction method.\"\"\"\n",
    "        dataframe_to_process = self._load_dataframe_csv(self.file_path_csv_operator)\n",
    "        dataframe_to_process = dataframe_to_process[dataframe_to_process['Operator'] == 'ToDo']\n",
    "\n",
    "        # Check if there are already processed URLs\n",
    "        if os.path.exists(self.file_path_all_links_send_to_scraper):\n",
    "            processed_data = self._load_dataframe_csv(self.file_path_all_links_send_to_scraper)\n",
    "            processed_urls = processed_data['UrlRequest'].unique()\n",
    "        else:\n",
    "            processed_urls = []\n",
    "\n",
    "        # Filter out URLs that have already been processed\n",
    "        dataframe_to_process = dataframe_to_process[~dataframe_to_process['Link'].isin(processed_urls)]\n",
    "        processed_count = 1\n",
    "        total_url_to_do = len(dataframe_to_process)\n",
    "        for _, row in dataframe_to_process.iterrows():\n",
    "            url = row['Link']\n",
    "            response = self._make_zenrows_request(url)\n",
    "            self.extract_supplier_name(response, url)\n",
    "            # Log the progress\n",
    "            percent_done = (processed_count / total_url_to_do) * 100\n",
    "            logging.info(f\"Currently processing {processed_count}. Done {percent_done:.2f}%\")\n",
    "            processed_count += 1\n",
    "\n",
    "            \n",
    "\n",
    "    def _make_zenrows_request(self, url):\n",
    "        \"\"\"Send a request to the ZenRows API.\"\"\"\n",
    "        params = {\n",
    "            'url': url,\n",
    "            'apikey': self.API_KEY,\n",
    "            'js_render': 'true',\n",
    "            'json_response': 'true',\n",
    "            'premium_proxy': 'true'\n",
    "        }\n",
    "        return requests.get('https://api.zenrows.com/v1/', params=params)\n",
    "\n",
    "    def extract_supplier_name(self, response, url):\n",
    "        \"\"\"Extract supplier name from the URLs and update the CSV.\"\"\"\n",
    "        # all_links_df = self._load_dataframe_csv(self.file_path_all_links_send_to_scraper)\n",
    "        operator_csv = self._load_dataframe_csv(self.file_path_csv_operator)\n",
    "        counter = 1\n",
    "        # Preparing session for HTTPS requests\n",
    "        supplier_name = self._get_supplier_name_from_url(response, url)\n",
    "        logging.info(f\"Extracted supplier name: {supplier_name} for URL: {url}\")\n",
    "        operator_csv.loc[operator_csv['Link'] == url, 'Operator'] = supplier_name\n",
    "        counter +=1\n",
    "        print(counter)\n",
    "        if counter % 50 == 0:\n",
    "            print(counter, counter % 50)\n",
    "            logging.info('Saving files...')\n",
    "            self._save_dataframe(operator_csv, self.file_path_csv_operator)\n",
    "\n",
    "        self._save_dataframe(operator_csv, self.file_path_csv_operator)    \n",
    "\n",
    "    def _get_supplier_name_from_url(self, response, url):\n",
    "        \"\"\"Extract the supplier name from a given URL.\"\"\"\n",
    "        \n",
    "        soup = BeautifulSoup(response.content, 'html.parser')\n",
    "        split_supplier = str(soup).split('supplierName')\n",
    "        for supplier in split_supplier:\n",
    "            try:\n",
    "                supplier_name_array = supplier.split('timeZone')\n",
    "                if len(supplier_name_array[0]) <= 100:\n",
    "                    return ''.join(filter(lambda x: x.isalpha() or x.isspace(), supplier_name_array[0]))\n",
    "            except:\n",
    "                logging.error('Time zone not found in the extracted supplier details from URL: %s', url)\n",
    "        return None"
   ]
  },
  {
   "cell_type": "code",
   "execution_count": null,
   "id": "c8485999",
   "metadata": {},
   "outputs": [],
   "source": [
    "# Create an instance of the Scraper class\n",
    "def main():\n",
    "    scraper = Scraper(api_key=API_KEY_ZENROWS, \n",
    "                    file_path_csv_operator=file_path_csv_operator, \n",
    "                    file_path_all_links_send_to_scraper=file_path_all_links_send_to_scraper)\n",
    "\n",
    "    # Read the operator CSV and get the count of 'ToDo' links\n",
    "    \n",
    "    operator_csv = scraper._load_dataframe_csv(scraper.file_path_csv_operator)\n",
    "    print(f\"There are {len(operator_csv[operator_csv['Operator'] == 'ToDo'])} links to do\")\n",
    "\n",
    "    # Continue processing as long as there are 'ToDo' links\n",
    "    while len(operator_csv[operator_csv['Operator'] == 'ToDo']) > 0:\n",
    "        print(\"send_url_to_process_supplier_name_and_extract_data\")\n",
    "        scraper.send_url_to_process_supplier_name()\n",
    "        operator_csv = pd.read_csv(scraper.file_path_csv_operator)\n",
    "        print(f\"There are {len(operator_csv[operator_csv['Operator'] == 'ToDo'])} links to do\")"
   ]
  },
  {
   "cell_type": "code",
   "execution_count": null,
   "id": "b0e41769",
   "metadata": {
    "scrolled": true
   },
   "outputs": [],
   "source": [
    "# # Create an instance of the Scraper class\n",
    "# def main():\n",
    "#     scraper = Scraper_API(api_key=API_KEY, \n",
    "#                     file_path_csv_operator=file_path_xlsx_operator, \n",
    "#                     file_path_all_links_send_to_scraper=file_path_all_links_send_to_scraper)\n",
    "\n",
    "#     # Read the operator CSV and get the count of 'ToDo' links\n",
    "#     operator_csv = pd.read_csv(scraper.file_path_csv_operator)\n",
    "#     print(f\"There are {len(operator_csv[operator_csv['Operator'] == 'ToDo'])} links to do\")\n",
    "\n",
    "#     # Continue processing as long as there are 'ToDo' links\n",
    "#     while len(operator_csv[operator_csv['Operator'] == 'ToDo']) > 0:\n",
    "#         print(\"send_url_to_process_supplier_name\")\n",
    "#         scraper.send_url_to_process_supplier_name()\n",
    "#         print(\"check_status_and_add_to_file_path\")\n",
    "#         scraper.check_status_and_add_to_file_path()\n",
    "#         print(\"extract_supplier_name\")\n",
    "#         scraper.extract_supplier_name()\n",
    "#         operator_csv = pd.read_csv(scraper.file_path_csv_operator)\n",
    "#         print(f\"There are {len(operator_csv[operator_csv['Operator'] == 'ToDo'])} links to do\")"
   ]
  },
  {
   "cell_type": "code",
   "execution_count": 11,
   "id": "3803a3e6",
   "metadata": {},
   "outputs": [
    {
     "name": "stderr",
     "output_type": "stream",
     "text": [
      "2024-04-15 16:04:05 [INFO] - Extracted supplier name: Buyourtour di Amo Italy Travel for URL: https://www.viator.com/tours/sorrento/one-day-quad-experience-on-mount-faito/d947-136733p53\n"
     ]
    },
    {
     "name": "stdout",
     "output_type": "stream",
     "text": [
      "2\n"
     ]
    },
    {
     "name": "stderr",
     "output_type": "stream",
     "text": [
      "2024-04-15 16:04:06 [INFO] - Currently processing 488. Done 74.85%\n",
      "2024-04-15 16:04:19 [INFO] - Extracted supplier name: Food Tours of Sorrento for URL: https://www.viator.com/tours/sorrento/amalfi-coast-experience-with-sunset-dinner/d947-141775p6\n"
     ]
    },
    {
     "name": "stdout",
     "output_type": "stream",
     "text": [
      "2\n"
     ]
    },
    {
     "name": "stderr",
     "output_type": "stream",
     "text": [
      "2024-04-15 16:04:20 [INFO] - Currently processing 489. Done 75.00%\n",
      "2024-04-15 16:04:26 [INFO] - Extracted supplier name: Positano Boat Tour for URL: https://www.viator.com/tours/sorrento/full-day-private-boat-tour-of-capri-departure-from-sorrento/d947-414862p6\n"
     ]
    },
    {
     "name": "stdout",
     "output_type": "stream",
     "text": [
      "2\n"
     ]
    },
    {
     "name": "stderr",
     "output_type": "stream",
     "text": [
      "2024-04-15 16:04:27 [INFO] - Currently processing 490. Done 75.15%\n",
      "2024-04-15 16:04:34 [INFO] - Extracted supplier name: Sorrento Daily Tours for URL: https://www.viator.com/tours/sorrento/guided-tour-to-pompeii-from-sorrento/d947-126730p10\n"
     ]
    },
    {
     "name": "stdout",
     "output_type": "stream",
     "text": [
      "2\n"
     ]
    },
    {
     "name": "stderr",
     "output_type": "stream",
     "text": [
      "2024-04-15 16:04:35 [INFO] - Currently processing 491. Done 75.31%\n",
      "2024-04-15 16:05:14 [INFO] - Extracted supplier name: Good Heart Limos for URL: https://www.viator.com/tours/sorrento/sorrento-pizza-making-class-with-local-pizzaiolo/d947-59379p24\n"
     ]
    },
    {
     "name": "stdout",
     "output_type": "stream",
     "text": [
      "2\n"
     ]
    },
    {
     "name": "stderr",
     "output_type": "stream",
     "text": [
      "2024-04-15 16:05:15 [INFO] - Currently processing 492. Done 75.46%\n",
      "2024-04-15 16:05:34 [INFO] - Extracted supplier name: In Vino Veritas for URL: https://www.viator.com/tours/sorrento/campania-wine-tasting-with-traditional-foods/d947-404853p1\n"
     ]
    },
    {
     "name": "stdout",
     "output_type": "stream",
     "text": [
      "2\n"
     ]
    },
    {
     "name": "stderr",
     "output_type": "stream",
     "text": [
      "2024-04-15 16:05:34 [INFO] - Currently processing 493. Done 75.61%\n",
      "2024-04-15 16:06:00 [INFO] - Extracted supplier name: Btravel for URL: https://www.viator.com/tours/sorrento/amalfi-and-positano-cruise/d947-467076p6\n"
     ]
    },
    {
     "name": "stdout",
     "output_type": "stream",
     "text": [
      "2\n"
     ]
    },
    {
     "name": "stderr",
     "output_type": "stream",
     "text": [
      "2024-04-15 16:06:00 [INFO] - Currently processing 494. Done 75.77%\n",
      "2024-04-15 16:06:09 [INFO] - Extracted supplier name: DeA in Cucina for URL: https://www.viator.com/tours/sorrento/fresh-pasta-and-limoncello-course-in-a-lemon-grove/d947-465052p3\n"
     ]
    },
    {
     "name": "stdout",
     "output_type": "stream",
     "text": [
      "2\n"
     ]
    },
    {
     "name": "stderr",
     "output_type": "stream",
     "text": [
      "2024-04-15 16:06:10 [INFO] - Currently processing 495. Done 75.92%\n",
      "2024-04-15 16:06:30 [INFO] - Extracted supplier name: Buyourtour di Amo Italy Travel for URL: https://www.viator.com/tours/sorrento/pompeii-experience-entrance-ticket-and-guide/d947-136733p49\n"
     ]
    },
    {
     "name": "stdout",
     "output_type": "stream",
     "text": [
      "2\n"
     ]
    },
    {
     "name": "stderr",
     "output_type": "stream",
     "text": [
      "2024-04-15 16:06:31 [INFO] - Currently processing 496. Done 76.07%\n",
      "2024-04-15 16:06:49 [INFO] - Extracted supplier name: Discovering Pompeii for URL: https://www.viator.com/tours/sorrento/roundtrip-naples-to-sorrento-and-sorrento-to-naples/d947-119050p19\n"
     ]
    },
    {
     "name": "stdout",
     "output_type": "stream",
     "text": [
      "2\n"
     ]
    },
    {
     "name": "stderr",
     "output_type": "stream",
     "text": [
      "2024-04-15 16:06:49 [INFO] - Currently processing 497. Done 76.23%\n",
      "C:\\Users\\Wojciech\\AppData\\Local\\Temp\\ipykernel_14628\\2115290241.py:94: MarkupResemblesLocatorWarning: The input looks more like a filename than markup. You may want to open this file and pass the filehandle into Beautiful Soup.\n",
      "  soup = BeautifulSoup(response.content, 'html.parser')\n",
      "2024-04-15 16:07:02 [INFO] - Extracted supplier name: None for URL: https://www.viator.com/tours/sorrento/amalfi-coast-private-tour-from-sorrento-mercedes-sedan-and-guide/d947-136733p39\n"
     ]
    },
    {
     "name": "stdout",
     "output_type": "stream",
     "text": [
      "2\n"
     ]
    },
    {
     "name": "stderr",
     "output_type": "stream",
     "text": [
      "2024-04-15 16:07:03 [INFO] - Currently processing 498. Done 76.38%\n",
      "2024-04-15 16:07:11 [INFO] - Extracted supplier name: Exclusive Dreams for URL: https://www.viator.com/tours/sorrento/3-hour-sunset-tour-in-vintage-cars-in-sorrento/d947-167738p6\n"
     ]
    },
    {
     "name": "stdout",
     "output_type": "stream",
     "text": [
      "2\n"
     ]
    },
    {
     "name": "stderr",
     "output_type": "stream",
     "text": [
      "2024-04-15 16:07:12 [INFO] - Currently processing 499. Done 76.53%\n",
      "2024-04-15 16:07:18 [INFO] - Extracted supplier name: GaMa Travel Sorrento for URL: https://www.viator.com/tours/sorrento/private-transfer-to-naples/d947-59952p4\n"
     ]
    },
    {
     "name": "stdout",
     "output_type": "stream",
     "text": [
      "2\n"
     ]
    },
    {
     "name": "stderr",
     "output_type": "stream",
     "text": [
      "2024-04-15 16:07:19 [INFO] - Currently processing 500. Done 76.69%\n",
      "2024-04-15 16:07:37 [INFO] - Extracted supplier name: Sorrento Daily Tours for URL: https://www.viator.com/tours/sorrento/capri-on-boats/d947-126730p1\n"
     ]
    },
    {
     "name": "stdout",
     "output_type": "stream",
     "text": [
      "2\n"
     ]
    },
    {
     "name": "stderr",
     "output_type": "stream",
     "text": [
      "2024-04-15 16:07:38 [INFO] - Currently processing 501. Done 76.84%\n",
      "2024-04-15 16:07:45 [INFO] - Extracted supplier name: Btravel for URL: https://www.viator.com/tours/sorrento/amalfi-coast-by-minivan/d947-467076p4\n"
     ]
    },
    {
     "name": "stdout",
     "output_type": "stream",
     "text": [
      "2\n"
     ]
    },
    {
     "name": "stderr",
     "output_type": "stream",
     "text": [
      "2024-04-15 16:07:46 [INFO] - Currently processing 502. Done 76.99%\n",
      "2024-04-15 16:08:08 [INFO] - Extracted supplier name: Mag Charter boat tours for URL: https://www.viator.com/tours/sorrento/4-hours-guided-tour-of-the-limoneto-with-pizza-cooking-class/d947-409699p8\n"
     ]
    },
    {
     "name": "stdout",
     "output_type": "stream",
     "text": [
      "2\n"
     ]
    },
    {
     "name": "stderr",
     "output_type": "stream",
     "text": [
      "2024-04-15 16:08:09 [INFO] - Currently processing 503. Done 77.15%\n",
      "C:\\Users\\Wojciech\\AppData\\Local\\Temp\\ipykernel_14628\\2115290241.py:94: MarkupResemblesLocatorWarning: The input looks more like a filename than markup. You may want to open this file and pass the filehandle into Beautiful Soup.\n",
      "  soup = BeautifulSoup(response.content, 'html.parser')\n",
      "2024-04-15 16:08:24 [INFO] - Extracted supplier name: None for URL: https://www.viator.com/tours/sorrento/sorrento-private-photoshoot-with-a-professional-photographer/d947-449335p4\n"
     ]
    },
    {
     "name": "stdout",
     "output_type": "stream",
     "text": [
      "2\n"
     ]
    },
    {
     "name": "stderr",
     "output_type": "stream",
     "text": [
      "2024-04-15 16:08:25 [INFO] - Currently processing 504. Done 77.30%\n",
      "2024-04-15 16:08:49 [INFO] - Extracted supplier name: Buyourtour di Amo Italy Travel for URL: https://www.viator.com/tours/sorrento/sorrento-walking-and-tasting-tour/d947-136733p50\n"
     ]
    },
    {
     "name": "stdout",
     "output_type": "stream",
     "text": [
      "2\n"
     ]
    },
    {
     "name": "stderr",
     "output_type": "stream",
     "text": [
      "2024-04-15 16:08:50 [INFO] - Currently processing 505. Done 77.45%\n",
      "2024-04-15 16:09:06 [INFO] - Extracted supplier name: Good Heart Limos for URL: https://www.viator.com/tours/sorrento/sorrento-cooking-experience-cook-like-a-local/d947-59379p20\n"
     ]
    },
    {
     "name": "stdout",
     "output_type": "stream",
     "text": [
      "2\n"
     ]
    },
    {
     "name": "stderr",
     "output_type": "stream",
     "text": [
      "2024-04-15 16:09:06 [INFO] - Currently processing 506. Done 77.61%\n",
      "2024-04-15 16:09:25 [INFO] - Extracted supplier name: Wherever Tours for URL: https://www.viator.com/tours/sorrento/cooking-class-experience-in-sorrento/d947-119582p4\n"
     ]
    },
    {
     "name": "stdout",
     "output_type": "stream",
     "text": [
      "2\n"
     ]
    },
    {
     "name": "stderr",
     "output_type": "stream",
     "text": [
      "2024-04-15 16:09:26 [INFO] - Currently processing 507. Done 77.76%\n",
      "2024-04-15 16:09:32 [INFO] - Extracted supplier name: DeA in Cucina for URL: https://www.viator.com/tours/sorrento/authentic-cooking-class-on-a-farm-with-a-view-of-sorrento/d947-465052p1\n"
     ]
    },
    {
     "name": "stdout",
     "output_type": "stream",
     "text": [
      "2\n"
     ]
    },
    {
     "name": "stderr",
     "output_type": "stream",
     "text": [
      "2024-04-15 16:09:32 [INFO] - Currently processing 508. Done 77.91%\n",
      "C:\\Users\\Wojciech\\AppData\\Local\\Temp\\ipykernel_14628\\2115290241.py:94: MarkupResemblesLocatorWarning: The input looks more like a filename than markup. You may want to open this file and pass the filehandle into Beautiful Soup.\n",
      "  soup = BeautifulSoup(response.content, 'html.parser')\n",
      "2024-04-15 16:09:45 [INFO] - Extracted supplier name: None for URL: https://www.viator.com/tours/sorrento/3-hour-walking-tour-of-sorrento-with-local-food-tasting/d947-471541p1\n"
     ]
    },
    {
     "name": "stdout",
     "output_type": "stream",
     "text": [
      "2\n"
     ]
    },
    {
     "name": "stderr",
     "output_type": "stream",
     "text": [
      "2024-04-15 16:09:46 [INFO] - Currently processing 509. Done 78.07%\n",
      "2024-04-15 16:10:33 [INFO] - Extracted supplier name: Lentino Driver Tours for URL: https://www.viator.com/tours/sorrento/transfers-from-rome-to-sorrento-and-vice-versa/d947-144454p5\n"
     ]
    },
    {
     "name": "stdout",
     "output_type": "stream",
     "text": [
      "2\n"
     ]
    },
    {
     "name": "stderr",
     "output_type": "stream",
     "text": [
      "2024-04-15 16:10:34 [INFO] - Currently processing 510. Done 78.22%\n",
      "2024-04-15 16:10:41 [INFO] - Extracted supplier name: Cooperativa Azzurra Sorrento for URL: https://www.viator.com/tours/sorrento/sorrento-coast-cruise-in-typical-gozzo-with-limoncello-taste/d947-454910p2\n"
     ]
    },
    {
     "name": "stdout",
     "output_type": "stream",
     "text": [
      "2\n"
     ]
    },
    {
     "name": "stderr",
     "output_type": "stream",
     "text": [
      "2024-04-15 16:10:42 [INFO] - Currently processing 511. Done 78.37%\n",
      "2024-04-15 16:10:56 [INFO] - Extracted supplier name: Tours of Amalfi Coast  Capri Pompeii  More for URL: https://www.viator.com/tours/sorrento/day-tour-from-sorrento-to-positano-amalfi-and-ravello/d947-182116p1\n"
     ]
    },
    {
     "name": "stdout",
     "output_type": "stream",
     "text": [
      "2\n"
     ]
    },
    {
     "name": "stderr",
     "output_type": "stream",
     "text": [
      "2024-04-15 16:10:57 [INFO] - Currently processing 512. Done 78.53%\n",
      "2024-04-15 16:11:09 [INFO] - Extracted supplier name: Cooperativa Azzurra Sorrento for URL: https://www.viator.com/tours/sorrento/sorrento-sunset-semi-private-experience/d947-454910p4\n"
     ]
    },
    {
     "name": "stdout",
     "output_type": "stream",
     "text": [
      "2\n"
     ]
    },
    {
     "name": "stderr",
     "output_type": "stream",
     "text": [
      "2024-04-15 16:11:09 [INFO] - Currently processing 513. Done 78.68%\n",
      "2024-04-15 16:11:20 [INFO] - Extracted supplier name: DeA in Cucina for URL: https://www.viator.com/tours/sorrento/mozzarella-experience-with-private-cooking-class/d947-465052p2\n"
     ]
    },
    {
     "name": "stdout",
     "output_type": "stream",
     "text": [
      "2\n"
     ]
    },
    {
     "name": "stderr",
     "output_type": "stream",
     "text": [
      "2024-04-15 16:11:21 [INFO] - Currently processing 514. Done 78.83%\n",
      "C:\\Users\\Wojciech\\AppData\\Local\\Temp\\ipykernel_14628\\2115290241.py:94: MarkupResemblesLocatorWarning: The input looks more like a filename than markup. You may want to open this file and pass the filehandle into Beautiful Soup.\n",
      "  soup = BeautifulSoup(response.content, 'html.parser')\n",
      "2024-04-15 16:12:12 [INFO] - Extracted supplier name: None for URL: https://www.viator.com/tours/amalfi/full-day-boat-tour-of-capri/d33601-306009p3\n"
     ]
    },
    {
     "name": "stdout",
     "output_type": "stream",
     "text": [
      "2\n"
     ]
    },
    {
     "name": "stderr",
     "output_type": "stream",
     "text": [
      "2024-04-15 16:12:13 [INFO] - Currently processing 515. Done 78.99%\n",
      "2024-04-15 16:12:21 [INFO] - Extracted supplier name: Nick Brown for URL: https://www.viator.com/tours/london/edinburgh-new-year-hogmanay-2023-tourchlight-possession/d737-340495p8\n"
     ]
    },
    {
     "name": "stdout",
     "output_type": "stream",
     "text": [
      "2\n"
     ]
    },
    {
     "name": "stderr",
     "output_type": "stream",
     "text": [
      "2024-04-15 16:12:21 [INFO] - Currently processing 516. Done 79.14%\n",
      "2024-04-15 16:12:34 [INFO] - Extracted supplier name: International Friends for URL: https://www.viator.com/tours/london/champagne-reception-and-late-night-tour-warner-bros-studio-tour/d737-5528p84\n"
     ]
    },
    {
     "name": "stdout",
     "output_type": "stream",
     "text": [
      "2\n"
     ]
    },
    {
     "name": "stderr",
     "output_type": "stream",
     "text": [
      "2024-04-15 16:12:34 [INFO] - Currently processing 517. Done 79.29%\n",
      "2024-04-15 16:12:44 [INFO] - Extracted supplier name: Nick Brown for URL: https://www.viator.com/tours/london/magical-buckingham-palace-and-changing-of-the-guard/d737-340495p18\n"
     ]
    },
    {
     "name": "stdout",
     "output_type": "stream",
     "text": [
      "2\n"
     ]
    },
    {
     "name": "stderr",
     "output_type": "stream",
     "text": [
      "2024-04-15 16:12:44 [INFO] - Currently processing 518. Done 79.45%\n",
      "2024-04-15 16:12:51 [INFO] - Extracted supplier name: Nick Brown for URL: https://www.viator.com/tours/london/trafalgar-square-and-covent-garden-tour/d737-340495p13\n"
     ]
    },
    {
     "name": "stdout",
     "output_type": "stream",
     "text": [
      "2\n"
     ]
    },
    {
     "name": "stderr",
     "output_type": "stream",
     "text": [
      "2024-04-15 16:12:52 [INFO] - Currently processing 519. Done 79.60%\n",
      "C:\\Users\\Wojciech\\AppData\\Local\\Temp\\ipykernel_14628\\2115290241.py:94: MarkupResemblesLocatorWarning: The input looks more like a filename than markup. You may want to open this file and pass the filehandle into Beautiful Soup.\n",
      "  soup = BeautifulSoup(response.content, 'html.parser')\n",
      "2024-04-15 16:13:03 [INFO] - Extracted supplier name: None for URL: https://www.viator.com/tours/london/private-day-tour-of-magical-windsor-castle-and-stonehenge/d737-340495p22\n"
     ]
    },
    {
     "name": "stdout",
     "output_type": "stream",
     "text": [
      "2\n"
     ]
    },
    {
     "name": "stderr",
     "output_type": "stream",
     "text": [
      "2024-04-15 16:13:04 [INFO] - Currently processing 520. Done 79.75%\n",
      "2024-04-15 16:13:17 [INFO] - Extracted supplier name: Black Cab Heritage Tours for URL: https://www.viator.com/tours/london/ted-lasso-filming-locations-in-richmond-private-half-day-tour/d737-106826p41\n"
     ]
    },
    {
     "name": "stdout",
     "output_type": "stream",
     "text": [
      "2\n"
     ]
    },
    {
     "name": "stderr",
     "output_type": "stream",
     "text": [
      "2024-04-15 16:13:17 [INFO] - Currently processing 521. Done 79.91%\n",
      "C:\\Users\\Wojciech\\AppData\\Local\\Temp\\ipykernel_14628\\2115290241.py:94: MarkupResemblesLocatorWarning: The input looks more like a filename than markup. You may want to open this file and pass the filehandle into Beautiful Soup.\n",
      "  soup = BeautifulSoup(response.content, 'html.parser')\n",
      "2024-04-15 16:13:25 [INFO] - Extracted supplier name: None for URL: https://www.viator.com/tours/london/oxford-cotswolds-and-country-pub-lunch/d737-5528p82\n"
     ]
    },
    {
     "name": "stdout",
     "output_type": "stream",
     "text": [
      "2\n"
     ]
    },
    {
     "name": "stderr",
     "output_type": "stream",
     "text": [
      "2024-04-15 16:13:25 [INFO] - Currently processing 522. Done 80.06%\n",
      "2024-04-15 16:13:39 [INFO] - Extracted supplier name: Evan Evans Tours for URL: https://www.viator.com/tours/london/dover-castle-and-rochester-castle/d737-3858p258\n"
     ]
    },
    {
     "name": "stdout",
     "output_type": "stream",
     "text": [
      "2\n"
     ]
    },
    {
     "name": "stderr",
     "output_type": "stream",
     "text": [
      "2024-04-15 16:13:39 [INFO] - Currently processing 523. Done 80.21%\n",
      "2024-04-15 16:13:52 [INFO] - Extracted supplier name: Positano Tonytaxi Private Tours  Transfers for URL: https://www.viator.com/tours/positano/private-transfer-from-positano-to-naples/d33602-142559p6\n"
     ]
    },
    {
     "name": "stdout",
     "output_type": "stream",
     "text": [
      "2\n"
     ]
    },
    {
     "name": "stderr",
     "output_type": "stream",
     "text": [
      "2024-04-15 16:13:53 [INFO] - Currently processing 524. Done 80.37%\n",
      "C:\\Users\\Wojciech\\AppData\\Local\\Temp\\ipykernel_14628\\2115290241.py:94: MarkupResemblesLocatorWarning: The input looks more like a filename than markup. You may want to open this file and pass the filehandle into Beautiful Soup.\n",
      "  soup = BeautifulSoup(response.content, 'html.parser')\n",
      "2024-04-15 16:14:03 [INFO] - Extracted supplier name: None for URL: https://www.viator.com/tours/amalfi/full-day-boat-tour-to-capri-from-praiano/d33601-414862p8\n"
     ]
    },
    {
     "name": "stdout",
     "output_type": "stream",
     "text": [
      "2\n"
     ]
    },
    {
     "name": "stderr",
     "output_type": "stream",
     "text": [
      "2024-04-15 16:14:04 [INFO] - Currently processing 525. Done 80.52%\n",
      "2024-04-15 16:14:19 [INFO] - Extracted supplier name: Cassiopea for URL: https://www.viator.com/tours/positano/amalfi-coast-cruise-full-day-group-tour-experience-from-positano/d33602-147182p6\n"
     ]
    },
    {
     "name": "stdout",
     "output_type": "stream",
     "text": [
      "2\n"
     ]
    },
    {
     "name": "stderr",
     "output_type": "stream",
     "text": [
      "2024-04-15 16:14:20 [INFO] - Currently processing 526. Done 80.67%\n",
      "2024-04-15 16:14:26 [INFO] - Extracted supplier name: Myfoodtoursorrento for URL: https://www.viator.com/tours/positano/mozzarella-tour-and-more/d33602-464812p1\n"
     ]
    },
    {
     "name": "stdout",
     "output_type": "stream",
     "text": [
      "2\n"
     ]
    },
    {
     "name": "stderr",
     "output_type": "stream",
     "text": [
      "2024-04-15 16:14:27 [INFO] - Currently processing 527. Done 80.83%\n",
      "2024-04-15 16:14:32 [INFO] - Extracted supplier name: Antichi Sapori dAmalfi for URL: https://www.viator.com/tours/amalfi/learn-how-to-make-amalfi-limoncello/d33601-34132p1\n"
     ]
    },
    {
     "name": "stdout",
     "output_type": "stream",
     "text": [
      "2\n"
     ]
    },
    {
     "name": "stderr",
     "output_type": "stream",
     "text": [
      "2024-04-15 16:14:32 [INFO] - Currently processing 528. Done 80.98%\n",
      "C:\\Users\\Wojciech\\AppData\\Local\\Temp\\ipykernel_14628\\2115290241.py:94: MarkupResemblesLocatorWarning: The input looks more like a filename than markup. You may want to open this file and pass the filehandle into Beautiful Soup.\n",
      "  soup = BeautifulSoup(response.content, 'html.parser')\n",
      "2024-04-15 16:14:45 [INFO] - Extracted supplier name: None for URL: https://www.viator.com/tours/positano/amalfi-coast-grottos-speed-tour/d33602-29823p9\n"
     ]
    },
    {
     "name": "stdout",
     "output_type": "stream",
     "text": [
      "2\n"
     ]
    },
    {
     "name": "stderr",
     "output_type": "stream",
     "text": [
      "2024-04-15 16:14:46 [INFO] - Currently processing 529. Done 81.13%\n",
      "C:\\Users\\Wojciech\\AppData\\Local\\Temp\\ipykernel_14628\\2115290241.py:94: MarkupResemblesLocatorWarning: The input looks more like a filename than markup. You may want to open this file and pass the filehandle into Beautiful Soup.\n",
      "  soup = BeautifulSoup(response.content, 'html.parser')\n",
      "2024-04-15 16:16:46 [INFO] - Extracted supplier name: None for URL: https://www.viator.com/tours/salerno/private-boat-tour-of-the-cost-of-amalfi/d4736-471522p1\n"
     ]
    },
    {
     "name": "stdout",
     "output_type": "stream",
     "text": [
      "2\n"
     ]
    },
    {
     "name": "stderr",
     "output_type": "stream",
     "text": [
      "2024-04-15 16:16:47 [INFO] - Currently processing 530. Done 81.29%\n",
      "2024-04-15 16:17:09 [INFO] - Extracted supplier name: Hoppy Tours for URL: https://www.viator.com/tours/krakow/hoppy-tours-krakow-brewery-tour/d529-90008p1\n"
     ]
    },
    {
     "name": "stdout",
     "output_type": "stream",
     "text": [
      "2\n"
     ]
    },
    {
     "name": "stderr",
     "output_type": "stream",
     "text": [
      "2024-04-15 16:17:10 [INFO] - Currently processing 531. Done 81.44%\n",
      "2024-04-15 16:17:23 [INFO] - Extracted supplier name: citytourkrakowcom for URL: https://www.viator.com/tours/krakow/krakow-folk-show-dinner-drinking-and-fun-book-now/d529-325744p4\n"
     ]
    },
    {
     "name": "stdout",
     "output_type": "stream",
     "text": [
      "2\n"
     ]
    },
    {
     "name": "stderr",
     "output_type": "stream",
     "text": [
      "2024-04-15 16:17:23 [INFO] - Currently processing 532. Done 81.60%\n",
      "2024-04-15 16:17:30 [INFO] - Extracted supplier name: Discover Cracow for URL: https://www.viator.com/tours/krakow/auschwitz-birkenau-guided-tour-with-guaranteed-start-time/d529-5752p125\n"
     ]
    },
    {
     "name": "stdout",
     "output_type": "stream",
     "text": [
      "2\n"
     ]
    },
    {
     "name": "stderr",
     "output_type": "stream",
     "text": [
      "2024-04-15 16:17:31 [INFO] - Currently processing 533. Done 81.75%\n",
      "2024-04-15 16:17:41 [INFO] - Extracted supplier name: Discover Poland for URL: https://www.viator.com/tours/krakow/premium-tour-wieliczka-salt-mine-english-tour-with-hotel-pick-up/d529-153088p29\n"
     ]
    },
    {
     "name": "stdout",
     "output_type": "stream",
     "text": [
      "2\n"
     ]
    },
    {
     "name": "stderr",
     "output_type": "stream",
     "text": [
      "2024-04-15 16:17:41 [INFO] - Currently processing 534. Done 81.90%\n",
      "C:\\Users\\Wojciech\\AppData\\Local\\Temp\\ipykernel_14628\\2115290241.py:94: MarkupResemblesLocatorWarning: The input looks more like a filename than markup. You may want to open this file and pass the filehandle into Beautiful Soup.\n",
      "  soup = BeautifulSoup(response.content, 'html.parser')\n",
      "2024-04-15 16:17:49 [INFO] - Extracted supplier name: None for URL: https://www.viator.com/tours/krakow/shooting-range-with-hotel-pickup/d529-5752p129\n"
     ]
    },
    {
     "name": "stdout",
     "output_type": "stream",
     "text": [
      "2\n"
     ]
    },
    {
     "name": "stderr",
     "output_type": "stream",
     "text": [
      "2024-04-15 16:17:50 [INFO] - Currently processing 535. Done 82.06%\n",
      "2024-04-15 16:18:08 [INFO] - Extracted supplier name: My Krakow Driver for URL: https://www.viator.com/tours/krakow/auschwitz-birkenau-guided-tour-with-private-transport-from-krakow/d529-285957p3\n"
     ]
    },
    {
     "name": "stdout",
     "output_type": "stream",
     "text": [
      "2\n"
     ]
    },
    {
     "name": "stderr",
     "output_type": "stream",
     "text": [
      "2024-04-15 16:18:09 [INFO] - Currently processing 536. Done 82.21%\n",
      "2024-04-15 16:18:19 [INFO] - Extracted supplier name: Jacek Legendziewicz JORDAN GROUP for URL: https://www.viator.com/tours/krakow/krakow-hop-on-hop-off-bus-ticket/d529-70420p6\n"
     ]
    },
    {
     "name": "stdout",
     "output_type": "stream",
     "text": [
      "2\n"
     ]
    },
    {
     "name": "stderr",
     "output_type": "stream",
     "text": [
      "2024-04-15 16:18:19 [INFO] - Currently processing 537. Done 82.36%\n",
      "2024-04-15 16:18:25 [INFO] - Extracted supplier name: Level Tours Krakow for URL: https://www.viator.com/tours/krakow/zakopane-tour-from-krakow-with-funicular-and-thermal-pools/d529-456679p1\n"
     ]
    },
    {
     "name": "stdout",
     "output_type": "stream",
     "text": [
      "2\n"
     ]
    },
    {
     "name": "stderr",
     "output_type": "stream",
     "text": [
      "2024-04-15 16:18:26 [INFO] - Currently processing 538. Done 82.52%\n",
      "2024-04-15 16:18:32 [INFO] - Extracted supplier name: Discover Poland for URL: https://www.viator.com/tours/krakow/auschwitz-birkenau-memorial-tour-with-english-guide/d529-153088p30\n"
     ]
    },
    {
     "name": "stdout",
     "output_type": "stream",
     "text": [
      "2\n"
     ]
    },
    {
     "name": "stderr",
     "output_type": "stream",
     "text": [
      "2024-04-15 16:18:32 [INFO] - Currently processing 539. Done 82.67%\n",
      "C:\\Users\\Wojciech\\AppData\\Local\\Temp\\ipykernel_14628\\2115290241.py:94: MarkupResemblesLocatorWarning: The input looks more like a filename than markup. You may want to open this file and pass the filehandle into Beautiful Soup.\n",
      "  soup = BeautifulSoup(response.content, 'html.parser')\n",
      "2024-04-15 16:18:41 [INFO] - Extracted supplier name: None for URL: https://www.viator.com/tours/krakow/salt-mine-wieliczka-guided-zero-emission-tour-from-krakow/d529-461939p1\n"
     ]
    },
    {
     "name": "stdout",
     "output_type": "stream",
     "text": [
      "2\n"
     ]
    },
    {
     "name": "stderr",
     "output_type": "stream",
     "text": [
      "2024-04-15 16:18:42 [INFO] - Currently processing 540. Done 82.82%\n",
      "C:\\Users\\Wojciech\\AppData\\Local\\Temp\\ipykernel_14628\\2115290241.py:94: MarkupResemblesLocatorWarning: The input looks more like a filename than markup. You may want to open this file and pass the filehandle into Beautiful Soup.\n",
      "  soup = BeautifulSoup(response.content, 'html.parser')\n",
      "2024-04-15 16:18:49 [INFO] - Extracted supplier name: None for URL: https://www.viator.com/tours/krakow/scary-stories-of-krakow/d529-458869p2\n"
     ]
    },
    {
     "name": "stdout",
     "output_type": "stream",
     "text": [
      "2\n"
     ]
    },
    {
     "name": "stderr",
     "output_type": "stream",
     "text": [
      "2024-04-15 16:18:50 [INFO] - Currently processing 541. Done 82.98%\n",
      "2024-04-15 16:19:06 [INFO] - Extracted supplier name: Gray Line Sightseeing Munich for URL: https://www.viator.com/tours/munich/small-group-neuschwanstein-and-linderhof-castle-luxury-coach-day-trip-from-munich/d487-2850premuim\n"
     ]
    },
    {
     "name": "stdout",
     "output_type": "stream",
     "text": [
      "2\n"
     ]
    },
    {
     "name": "stderr",
     "output_type": "stream",
     "text": [
      "2024-04-15 16:19:07 [INFO] - Currently processing 542. Done 83.13%\n",
      "2024-04-15 16:19:17 [INFO] - Extracted supplier name: Gray Line Sightseeing Munich for URL: https://www.viator.com/tours/munich/royal-castles-of-neuschwanstein-and-linderhof-day-tour-from-munich/d487-285016\n"
     ]
    },
    {
     "name": "stdout",
     "output_type": "stream",
     "text": [
      "2\n"
     ]
    },
    {
     "name": "stderr",
     "output_type": "stream",
     "text": [
      "2024-04-15 16:19:17 [INFO] - Currently processing 543. Done 83.28%\n",
      "2024-04-15 16:19:32 [INFO] - Extracted supplier name: Radius Tours GmbH for URL: https://www.viator.com/tours/munich/salzburg-small-group-day-tour-from-munich/d487-2666music\n"
     ]
    },
    {
     "name": "stdout",
     "output_type": "stream",
     "text": [
      "2\n"
     ]
    },
    {
     "name": "stderr",
     "output_type": "stream",
     "text": [
      "2024-04-15 16:19:32 [INFO] - Currently processing 544. Done 83.44%\n",
      "2024-04-15 16:19:47 [INFO] - Extracted supplier name: Radius Tours GmbH for URL: https://www.viator.com/tours/munich/dachau-concentration-camp-memorial-site-tour-from-munich-by-train/d487-2666camp\n"
     ]
    },
    {
     "name": "stdout",
     "output_type": "stream",
     "text": [
      "2\n"
     ]
    },
    {
     "name": "stderr",
     "output_type": "stream",
     "text": [
      "2024-04-15 16:19:48 [INFO] - Currently processing 545. Done 83.59%\n",
      "C:\\Users\\Wojciech\\AppData\\Local\\Temp\\ipykernel_14628\\2115290241.py:94: MarkupResemblesLocatorWarning: The input looks more like a filename than markup. You may want to open this file and pass the filehandle into Beautiful Soup.\n",
      "  soup = BeautifulSoup(response.content, 'html.parser')\n",
      "2024-04-15 16:20:54 [INFO] - Extracted supplier name: None for URL: https://www.viator.com/tours/munich/fascination-of-the-royal-castles-linderhof-and-neuschwanstein/d487-115296p1\n"
     ]
    },
    {
     "name": "stdout",
     "output_type": "stream",
     "text": [
      "2\n"
     ]
    },
    {
     "name": "stderr",
     "output_type": "stream",
     "text": [
      "2024-04-15 16:20:55 [INFO] - Currently processing 546. Done 83.74%\n",
      "2024-04-15 16:21:02 [INFO] - Extracted supplier name: Radius Tours GmbH for URL: https://www.viator.com/tours/munich/neuschwanstein-castle-small-group-day-tour-from-munich/d487-2666castle\n"
     ]
    },
    {
     "name": "stdout",
     "output_type": "stream",
     "text": [
      "2\n"
     ]
    },
    {
     "name": "stderr",
     "output_type": "stream",
     "text": [
      "2024-04-15 16:21:03 [INFO] - Currently processing 547. Done 83.90%\n",
      "C:\\Users\\Wojciech\\AppData\\Local\\Temp\\ipykernel_14628\\2115290241.py:94: MarkupResemblesLocatorWarning: The input looks more like a filename than markup. You may want to open this file and pass the filehandle into Beautiful Soup.\n",
      "  soup = BeautifulSoup(response.content, 'html.parser')\n",
      "2024-04-15 16:21:16 [INFO] - Extracted supplier name: None for URL: https://www.viator.com/tours/munich/romantic-road-rothenburg-and-harburg-day-tour-from-munich/d487-285010\n"
     ]
    },
    {
     "name": "stdout",
     "output_type": "stream",
     "text": [
      "2\n"
     ]
    },
    {
     "name": "stderr",
     "output_type": "stream",
     "text": [
      "2024-04-15 16:21:17 [INFO] - Currently processing 548. Done 84.05%\n",
      "2024-04-15 16:21:23 [INFO] - Extracted supplier name: City Unscripted for URL: https://www.viator.com/tours/munich/private-and-personalized-experience-see-munich-with-a-local/d487-30791p624\n"
     ]
    },
    {
     "name": "stdout",
     "output_type": "stream",
     "text": [
      "2\n"
     ]
    },
    {
     "name": "stderr",
     "output_type": "stream",
     "text": [
      "2024-04-15 16:21:23 [INFO] - Currently processing 549. Done 84.20%\n",
      "2024-04-15 16:21:31 [INFO] - Extracted supplier name: Radius Tours GmbH for URL: https://www.viator.com/tours/munich/bavarian-beer-and-food-evening-tour-in-munich/d487-2666beer\n"
     ]
    },
    {
     "name": "stdout",
     "output_type": "stream",
     "text": [
      "2\n"
     ]
    },
    {
     "name": "stderr",
     "output_type": "stream",
     "text": [
      "2024-04-15 16:21:31 [INFO] - Currently processing 550. Done 84.36%\n",
      "2024-04-15 16:21:38 [INFO] - Extracted supplier name: Radius Tours GmbH for URL: https://www.viator.com/tours/munich/hitler-and-the-third-reich-munich-walking-tour/d487-2666reich\n"
     ]
    },
    {
     "name": "stdout",
     "output_type": "stream",
     "text": [
      "2\n"
     ]
    },
    {
     "name": "stderr",
     "output_type": "stream",
     "text": [
      "2024-04-15 16:21:39 [INFO] - Currently processing 551. Done 84.51%\n",
      "2024-04-15 16:21:59 [INFO] - Extracted supplier name: Munich Private Tours for URL: https://www.viator.com/tours/munich/private-neuschwanstein-tour-in-mercedes-minivan-v-class-up-to-6-person/d487-107763p2\n"
     ]
    },
    {
     "name": "stdout",
     "output_type": "stream",
     "text": [
      "2\n"
     ]
    },
    {
     "name": "stderr",
     "output_type": "stream",
     "text": [
      "2024-04-15 16:22:00 [INFO] - Currently processing 552. Done 84.66%\n",
      "2024-04-15 16:22:09 [INFO] - Extracted supplier name: Mikes Bike Tours Munich for URL: https://www.viator.com/tours/munich/private-mini-van-tour-to-the-royal-neuschwanstein-castle-and-linderhof-palace-and-ettal-monastry-and-oberammergau/d487-6878p9\n"
     ]
    },
    {
     "name": "stdout",
     "output_type": "stream",
     "text": [
      "2\n"
     ]
    },
    {
     "name": "stderr",
     "output_type": "stream",
     "text": [
      "2024-04-15 16:22:10 [INFO] - Currently processing 553. Done 84.82%\n",
      "C:\\Users\\Wojciech\\AppData\\Local\\Temp\\ipykernel_14628\\2115290241.py:94: MarkupResemblesLocatorWarning: The input looks more like a filename than markup. You may want to open this file and pass the filehandle into Beautiful Soup.\n",
      "  soup = BeautifulSoup(response.content, 'html.parser')\n",
      "2024-04-15 16:22:19 [INFO] - Extracted supplier name: None for URL: https://www.viator.com/tours/munich/berchtesgaden-town-and-mountains-and-the-eagles-nest/d487-115296p3\n"
     ]
    },
    {
     "name": "stdout",
     "output_type": "stream",
     "text": [
      "2\n"
     ]
    },
    {
     "name": "stderr",
     "output_type": "stream",
     "text": [
      "2024-04-15 16:22:19 [INFO] - Currently processing 554. Done 84.97%\n",
      "2024-04-15 16:22:57 [INFO] - Extracted supplier name: Bavarian Day Tours for URL: https://www.viator.com/tours/munich/small-group-munich-city-and-oktoberfest-tour-including-reserved-oktoberfest-tent-table/d487-18650p1\n"
     ]
    },
    {
     "name": "stdout",
     "output_type": "stream",
     "text": [
      "2\n"
     ]
    },
    {
     "name": "stderr",
     "output_type": "stream",
     "text": [
      "2024-04-15 16:22:58 [INFO] - Currently processing 555. Done 85.12%\n",
      "2024-04-15 16:23:12 [INFO] - Extracted supplier name: Mikes Bike Tours Munich for URL: https://www.viator.com/tours/munich/classic-munich-bike-tour-in-the-morning/d487-6878p7\n"
     ]
    },
    {
     "name": "stdout",
     "output_type": "stream",
     "text": [
      "2\n"
     ]
    },
    {
     "name": "stderr",
     "output_type": "stream",
     "text": [
      "2024-04-15 16:23:12 [INFO] - Currently processing 556. Done 85.28%\n",
      "2024-04-15 16:23:31 [INFO] - Extracted supplier name: Mentor Reisen eK for URL: https://www.viator.com/tours/munich/vip-tour-to-the-royal-castles-linderhof-and-neuschwanstein/d487-115296p2\n"
     ]
    },
    {
     "name": "stdout",
     "output_type": "stream",
     "text": [
      "2\n"
     ]
    },
    {
     "name": "stderr",
     "output_type": "stream",
     "text": [
      "2024-04-15 16:23:32 [INFO] - Currently processing 557. Done 85.43%\n",
      "2024-04-15 16:23:40 [INFO] - Extracted supplier name: Mikes Bike Tours Munich for URL: https://www.viator.com/tours/munich/neuschwanstein-castle-bus-tour-from-munich-with-hohenschwangau-or-alpine-bike-excursion/d487-6878p5\n"
     ]
    },
    {
     "name": "stdout",
     "output_type": "stream",
     "text": [
      "2\n"
     ]
    },
    {
     "name": "stderr",
     "output_type": "stream",
     "text": [
      "2024-04-15 16:23:41 [INFO] - Currently processing 558. Done 85.58%\n",
      "2024-04-15 16:23:55 [INFO] - Extracted supplier name: BlackBook Tours for URL: https://www.viator.com/tours/munich/munich-ghosts-and-spirits-tour/d487-252005p4\n"
     ]
    },
    {
     "name": "stdout",
     "output_type": "stream",
     "text": [
      "2\n"
     ]
    },
    {
     "name": "stderr",
     "output_type": "stream",
     "text": [
      "2024-04-15 16:23:56 [INFO] - Currently processing 559. Done 85.74%\n",
      "C:\\Users\\Wojciech\\AppData\\Local\\Temp\\ipykernel_14628\\2115290241.py:94: MarkupResemblesLocatorWarning: The input looks more like a filename than markup. You may want to open this file and pass the filehandle into Beautiful Soup.\n",
      "  soup = BeautifulSoup(response.content, 'html.parser')\n",
      "2024-04-15 16:24:09 [INFO] - Extracted supplier name: None for URL: https://www.viator.com/tours/munich/private-tour-dachau-concentration-camp-memorial-site-tour-from-munich/d487-5992dacmuc_p\n"
     ]
    },
    {
     "name": "stdout",
     "output_type": "stream",
     "text": [
      "2\n"
     ]
    },
    {
     "name": "stderr",
     "output_type": "stream",
     "text": [
      "2024-04-15 16:24:09 [INFO] - Currently processing 560. Done 85.89%\n",
      "C:\\Users\\Wojciech\\AppData\\Local\\Temp\\ipykernel_14628\\2115290241.py:94: MarkupResemblesLocatorWarning: The input looks more like a filename than markup. You may want to open this file and pass the filehandle into Beautiful Soup.\n",
      "  soup = BeautifulSoup(response.content, 'html.parser')\n",
      "2024-04-15 16:24:17 [INFO] - Extracted supplier name: None for URL: https://www.viator.com/tours/munich/in-their-shoes-dachau-memorial-tour-from-munich/d487-68103p1\n"
     ]
    },
    {
     "name": "stdout",
     "output_type": "stream",
     "text": [
      "2\n"
     ]
    },
    {
     "name": "stderr",
     "output_type": "stream",
     "text": [
      "2024-04-15 16:24:17 [INFO] - Currently processing 561. Done 86.04%\n",
      "2024-04-15 16:24:28 [INFO] - Extracted supplier name: Europe Journey  Private Sightseeing Transfers and Day Tours for URL: https://www.viator.com/tours/munich/private-daytrip-from-munich-to-eagles-nest-konigssee-salzburg/d487-137266p1790\n"
     ]
    },
    {
     "name": "stdout",
     "output_type": "stream",
     "text": [
      "2\n"
     ]
    },
    {
     "name": "stderr",
     "output_type": "stream",
     "text": [
      "2024-04-15 16:24:28 [INFO] - Currently processing 562. Done 86.20%\n",
      "2024-04-15 16:24:52 [INFO] - Extracted supplier name: Radius Tours GmbH for URL: https://www.viator.com/tours/munich/munich-wwii-combo-dachau-concentration-camp-memorial-site-and-third-reich-walking-tour/d487-2666combo_ww2\n"
     ]
    },
    {
     "name": "stdout",
     "output_type": "stream",
     "text": [
      "2\n"
     ]
    },
    {
     "name": "stderr",
     "output_type": "stream",
     "text": [
      "2024-04-15 16:24:52 [INFO] - Currently processing 563. Done 86.35%\n",
      "2024-04-15 16:25:00 [INFO] - Extracted supplier name: Special Private Tours for URL: https://www.viator.com/tours/munich/neuschwanstein-castle-ettal-abbey-and-oberammergau-private-tour-from-munich/d487-60125p17\n"
     ]
    },
    {
     "name": "stdout",
     "output_type": "stream",
     "text": [
      "2\n"
     ]
    },
    {
     "name": "stderr",
     "output_type": "stream",
     "text": [
      "2024-04-15 16:25:01 [INFO] - Currently processing 564. Done 86.50%\n",
      "2024-04-15 16:25:14 [INFO] - Extracted supplier name: Gray Line Sightseeing Munich for URL: https://www.viator.com/tours/munich/berchtesgaden-and-eagles-nest-day-tour-from-munich/d487-285011\n"
     ]
    },
    {
     "name": "stdout",
     "output_type": "stream",
     "text": [
      "2\n"
     ]
    },
    {
     "name": "stderr",
     "output_type": "stream",
     "text": [
      "2024-04-15 16:25:14 [INFO] - Currently processing 565. Done 86.66%\n",
      "C:\\Users\\Wojciech\\AppData\\Local\\Temp\\ipykernel_14628\\2115290241.py:94: MarkupResemblesLocatorWarning: The input looks more like a filename than markup. You may want to open this file and pass the filehandle into Beautiful Soup.\n",
      "  soup = BeautifulSoup(response.content, 'html.parser')\n",
      "2024-04-15 16:25:24 [INFO] - Extracted supplier name: None for URL: https://www.viator.com/tours/munich/salzburg-and-lake-district-day-tour-from-munich/d487-285012\n"
     ]
    },
    {
     "name": "stdout",
     "output_type": "stream",
     "text": [
      "2\n"
     ]
    },
    {
     "name": "stderr",
     "output_type": "stream",
     "text": [
      "2024-04-15 16:25:25 [INFO] - Currently processing 566. Done 86.81%\n",
      "2024-04-15 16:26:36 [INFO] - Extracted supplier name: Alun Evans Personal Tour Guiding Munich for URL: https://www.viator.com/tours/munich/fully-guided-dachau-concentration-camp-memorial-site-tour-from-munich/d487-11057p1\n"
     ]
    },
    {
     "name": "stdout",
     "output_type": "stream",
     "text": [
      "2\n"
     ]
    },
    {
     "name": "stderr",
     "output_type": "stream",
     "text": [
      "2024-04-15 16:26:37 [INFO] - Currently processing 567. Done 86.96%\n",
      "2024-04-15 16:26:45 [INFO] - Extracted supplier name: Go Tours Munich for URL: https://www.viator.com/tours/munich/dachau-tour/d487-135081p1\n"
     ]
    },
    {
     "name": "stdout",
     "output_type": "stream",
     "text": [
      "2\n"
     ]
    },
    {
     "name": "stderr",
     "output_type": "stream",
     "text": [
      "2024-04-15 16:26:46 [INFO] - Currently processing 568. Done 87.12%\n",
      "C:\\Users\\Wojciech\\AppData\\Local\\Temp\\ipykernel_14628\\2115290241.py:94: MarkupResemblesLocatorWarning: The input looks more like a filename than markup. You may want to open this file and pass the filehandle into Beautiful Soup.\n",
      "  soup = BeautifulSoup(response.content, 'html.parser')\n",
      "2024-04-15 16:27:56 [INFO] - Extracted supplier name: None for URL: https://www.viator.com/tours/munich/full-day-dachau-concentration-camp-memorial-site-tour-from-munich-by-train/d487-12413p2\n"
     ]
    },
    {
     "name": "stdout",
     "output_type": "stream",
     "text": [
      "2\n"
     ]
    },
    {
     "name": "stderr",
     "output_type": "stream",
     "text": [
      "2024-04-15 16:27:56 [INFO] - Currently processing 569. Done 87.27%\n",
      "2024-04-15 16:28:09 [INFO] - Extracted supplier name: BlackBook Tours for URL: https://www.viator.com/tours/munich/munich-viktualienmarkt-street-food-tour-with-drinks/d487-252005p2\n"
     ]
    },
    {
     "name": "stdout",
     "output_type": "stream",
     "text": [
      "2\n"
     ]
    },
    {
     "name": "stderr",
     "output_type": "stream",
     "text": [
      "2024-04-15 16:28:10 [INFO] - Currently processing 570. Done 87.42%\n",
      "2024-04-15 16:28:16 [INFO] - Extracted supplier name: Lastminute Munich for URL: https://www.viator.com/tours/munich/oktoberfest-munich-evening-table-reservation-19-09-20-incl/d487-217000p8\n"
     ]
    },
    {
     "name": "stdout",
     "output_type": "stream",
     "text": [
      "2\n"
     ]
    },
    {
     "name": "stderr",
     "output_type": "stream",
     "text": [
      "2024-04-15 16:28:17 [INFO] - Currently processing 571. Done 87.58%\n",
      "C:\\Users\\Wojciech\\AppData\\Local\\Temp\\ipykernel_14628\\2115290241.py:94: MarkupResemblesLocatorWarning: The input looks more like a filename than markup. You may want to open this file and pass the filehandle into Beautiful Soup.\n",
      "  soup = BeautifulSoup(response.content, 'html.parser')\n",
      "2024-04-15 16:28:24 [INFO] - Extracted supplier name: None for URL: https://www.viator.com/tours/munich/private-day-trip-from-munich-to-salzburg-and-back/d487-137266p2162\n"
     ]
    },
    {
     "name": "stdout",
     "output_type": "stream",
     "text": [
      "2\n"
     ]
    },
    {
     "name": "stderr",
     "output_type": "stream",
     "text": [
      "2024-04-15 16:28:25 [INFO] - Currently processing 572. Done 87.73%\n",
      "2024-04-15 16:28:42 [INFO] - Extracted supplier name: Radius Tours GmbH for URL: https://www.viator.com/tours/munich/munich-old-town-walking-tour/d487-2666munich\n"
     ]
    },
    {
     "name": "stdout",
     "output_type": "stream",
     "text": [
      "2\n"
     ]
    },
    {
     "name": "stderr",
     "output_type": "stream",
     "text": [
      "2024-04-15 16:28:43 [INFO] - Currently processing 573. Done 87.88%\n",
      "2024-04-15 16:28:55 [INFO] - Extracted supplier name: Paul Riedel for URL: https://www.viator.com/tours/munich/paul-private-tour/d487-108380p4\n"
     ]
    },
    {
     "name": "stdout",
     "output_type": "stream",
     "text": [
      "2\n"
     ]
    },
    {
     "name": "stderr",
     "output_type": "stream",
     "text": [
      "2024-04-15 16:28:55 [INFO] - Currently processing 574. Done 88.04%\n",
      "C:\\Users\\Wojciech\\AppData\\Local\\Temp\\ipykernel_14628\\2115290241.py:94: MarkupResemblesLocatorWarning: The input looks more like a filename than markup. You may want to open this file and pass the filehandle into Beautiful Soup.\n",
      "  soup = BeautifulSoup(response.content, 'html.parser')\n",
      "2024-04-15 16:29:06 [INFO] - Extracted supplier name: None for URL: https://www.viator.com/tours/munich/nuremberg-day-trip-from-munich/d487-2666empires\n"
     ]
    },
    {
     "name": "stdout",
     "output_type": "stream",
     "text": [
      "2\n"
     ]
    },
    {
     "name": "stderr",
     "output_type": "stream",
     "text": [
      "2024-04-15 16:29:06 [INFO] - Currently processing 575. Done 88.19%\n",
      "2024-04-15 16:29:20 [INFO] - Extracted supplier name: European Castles Tours for URL: https://www.viator.com/tours/munich/bavaria-highlights-tour-from-fuessen-neuschwanstein-linderhof-oberammergau-and-hohenschwangau/d487-6020bavaria\n"
     ]
    },
    {
     "name": "stdout",
     "output_type": "stream",
     "text": [
      "2\n"
     ]
    },
    {
     "name": "stderr",
     "output_type": "stream",
     "text": [
      "2024-04-15 16:29:20 [INFO] - Currently processing 576. Done 88.34%\n",
      "2024-04-15 16:29:35 [INFO] - Extracted supplier name: Sightseeing Bavaria Exclusive for URL: https://www.viator.com/tours/munich/my-guide-exclusive-panorama-tour-to-konigssee-and-obersalzberg-from-munich/d487-173111p31\n"
     ]
    },
    {
     "name": "stdout",
     "output_type": "stream",
     "text": [
      "2\n"
     ]
    },
    {
     "name": "stderr",
     "output_type": "stream",
     "text": [
      "2024-04-15 16:29:35 [INFO] - Currently processing 577. Done 88.50%\n",
      "C:\\Users\\Wojciech\\AppData\\Local\\Temp\\ipykernel_14628\\2115290241.py:94: MarkupResemblesLocatorWarning: The input looks more like a filename than markup. You may want to open this file and pass the filehandle into Beautiful Soup.\n",
      "  soup = BeautifulSoup(response.content, 'html.parser')\n",
      "2024-04-15 16:29:44 [INFO] - Extracted supplier name: None for URL: https://www.viator.com/tours/munich/munich-city-hop-on-hop-off-tour/d487-28501\n"
     ]
    },
    {
     "name": "stdout",
     "output_type": "stream",
     "text": [
      "2\n"
     ]
    },
    {
     "name": "stderr",
     "output_type": "stream",
     "text": [
      "2024-04-15 16:29:45 [INFO] - Currently processing 578. Done 88.65%\n",
      "2024-04-15 16:29:56 [INFO] - Extracted supplier name: Fork  Walk Tours Munich for URL: https://www.viator.com/tours/munich/munichs-ultimate-beer-and-street-food-tour-all-beer-and-tastings-included/d487-158751p3\n"
     ]
    },
    {
     "name": "stdout",
     "output_type": "stream",
     "text": [
      "2\n"
     ]
    },
    {
     "name": "stderr",
     "output_type": "stream",
     "text": [
      "2024-04-15 16:29:57 [INFO] - Currently processing 579. Done 88.80%\n",
      "2024-04-15 16:30:06 [INFO] - Extracted supplier name: Radius Tours GmbH for URL: https://www.viator.com/tours/munich/munich-oktoberfest-tickets-and-tour/d487-2666oktober\n"
     ]
    },
    {
     "name": "stdout",
     "output_type": "stream",
     "text": [
      "2\n"
     ]
    },
    {
     "name": "stderr",
     "output_type": "stream",
     "text": [
      "2024-04-15 16:30:06 [INFO] - Currently processing 580. Done 88.96%\n",
      "2024-04-15 16:30:18 [INFO] - Extracted supplier name: munich walk tours  Ralph Luenstroth for URL: https://www.viator.com/tours/munich/dachau-concentration-camp-memorial-walking-tour-with-guide-from-munich-by-train/d487-28222p3\n"
     ]
    },
    {
     "name": "stdout",
     "output_type": "stream",
     "text": [
      "2\n"
     ]
    },
    {
     "name": "stderr",
     "output_type": "stream",
     "text": [
      "2024-04-15 16:30:19 [INFO] - Currently processing 581. Done 89.11%\n",
      "2024-04-15 16:30:39 [INFO] - Extracted supplier name: Dark History Tours for URL: https://www.viator.com/tours/munich/munich-in-the-3rd-reich-and-ww2-private-walking-tour/d487-44259p1\n"
     ]
    },
    {
     "name": "stdout",
     "output_type": "stream",
     "text": [
      "2\n"
     ]
    },
    {
     "name": "stderr",
     "output_type": "stream",
     "text": [
      "2024-04-15 16:30:40 [INFO] - Currently processing 582. Done 89.26%\n",
      "2024-04-15 16:30:52 [INFO] - Extracted supplier name: Sightseeing Bavaria Exclusive for URL: https://www.viator.com/tours/munich/romantic-road-exclusive-private-tour-from-munich-to-rothenburg-ob-der-tauber/d487-173111p16\n"
     ]
    },
    {
     "name": "stdout",
     "output_type": "stream",
     "text": [
      "2\n"
     ]
    },
    {
     "name": "stderr",
     "output_type": "stream",
     "text": [
      "2024-04-15 16:30:53 [INFO] - Currently processing 583. Done 89.42%\n",
      "2024-04-15 16:31:01 [INFO] - Extracted supplier name: Sightseeing Bavaria Exclusive for URL: https://www.viator.com/tours/munich/my-guide-the-exclusive-true-sound-of-music-tour-and-historic-salzburg-from-munich/d487-173111p20\n"
     ]
    },
    {
     "name": "stdout",
     "output_type": "stream",
     "text": [
      "2\n"
     ]
    },
    {
     "name": "stderr",
     "output_type": "stream",
     "text": [
      "2024-04-15 16:31:02 [INFO] - Currently processing 584. Done 89.57%\n",
      "C:\\Users\\Wojciech\\AppData\\Local\\Temp\\ipykernel_14628\\2115290241.py:94: MarkupResemblesLocatorWarning: The input looks more like a filename than markup. You may want to open this file and pass the filehandle into Beautiful Soup.\n",
      "  soup = BeautifulSoup(response.content, 'html.parser')\n",
      "2024-04-15 16:31:27 [INFO] - Extracted supplier name: None for URL: https://www.viator.com/tours/munich/private-early-bird-skip-the-crowds-neuschwanstein-and-hsg-castle-tour-from-munich/d487-173111p5\n"
     ]
    },
    {
     "name": "stdout",
     "output_type": "stream",
     "text": [
      "2\n"
     ]
    },
    {
     "name": "stderr",
     "output_type": "stream",
     "text": [
      "2024-04-15 16:31:27 [INFO] - Currently processing 585. Done 89.72%\n",
      "2024-04-15 16:31:54 [INFO] - Extracted supplier name: Wiesn Mates for URL: https://www.viator.com/tours/munich/munich-oktoberfest-experience-fun-food-beer-and-seats/d487-430863p1\n"
     ]
    },
    {
     "name": "stdout",
     "output_type": "stream",
     "text": [
      "2\n"
     ]
    },
    {
     "name": "stderr",
     "output_type": "stream",
     "text": [
      "2024-04-15 16:31:55 [INFO] - Currently processing 586. Done 89.88%\n",
      "2024-04-15 16:32:06 [INFO] - Extracted supplier name: The Local Experience for URL: https://www.viator.com/tours/munich/the-oktoberfest-experience-all-inclusive-full-day/d487-57339p6\n"
     ]
    },
    {
     "name": "stdout",
     "output_type": "stream",
     "text": [
      "2\n"
     ]
    },
    {
     "name": "stderr",
     "output_type": "stream",
     "text": [
      "2024-04-15 16:32:06 [INFO] - Currently processing 587. Done 90.03%\n",
      "2024-04-15 16:32:20 [INFO] - Extracted supplier name: Discover Munich Tours for URL: https://www.viator.com/tours/munich/dachau-concentration-camp-memorial-site/d487-124493p1\n"
     ]
    },
    {
     "name": "stdout",
     "output_type": "stream",
     "text": [
      "2\n"
     ]
    },
    {
     "name": "stderr",
     "output_type": "stream",
     "text": [
      "2024-04-15 16:32:21 [INFO] - Currently processing 588. Done 90.18%\n",
      "2024-04-15 16:32:29 [INFO] - Extracted supplier name: City Unscripted for URL: https://www.viator.com/tours/munich/the-ultimate-munich-history-experience-private-and-personalized/d487-30791p675\n"
     ]
    },
    {
     "name": "stdout",
     "output_type": "stream",
     "text": [
      "2\n"
     ]
    },
    {
     "name": "stderr",
     "output_type": "stream",
     "text": [
      "2024-04-15 16:32:30 [INFO] - Currently processing 589. Done 90.34%\n",
      "2024-04-15 16:32:36 [INFO] - Extracted supplier name: Europe Journey  Private Sightseeing Transfers and Day Tours for URL: https://www.viator.com/tours/munich/daytrip-from-munich-to-prague-private-sightseeing-transfer-with-two-1h-stops/d487-137266p9\n"
     ]
    },
    {
     "name": "stdout",
     "output_type": "stream",
     "text": [
      "2\n"
     ]
    },
    {
     "name": "stderr",
     "output_type": "stream",
     "text": [
      "2024-04-15 16:32:37 [INFO] - Currently processing 590. Done 90.49%\n",
      "C:\\Users\\Wojciech\\AppData\\Local\\Temp\\ipykernel_14628\\2115290241.py:94: MarkupResemblesLocatorWarning: The input looks more like a filename than markup. You may want to open this file and pass the filehandle into Beautiful Soup.\n",
      "  soup = BeautifulSoup(response.content, 'html.parser')\n",
      "2024-04-15 16:32:51 [INFO] - Extracted supplier name: None for URL: https://www.viator.com/tours/munich/oktoberfest-tour/d487-54086p4\n"
     ]
    },
    {
     "name": "stdout",
     "output_type": "stream",
     "text": [
      "2\n"
     ]
    },
    {
     "name": "stderr",
     "output_type": "stream",
     "text": [
      "2024-04-15 16:32:52 [INFO] - Currently processing 591. Done 90.64%\n",
      "2024-04-15 16:32:58 [INFO] - Extracted supplier name: Sightseeing Bavaria Exclusive for URL: https://www.viator.com/tours/munich/my-guide-exclusive-mount-zugspitze-and-snow-much-more-tour-from-munich/d487-173111p18\n"
     ]
    },
    {
     "name": "stdout",
     "output_type": "stream",
     "text": [
      "2\n"
     ]
    },
    {
     "name": "stderr",
     "output_type": "stream",
     "text": [
      "2024-04-15 16:32:59 [INFO] - Currently processing 592. Done 90.80%\n",
      "2024-04-15 16:33:36 [INFO] - Extracted supplier name: Mikes Bike Tours Munich for URL: https://www.viator.com/tours/munich/private-skip-the-line-neuschwanstein-linderhof-oberammergau-tour-from-garmisch/d487-6878p19\n"
     ]
    },
    {
     "name": "stdout",
     "output_type": "stream",
     "text": [
      "2\n"
     ]
    },
    {
     "name": "stderr",
     "output_type": "stream",
     "text": [
      "2024-04-15 16:33:37 [INFO] - Currently processing 593. Done 90.95%\n",
      "2024-04-15 16:33:45 [INFO] - Extracted supplier name: Mikes Bike Tours Munich for URL: https://www.viator.com/tours/munich/eagles-nest-and-salzburg-private-daytrip-from-munich/d487-6878p21\n"
     ]
    },
    {
     "name": "stdout",
     "output_type": "stream",
     "text": [
      "2\n"
     ]
    },
    {
     "name": "stderr",
     "output_type": "stream",
     "text": [
      "2024-04-15 16:33:46 [INFO] - Currently processing 594. Done 91.10%\n",
      "2024-04-15 16:33:52 [INFO] - Extracted supplier name: hunthint for URL: https://www.viator.com/tours/munich/escape-game-escape-game/d487-174288p1\n"
     ]
    },
    {
     "name": "stdout",
     "output_type": "stream",
     "text": [
      "2\n"
     ]
    },
    {
     "name": "stderr",
     "output_type": "stream",
     "text": [
      "2024-04-15 16:33:53 [INFO] - Currently processing 595. Done 91.26%\n",
      "C:\\Users\\Wojciech\\AppData\\Local\\Temp\\ipykernel_14628\\2115290241.py:94: MarkupResemblesLocatorWarning: The input looks more like a filename than markup. You may want to open this file and pass the filehandle into Beautiful Soup.\n",
      "  soup = BeautifulSoup(response.content, 'html.parser')\n",
      "2024-04-15 16:34:04 [INFO] - Extracted supplier name: None for URL: https://www.viator.com/tours/munich/small-group-munich-city-and-oktoberfest-tour-incl-table-beer-and-typical-food/d487-265950p12\n"
     ]
    },
    {
     "name": "stdout",
     "output_type": "stream",
     "text": [
      "2\n"
     ]
    },
    {
     "name": "stderr",
     "output_type": "stream",
     "text": [
      "2024-04-15 16:34:05 [INFO] - Currently processing 596. Done 91.41%\n",
      "2024-04-15 16:34:12 [INFO] - Extracted supplier name: Stadtspiel Schnitzeljagd for URL: https://www.viator.com/tours/munich/exciting-scavenger-hunt-through-munich/d487-242375p4\n"
     ]
    },
    {
     "name": "stdout",
     "output_type": "stream",
     "text": [
      "2\n"
     ]
    },
    {
     "name": "stderr",
     "output_type": "stream",
     "text": [
      "2024-04-15 16:34:13 [INFO] - Currently processing 597. Done 91.56%\n",
      "2024-04-15 16:34:18 [INFO] - Extracted supplier name: Opatripcom Lithuania for URL: https://www.viator.com/tours/munich/munich-new-town-hall-tour/d487-122816p116\n"
     ]
    },
    {
     "name": "stdout",
     "output_type": "stream",
     "text": [
      "2\n"
     ]
    },
    {
     "name": "stderr",
     "output_type": "stream",
     "text": [
      "2024-04-15 16:34:18 [INFO] - Currently processing 598. Done 91.72%\n",
      "2024-04-15 16:34:29 [INFO] - Extracted supplier name: Europe Journey  Private Sightseeing Transfers and Day Tours for URL: https://www.viator.com/tours/munich/private-transfer-from-munich-to-berlin-hotel-to-hotel-english-speaking-driver/d487-137266p525\n"
     ]
    },
    {
     "name": "stdout",
     "output_type": "stream",
     "text": [
      "2\n"
     ]
    },
    {
     "name": "stderr",
     "output_type": "stream",
     "text": [
      "2024-04-15 16:34:29 [INFO] - Currently processing 599. Done 91.87%\n",
      "2024-04-15 16:34:40 [INFO] - Extracted supplier name: BlackBuck Travels for URL: https://www.viator.com/tours/munich/munich-city-walk-with-professional-guide/d487-89617p82\n"
     ]
    },
    {
     "name": "stdout",
     "output_type": "stream",
     "text": [
      "2\n"
     ]
    },
    {
     "name": "stderr",
     "output_type": "stream",
     "text": [
      "2024-04-15 16:34:40 [INFO] - Currently processing 600. Done 92.02%\n",
      "2024-04-15 16:34:48 [INFO] - Extracted supplier name: Rosotravel  Munich for URL: https://www.viator.com/tours/munich/salzburgs-old-town-private-1-day-trip-from-munich-by-car/d487-265432p228\n"
     ]
    },
    {
     "name": "stdout",
     "output_type": "stream",
     "text": [
      "2\n"
     ]
    },
    {
     "name": "stderr",
     "output_type": "stream",
     "text": [
      "2024-04-15 16:34:49 [INFO] - Currently processing 601. Done 92.18%\n",
      "C:\\Users\\Wojciech\\AppData\\Local\\Temp\\ipykernel_14628\\2115290241.py:94: MarkupResemblesLocatorWarning: The input looks more like a filename than markup. You may want to open this file and pass the filehandle into Beautiful Soup.\n",
      "  soup = BeautifulSoup(response.content, 'html.parser')\n",
      "2024-04-15 16:34:59 [INFO] - Extracted supplier name: None for URL: https://www.viator.com/tours/munich/munich-save-your-friend-city-exploration-game/d487-107194p317\n"
     ]
    },
    {
     "name": "stdout",
     "output_type": "stream",
     "text": [
      "2\n"
     ]
    },
    {
     "name": "stderr",
     "output_type": "stream",
     "text": [
      "2024-04-15 16:35:00 [INFO] - Currently processing 602. Done 92.33%\n",
      "C:\\Users\\Wojciech\\AppData\\Local\\Temp\\ipykernel_14628\\2115290241.py:94: MarkupResemblesLocatorWarning: The input looks more like a filename than markup. You may want to open this file and pass the filehandle into Beautiful Soup.\n",
      "  soup = BeautifulSoup(response.content, 'html.parser')\n",
      "2024-04-15 16:35:09 [INFO] - Extracted supplier name: None for URL: https://www.viator.com/tours/munich/munich-action-culture-classic/d487-375416p1\n"
     ]
    },
    {
     "name": "stdout",
     "output_type": "stream",
     "text": [
      "2\n"
     ]
    },
    {
     "name": "stderr",
     "output_type": "stream",
     "text": [
      "2024-04-15 16:35:10 [INFO] - Currently processing 603. Done 92.48%\n",
      "2024-04-15 16:35:19 [INFO] - Extracted supplier name: Rosotravel  Munich for URL: https://www.viator.com/tours/munich/traditional-german-food-and-munich-old-town-private-tour/d487-265432p225\n"
     ]
    },
    {
     "name": "stdout",
     "output_type": "stream",
     "text": [
      "2\n"
     ]
    },
    {
     "name": "stderr",
     "output_type": "stream",
     "text": [
      "2024-04-15 16:35:20 [INFO] - Currently processing 604. Done 92.64%\n",
      "2024-04-15 16:35:28 [INFO] - Extracted supplier name: Fat Tire Tours Munich for URL: https://www.viator.com/tours/munich/munich-evening-bike-tour/d487-128691p4\n"
     ]
    },
    {
     "name": "stdout",
     "output_type": "stream",
     "text": [
      "2\n"
     ]
    },
    {
     "name": "stderr",
     "output_type": "stream",
     "text": [
      "2024-04-15 16:35:28 [INFO] - Currently processing 605. Done 92.79%\n",
      "2024-04-15 16:35:36 [INFO] - Extracted supplier name: Munich Car Group for URL: https://www.viator.com/tours/munich/ski-shuttle-munich-zell-am-see/d487-108839p8\n"
     ]
    },
    {
     "name": "stdout",
     "output_type": "stream",
     "text": [
      "2\n"
     ]
    },
    {
     "name": "stderr",
     "output_type": "stream",
     "text": [
      "2024-04-15 16:35:37 [INFO] - Currently processing 606. Done 92.94%\n",
      "2024-04-15 16:35:43 [INFO] - Extracted supplier name: Explora Mnich for URL: https://www.viator.com/tours/munich/munich-mysterious-legends-and-myths-of-the-city/d487-269125p3\n"
     ]
    },
    {
     "name": "stdout",
     "output_type": "stream",
     "text": [
      "2\n"
     ]
    },
    {
     "name": "stderr",
     "output_type": "stream",
     "text": [
      "2024-04-15 16:35:43 [INFO] - Currently processing 607. Done 93.10%\n",
      "2024-04-15 16:36:02 [INFO] - Extracted supplier name: BlackBook Tours for URL: https://www.viator.com/tours/munich/munich-mixer-small-bites-and-cocktail-tour-all-inclusive/d487-252005p1\n"
     ]
    },
    {
     "name": "stdout",
     "output_type": "stream",
     "text": [
      "2\n"
     ]
    },
    {
     "name": "stderr",
     "output_type": "stream",
     "text": [
      "2024-04-15 16:36:03 [INFO] - Currently processing 608. Done 93.25%\n",
      "2024-04-15 16:36:11 [INFO] - Extracted supplier name: Your Guide in Munich for URL: https://www.viator.com/tours/munich/munich-the-essential-walking-tour/d487-242491p1\n"
     ]
    },
    {
     "name": "stdout",
     "output_type": "stream",
     "text": [
      "2\n"
     ]
    },
    {
     "name": "stderr",
     "output_type": "stream",
     "text": [
      "2024-04-15 16:36:11 [INFO] - Currently processing 609. Done 93.40%\n",
      "C:\\Users\\Wojciech\\AppData\\Local\\Temp\\ipykernel_14628\\2115290241.py:94: MarkupResemblesLocatorWarning: The input looks more like a filename than markup. You may want to open this file and pass the filehandle into Beautiful Soup.\n",
      "  soup = BeautifulSoup(response.content, 'html.parser')\n",
      "2024-04-15 16:36:22 [INFO] - Extracted supplier name: None for URL: https://www.viator.com/tours/munich/munich-neuschwanstein-tickets-available-wies-church-tour/d487-137266p1963\n"
     ]
    },
    {
     "name": "stdout",
     "output_type": "stream",
     "text": [
      "2\n"
     ]
    },
    {
     "name": "stderr",
     "output_type": "stream",
     "text": [
      "2024-04-15 16:36:22 [INFO] - Currently processing 610. Done 93.56%\n",
      "C:\\Users\\Wojciech\\AppData\\Local\\Temp\\ipykernel_14628\\2115290241.py:94: MarkupResemblesLocatorWarning: The input looks more like a filename than markup. You may want to open this file and pass the filehandle into Beautiful Soup.\n",
      "  soup = BeautifulSoup(response.content, 'html.parser')\n",
      "2024-04-15 16:36:39 [INFO] - Extracted supplier name: None for URL: https://www.viator.com/tours/munich/layover-in-munich-a-private-tour-with-a-local-best-highlights-of-munich/d487-207305p371\n"
     ]
    },
    {
     "name": "stdout",
     "output_type": "stream",
     "text": [
      "2\n"
     ]
    },
    {
     "name": "stderr",
     "output_type": "stream",
     "text": [
      "2024-04-15 16:36:40 [INFO] - Currently processing 611. Done 93.71%\n",
      "2024-04-15 16:37:03 [INFO] - Extracted supplier name: Todo Tours for URL: https://www.viator.com/tours/munich/origins-of-nazism-walking-tour-in-munich/d487-290481p6\n"
     ]
    },
    {
     "name": "stdout",
     "output_type": "stream",
     "text": [
      "2\n"
     ]
    },
    {
     "name": "stderr",
     "output_type": "stream",
     "text": [
      "2024-04-15 16:37:04 [INFO] - Currently processing 612. Done 93.87%\n",
      "2024-04-15 16:37:13 [INFO] - Extracted supplier name: Europe Journey  Private Sightseeing Transfers and Day Tours for URL: https://www.viator.com/tours/munich/from-munich-to-frankfurt-airport-private-transfer-punctual-and-friendly-driver/d487-137266p330\n"
     ]
    },
    {
     "name": "stdout",
     "output_type": "stream",
     "text": [
      "2\n"
     ]
    },
    {
     "name": "stderr",
     "output_type": "stream",
     "text": [
      "2024-04-15 16:37:14 [INFO] - Currently processing 613. Done 94.02%\n",
      "2024-04-15 16:37:58 [INFO] - Extracted supplier name: Rosotravel  Munich for URL: https://www.viator.com/tours/munich/munich-zoo-with-private-flexible-transfers-and-tickets/d487-265432p379\n"
     ]
    },
    {
     "name": "stdout",
     "output_type": "stream",
     "text": [
      "2\n"
     ]
    },
    {
     "name": "stderr",
     "output_type": "stream",
     "text": [
      "2024-04-15 16:37:59 [INFO] - Currently processing 614. Done 94.17%\n",
      "C:\\Users\\Wojciech\\AppData\\Local\\Temp\\ipykernel_14628\\2115290241.py:94: MarkupResemblesLocatorWarning: The input looks more like a filename than markup. You may want to open this file and pass the filehandle into Beautiful Soup.\n",
      "  soup = BeautifulSoup(response.content, 'html.parser')\n",
      "2024-04-15 16:38:09 [INFO] - Extracted supplier name: None for URL: https://www.viator.com/tours/munich/epic-all-inclusive-oktoberfest-beer-brewery-and-fest-experience/d487-59955p1\n"
     ]
    },
    {
     "name": "stdout",
     "output_type": "stream",
     "text": [
      "2\n"
     ]
    },
    {
     "name": "stderr",
     "output_type": "stream",
     "text": [
      "2024-04-15 16:38:10 [INFO] - Currently processing 615. Done 94.33%\n",
      "2024-04-15 16:38:18 [INFO] - Extracted supplier name: LocalBini  The goto platform for Experiences by Locals in Europe for URL: https://www.viator.com/tours/munich/photogenic-munich-with-a-local/d487-76654p197\n"
     ]
    },
    {
     "name": "stdout",
     "output_type": "stream",
     "text": [
      "2\n"
     ]
    },
    {
     "name": "stderr",
     "output_type": "stream",
     "text": [
      "2024-04-15 16:38:18 [INFO] - Currently processing 616. Done 94.48%\n",
      "2024-04-15 16:38:26 [INFO] - Extracted supplier name: all things garmisch tours and outdoor recreation for URL: https://www.viator.com/tours/munich/neuschwanstein-castle-tour-from-murnau-germany/d487-7170p37\n"
     ]
    },
    {
     "name": "stdout",
     "output_type": "stream",
     "text": [
      "2\n"
     ]
    },
    {
     "name": "stderr",
     "output_type": "stream",
     "text": [
      "2024-04-15 16:38:27 [INFO] - Currently processing 617. Done 94.63%\n",
      "C:\\Users\\Wojciech\\AppData\\Local\\Temp\\ipykernel_14628\\2115290241.py:94: MarkupResemblesLocatorWarning: The input looks more like a filename than markup. You may want to open this file and pass the filehandle into Beautiful Soup.\n",
      "  soup = BeautifulSoup(response.content, 'html.parser')\n",
      "2024-04-15 16:38:35 [INFO] - Extracted supplier name: None for URL: https://www.viator.com/tours/munich/private-munich-old-town-and-fc-bayern-munich-game-day-experience/d487-265950p23\n"
     ]
    },
    {
     "name": "stdout",
     "output_type": "stream",
     "text": [
      "2\n"
     ]
    },
    {
     "name": "stderr",
     "output_type": "stream",
     "text": [
      "2024-04-15 16:38:36 [INFO] - Currently processing 618. Done 94.79%\n",
      "2024-04-15 16:38:48 [INFO] - Extracted supplier name: Europe Journey  Private Sightseeing Transfers and Day Tours for URL: https://www.viator.com/tours/munich/private-transfer-from-munich-to-budapest-english-speaking-driver/d487-137266p477\n"
     ]
    },
    {
     "name": "stdout",
     "output_type": "stream",
     "text": [
      "2\n"
     ]
    },
    {
     "name": "stderr",
     "output_type": "stream",
     "text": [
      "2024-04-15 16:38:49 [INFO] - Currently processing 619. Done 94.94%\n",
      "2024-04-15 16:39:35 [INFO] - Extracted supplier name: Sepp The Bavarian Guide for URL: https://www.viator.com/tours/munich/small-group-oktoberfest-tour-incl-table-res-3-course-menu-and-beer/d487-265950p21\n"
     ]
    },
    {
     "name": "stdout",
     "output_type": "stream",
     "text": [
      "2\n"
     ]
    },
    {
     "name": "stderr",
     "output_type": "stream",
     "text": [
      "2024-04-15 16:39:36 [INFO] - Currently processing 620. Done 95.09%\n",
      "C:\\Users\\Wojciech\\AppData\\Local\\Temp\\ipykernel_14628\\2115290241.py:94: MarkupResemblesLocatorWarning: The input looks more like a filename than markup. You may want to open this file and pass the filehandle into Beautiful Soup.\n",
      "  soup = BeautifulSoup(response.content, 'html.parser')\n",
      "2024-04-15 16:39:45 [INFO] - Extracted supplier name: None for URL: https://www.viator.com/tours/munich/munich-airport-transfers-munich-airport-muc-to-munich-city-in-luxury-car/d487-85439p319\n"
     ]
    },
    {
     "name": "stdout",
     "output_type": "stream",
     "text": [
      "2\n"
     ]
    },
    {
     "name": "stderr",
     "output_type": "stream",
     "text": [
      "2024-04-15 16:39:46 [INFO] - Currently processing 621. Done 95.25%\n",
      "2024-04-15 16:39:50 [INFO] - Extracted supplier name: Europe Journey  Private Sightseeing Transfers and Day Tours for URL: https://www.viator.com/tours/munich/private-day-trip-from-munich-to-chiemsee-salzburg-and-back/d487-137266p1791\n"
     ]
    },
    {
     "name": "stdout",
     "output_type": "stream",
     "text": [
      "2\n"
     ]
    },
    {
     "name": "stderr",
     "output_type": "stream",
     "text": [
      "2024-04-15 16:39:51 [INFO] - Currently processing 622. Done 95.40%\n",
      "2024-04-15 16:40:27 [INFO] - Extracted supplier name: Your Guide in Munich for URL: https://www.viator.com/tours/munich/munich-during-the-nazi-regime-ideology-and-resistance/d487-242491p3\n"
     ]
    },
    {
     "name": "stdout",
     "output_type": "stream",
     "text": [
      "2\n"
     ]
    },
    {
     "name": "stderr",
     "output_type": "stream",
     "text": [
      "2024-04-15 16:40:28 [INFO] - Currently processing 623. Done 95.55%\n",
      "2024-04-15 16:40:36 [INFO] - Extracted supplier name: Opatripcom Lithuania for URL: https://www.viator.com/tours/munich/historic-munich-walking-tour/d487-122816p114\n"
     ]
    },
    {
     "name": "stdout",
     "output_type": "stream",
     "text": [
      "2\n"
     ]
    },
    {
     "name": "stderr",
     "output_type": "stream",
     "text": [
      "2024-04-15 16:40:37 [INFO] - Currently processing 624. Done 95.71%\n",
      "C:\\Users\\Wojciech\\AppData\\Local\\Temp\\ipykernel_14628\\2115290241.py:94: MarkupResemblesLocatorWarning: The input looks more like a filename than markup. You may want to open this file and pass the filehandle into Beautiful Soup.\n",
      "  soup = BeautifulSoup(response.content, 'html.parser')\n",
      "2024-04-15 16:40:47 [INFO] - Extracted supplier name: None for URL: https://www.viator.com/tours/munich/creative-photo-session-in-munich/d487-445170p1\n"
     ]
    },
    {
     "name": "stdout",
     "output_type": "stream",
     "text": [
      "2\n"
     ]
    },
    {
     "name": "stderr",
     "output_type": "stream",
     "text": [
      "2024-04-15 16:40:47 [INFO] - Currently processing 625. Done 95.86%\n",
      "2024-04-15 16:40:54 [INFO] - Extracted supplier name: SAYAQ Adventures MÃnchen for URL: https://www.viator.com/tours/munich/flying-fox-in-the-olympic-stadium-in-munich/d487-261025p1\n"
     ]
    },
    {
     "name": "stdout",
     "output_type": "stream",
     "text": [
      "2\n"
     ]
    },
    {
     "name": "stderr",
     "output_type": "stream",
     "text": [
      "2024-04-15 16:40:55 [INFO] - Currently processing 626. Done 96.01%\n",
      "2024-04-15 16:41:20 [INFO] - Extracted supplier name: SmartRyde for URL: https://www.viator.com/tours/munich/airport-transfer-hotel-in-center-of-munich-to-munich-international-airport-muc/d487-182077p210\n"
     ]
    },
    {
     "name": "stdout",
     "output_type": "stream",
     "text": [
      "2\n"
     ]
    },
    {
     "name": "stderr",
     "output_type": "stream",
     "text": [
      "2024-04-15 16:41:21 [INFO] - Currently processing 627. Done 96.17%\n",
      "2024-04-15 16:41:27 [INFO] - Extracted supplier name: taxiGo Limo Airport Service for URL: https://www.viator.com/tours/munich/munich-airport-muc-to-garmisch-partenkirchen-arrival-transfer/d487-350808p400\n"
     ]
    },
    {
     "name": "stdout",
     "output_type": "stream",
     "text": [
      "2\n"
     ]
    },
    {
     "name": "stderr",
     "output_type": "stream",
     "text": [
      "2024-04-15 16:41:28 [INFO] - Currently processing 628. Done 96.32%\n",
      "2024-04-15 16:41:42 [INFO] - Extracted supplier name: taxiGo Limo Airport Service for URL: https://www.viator.com/tours/munich/half-day-private-tour-in-munich/d487-350808p2785\n"
     ]
    },
    {
     "name": "stdout",
     "output_type": "stream",
     "text": [
      "2\n"
     ]
    },
    {
     "name": "stderr",
     "output_type": "stream",
     "text": [
      "2024-04-15 16:41:42 [INFO] - Currently processing 629. Done 96.47%\n",
      "2024-04-15 16:41:54 [INFO] - Extracted supplier name: Europe Journey  Private Sightseeing Transfers and Day Tours for URL: https://www.viator.com/tours/munich/winter-in-european-alps-private-scenic-transfers-munich-ski-resort/d487-137266p446\n"
     ]
    },
    {
     "name": "stdout",
     "output_type": "stream",
     "text": [
      "2\n"
     ]
    },
    {
     "name": "stderr",
     "output_type": "stream",
     "text": [
      "2024-04-15 16:41:55 [INFO] - Currently processing 630. Done 96.63%\n",
      "C:\\Users\\Wojciech\\AppData\\Local\\Temp\\ipykernel_14628\\2115290241.py:94: MarkupResemblesLocatorWarning: The input looks more like a filename than markup. You may want to open this file and pass the filehandle into Beautiful Soup.\n",
      "  soup = BeautifulSoup(response.content, 'html.parser')\n",
      "2024-04-15 16:42:40 [INFO] - Extracted supplier name: None for URL: https://www.viator.com/tours/munich/family-walking-tour-in-munich/d487-197833p54\n"
     ]
    },
    {
     "name": "stdout",
     "output_type": "stream",
     "text": [
      "2\n"
     ]
    },
    {
     "name": "stderr",
     "output_type": "stream",
     "text": [
      "2024-04-15 16:42:41 [INFO] - Currently processing 631. Done 96.78%\n",
      "2024-04-15 16:42:47 [INFO] - Extracted supplier name: Europe Journey  Private Sightseeing Transfers and Day Tours for URL: https://www.viator.com/tours/munich/private-tour-from-munich-to-herrenchiemsee-and-salzburg-english/d487-137266p2496\n"
     ]
    },
    {
     "name": "stdout",
     "output_type": "stream",
     "text": [
      "2\n"
     ]
    },
    {
     "name": "stderr",
     "output_type": "stream",
     "text": [
      "2024-04-15 16:42:48 [INFO] - Currently processing 632. Done 96.93%\n",
      "2024-04-15 16:42:53 [INFO] - Extracted supplier name: Paul Riedel for URL: https://www.viator.com/tours/munich/visit-the-glyptothek-munich-with-paul/d487-108380p23\n"
     ]
    },
    {
     "name": "stdout",
     "output_type": "stream",
     "text": [
      "2\n"
     ]
    },
    {
     "name": "stderr",
     "output_type": "stream",
     "text": [
      "2024-04-15 16:42:53 [INFO] - Currently processing 633. Done 97.09%\n",
      "2024-04-15 16:43:03 [INFO] - Extracted supplier name: Europe Journey  Private Sightseeing Transfers and Day Tours for URL: https://www.viator.com/tours/munich/private-transfer-from-munich-to-st-mortiz-english-speaking-driver/d487-137266p836\n"
     ]
    },
    {
     "name": "stdout",
     "output_type": "stream",
     "text": [
      "2\n"
     ]
    },
    {
     "name": "stderr",
     "output_type": "stream",
     "text": [
      "2024-04-15 16:43:03 [INFO] - Currently processing 634. Done 97.24%\n",
      "2024-04-15 16:43:08 [INFO] - Extracted supplier name: SETT Sport  Events Tours  Travel for URL: https://www.viator.com/tours/munich/oktoberfest-table-reservation-including-seat-reservation-2-liter-beer-meal/d487-236123p1\n"
     ]
    },
    {
     "name": "stdout",
     "output_type": "stream",
     "text": [
      "2\n"
     ]
    },
    {
     "name": "stderr",
     "output_type": "stream",
     "text": [
      "2024-04-15 16:43:09 [INFO] - Currently processing 635. Done 97.39%\n",
      "2024-04-15 16:43:16 [INFO] - Extracted supplier name: Red Mercury Entertainment LLC for URL: https://www.viator.com/tours/las-vegas/mj-live-at-the-sahara-hotel-and-casino/d684-6920lasmjl\n"
     ]
    },
    {
     "name": "stdout",
     "output_type": "stream",
     "text": [
      "2\n"
     ]
    },
    {
     "name": "stderr",
     "output_type": "stream",
     "text": [
      "2024-04-15 16:43:17 [INFO] - Currently processing 636. Done 97.55%\n",
      "2024-04-15 16:43:25 [INFO] - Extracted supplier name: Red Mercury Entertainment LLC for URL: https://www.viator.com/tours/las-vegas/purple-reign-the-prince-tribute-show-at-planet-hollywood-in-las-vegas/d684-6920laspur\n"
     ]
    },
    {
     "name": "stdout",
     "output_type": "stream",
     "text": [
      "2\n"
     ]
    },
    {
     "name": "stderr",
     "output_type": "stream",
     "text": [
      "2024-04-15 16:43:26 [INFO] - Currently processing 637. Done 97.70%\n",
      "2024-04-15 16:43:33 [INFO] - Extracted supplier name: National Park Express for URL: https://www.viator.com/tours/las-vegas/vegas-upper-antelope-canyon-and-horseshoe-bend-day-tour-with-lunch/d684-60136p60\n"
     ]
    },
    {
     "name": "stdout",
     "output_type": "stream",
     "text": [
      "2\n"
     ]
    },
    {
     "name": "stderr",
     "output_type": "stream",
     "text": [
      "2024-04-15 16:43:33 [INFO] - Currently processing 638. Done 97.85%\n",
      "2024-04-15 16:43:39 [INFO] - Extracted supplier name: Worldwide Tourism Inc  Highly Recommended Travel Company for URL: https://www.viator.com/tours/las-vegas/15-minutes-los-vegas-helicopter-tour/d684-404924p90\n"
     ]
    },
    {
     "name": "stdout",
     "output_type": "stream",
     "text": [
      "2\n"
     ]
    },
    {
     "name": "stderr",
     "output_type": "stream",
     "text": [
      "2024-04-15 16:43:40 [INFO] - Currently processing 639. Done 98.01%\n",
      "2024-04-15 16:43:44 [INFO] - Extracted supplier name: Worldwide Tourism Inc  Highly Recommended Travel Company for URL: https://www.viator.com/tours/las-vegas/grand-canyon-helicopter-tour-with-landing-from-las-vegas/d684-404924p91\n"
     ]
    },
    {
     "name": "stdout",
     "output_type": "stream",
     "text": [
      "2\n"
     ]
    },
    {
     "name": "stderr",
     "output_type": "stream",
     "text": [
      "2024-04-15 16:43:45 [INFO] - Currently processing 640. Done 98.16%\n",
      "2024-04-15 16:43:51 [INFO] - Extracted supplier name: Mania Tour for URL: https://www.viator.com/tours/las-vegas/semi-private-photoshoot-tour-grand-canyon-daily-tour/d684-343505p1\n"
     ]
    },
    {
     "name": "stdout",
     "output_type": "stream",
     "text": [
      "2\n"
     ]
    },
    {
     "name": "stderr",
     "output_type": "stream",
     "text": [
      "2024-04-15 16:43:51 [INFO] - Currently processing 641. Done 98.31%\n",
      "C:\\Users\\Wojciech\\AppData\\Local\\Temp\\ipykernel_14628\\2115290241.py:94: MarkupResemblesLocatorWarning: The input looks more like a filename than markup. You may want to open this file and pass the filehandle into Beautiful Soup.\n",
      "  soup = BeautifulSoup(response.content, 'html.parser')\n",
      "2024-04-15 16:44:02 [INFO] - Extracted supplier name: None for URL: https://www.viator.com/tours/las-vegas/5-hour-private-self-guided-4x4-adventure-secrets-of-the-west/d684-433878p5\n"
     ]
    },
    {
     "name": "stdout",
     "output_type": "stream",
     "text": [
      "2\n"
     ]
    },
    {
     "name": "stderr",
     "output_type": "stream",
     "text": [
      "2024-04-15 16:44:03 [INFO] - Currently processing 642. Done 98.47%\n",
      "C:\\Users\\Wojciech\\AppData\\Local\\Temp\\ipykernel_14628\\2115290241.py:94: MarkupResemblesLocatorWarning: The input looks more like a filename than markup. You may want to open this file and pass the filehandle into Beautiful Soup.\n",
      "  soup = BeautifulSoup(response.content, 'html.parser')\n",
      "2024-04-15 16:44:20 [INFO] - Extracted supplier name: None for URL: https://www.viator.com/tours/las-vegas/private-emerald-cave-kayak-adventure/d684-140793p5\n"
     ]
    },
    {
     "name": "stdout",
     "output_type": "stream",
     "text": [
      "2\n"
     ]
    },
    {
     "name": "stderr",
     "output_type": "stream",
     "text": [
      "2024-04-15 16:44:20 [INFO] - Currently processing 643. Done 98.62%\n",
      "C:\\Users\\Wojciech\\AppData\\Local\\Temp\\ipykernel_14628\\2115290241.py:94: MarkupResemblesLocatorWarning: The input looks more like a filename than markup. You may want to open this file and pass the filehandle into Beautiful Soup.\n",
      "  soup = BeautifulSoup(response.content, 'html.parser')\n",
      "2024-04-15 16:44:37 [INFO] - Extracted supplier name: None for URL: https://www.viator.com/tours/las-vegas/extreme-dune-buggy-night-tour-from-las-vegas/d684-3611mbad\n"
     ]
    },
    {
     "name": "stdout",
     "output_type": "stream",
     "text": [
      "2\n"
     ]
    },
    {
     "name": "stderr",
     "output_type": "stream",
     "text": [
      "2024-04-15 16:44:37 [INFO] - Currently processing 644. Done 98.77%\n",
      "2024-04-15 16:44:48 [INFO] - Extracted supplier name: Caesars Entertainment for URL: https://www.viator.com/tours/las-vegas/shania-twain-come-on-over-at-planet-hollywood-resort-and-casino/d684-5084p20\n"
     ]
    },
    {
     "name": "stdout",
     "output_type": "stream",
     "text": [
      "2\n"
     ]
    },
    {
     "name": "stderr",
     "output_type": "stream",
     "text": [
      "2024-04-15 16:44:49 [INFO] - Currently processing 645. Done 98.93%\n",
      "2024-04-15 16:44:56 [INFO] - Extracted supplier name: Caesars Entertainment for URL: https://www.viator.com/tours/las-vegas/dita-von-teese-a-jubilant-revue-at-horseshoe-las-vegas/d684-5084p37\n"
     ]
    },
    {
     "name": "stdout",
     "output_type": "stream",
     "text": [
      "2\n"
     ]
    },
    {
     "name": "stderr",
     "output_type": "stream",
     "text": [
      "2024-04-15 16:44:56 [INFO] - Currently processing 646. Done 99.08%\n",
      "2024-04-15 16:45:03 [INFO] - Extracted supplier name: Mr Las Vegas Tours for URL: https://www.viator.com/tours/las-vegas/valley-of-fire-half-day-tour/d684-65770p1\n"
     ]
    },
    {
     "name": "stdout",
     "output_type": "stream",
     "text": [
      "2\n"
     ]
    },
    {
     "name": "stderr",
     "output_type": "stream",
     "text": [
      "2024-04-15 16:45:04 [INFO] - Currently processing 647. Done 99.23%\n",
      "2024-04-15 16:45:11 [INFO] - Extracted supplier name: Supreme Club Tours for URL: https://www.viator.com/tours/las-vegas/las-vegas-hip-hop-pool-tour-w-party-bus-experience/d684-153175p24\n"
     ]
    },
    {
     "name": "stdout",
     "output_type": "stream",
     "text": [
      "2\n"
     ]
    },
    {
     "name": "stderr",
     "output_type": "stream",
     "text": [
      "2024-04-15 16:45:12 [INFO] - Currently processing 648. Done 99.39%\n",
      "2024-04-15 16:45:18 [INFO] - Extracted supplier name: Legendary Party Bus for URL: https://www.viator.com/tours/las-vegas/legendary-party-bus/d684-456222p1\n"
     ]
    },
    {
     "name": "stdout",
     "output_type": "stream",
     "text": [
      "2\n"
     ]
    },
    {
     "name": "stderr",
     "output_type": "stream",
     "text": [
      "2024-04-15 16:45:18 [INFO] - Currently processing 649. Done 99.54%\n",
      "C:\\Users\\Wojciech\\AppData\\Local\\Temp\\ipykernel_14628\\2115290241.py:94: MarkupResemblesLocatorWarning: The input looks more like a filename than markup. You may want to open this file and pass the filehandle into Beautiful Soup.\n",
      "  soup = BeautifulSoup(response.content, 'html.parser')\n",
      "2024-04-15 16:46:34 [INFO] - Extracted supplier name: None for URL: https://www.viator.com/tours/las-vegas/rod-stewart-the-hits-at-the-colosseum-at-caesars-palace/d684-5084p6\n"
     ]
    },
    {
     "name": "stdout",
     "output_type": "stream",
     "text": [
      "2\n"
     ]
    },
    {
     "name": "stderr",
     "output_type": "stream",
     "text": [
      "2024-04-15 16:46:35 [INFO] - Currently processing 650. Done 99.69%\n",
      "2024-04-15 16:46:41 [INFO] - Extracted supplier name: Las Vegas and Grand Canyon Tours for URL: https://www.viator.com/tours/las-vegas/grand-canyon-south/d684-169224p7\n"
     ]
    },
    {
     "name": "stdout",
     "output_type": "stream",
     "text": [
      "2\n"
     ]
    },
    {
     "name": "stderr",
     "output_type": "stream",
     "text": [
      "2024-04-15 16:46:42 [INFO] - Currently processing 651. Done 99.85%\n",
      "2024-04-15 16:46:50 [INFO] - Extracted supplier name: Outdoor Travel Tours for URL: https://www.viator.com/tours/nevada/private-valley-of-fire-hiking-and-sightseeing-adventure/d22171-56549p1\n"
     ]
    },
    {
     "name": "stdout",
     "output_type": "stream",
     "text": [
      "2\n"
     ]
    },
    {
     "name": "stderr",
     "output_type": "stream",
     "text": [
      "2024-04-15 16:46:50 [INFO] - Currently processing 652. Done 100.00%\n"
     ]
    },
    {
     "name": "stdout",
     "output_type": "stream",
     "text": [
      "There are 0 links to do\n"
     ]
    }
   ],
   "source": [
    "main()"
   ]
  },
  {
   "cell_type": "code",
   "execution_count": null,
   "id": "9a39dcc7",
   "metadata": {},
   "outputs": [],
   "source": []
  },
  {
   "cell_type": "code",
   "execution_count": null,
   "id": "81eaeae6",
   "metadata": {},
   "outputs": [],
   "source": []
  }
 ],
 "metadata": {
  "kernelspec": {
   "display_name": "Python 3 (ipykernel)",
   "language": "python",
   "name": "python3"
  },
  "language_info": {
   "codemirror_mode": {
    "name": "ipython",
    "version": 3
   },
   "file_extension": ".py",
   "mimetype": "text/x-python",
   "name": "python",
   "nbconvert_exporter": "python",
   "pygments_lexer": "ipython3",
   "version": "3.10.11"
  }
 },
 "nbformat": 4,
 "nbformat_minor": 5
}
