{
 "cells": [
  {
   "cell_type": "code",
   "execution_count": 3,
   "id": "153cdbfb",
   "metadata": {},
   "outputs": [],
   "source": [
    "import pandas as pd\n",
    "import streamlit as st\n"
   ]
  },
  {
   "cell_type": "code",
   "execution_count": 4,
   "id": "3f56b047",
   "metadata": {},
   "outputs": [
    {
     "name": "stderr",
     "output_type": "stream",
     "text": [
      "2024-05-27 22:13:12.592 \n",
      "  \u001b[33m\u001b[1mWarning:\u001b[0m to view this Streamlit app on a browser, run it with the following\n",
      "  command:\n",
      "\n",
      "    streamlit run C:\\Users\\Wojciech\\AppData\\Local\\Packages\\PythonSoftwareFoundation.Python.3.10_qbz5n2kfra8p0\\LocalCache\\local-packages\\Python310\\site-packages\\ipykernel_launcher.py [ARGUMENTS]\n",
      "2024-05-27 22:13:12.593 Session state does not function when running a script without `streamlit run`\n"
     ]
    }
   ],
   "source": [
    "# Constants\n",
    "time_per_request = 6  # seconds\n",
    "machine_price_per_sec = 0.001851851851851852 # EUR per second\n",
    "\n",
    "# Function to calculate the cost for given parameters\n",
    "def calculate_cost(days_future, lang_count, adults_count, refresh_frequency_in_month, time_per_request, machine_price_per_sec):\n",
    "    request = days_future * lang_count * adults_count * refresh_frequency_in_month\n",
    "    time_single_run = request * time_per_request\n",
    "    cost = time_single_run * machine_price_per_sec\n",
    "    return cost\n",
    "\n",
    "st.title('Budget Checker for Refresh Requests')\n",
    "\n",
    "# Input the budget\n",
    "budget = st.number_input('Enter your budget (EUR):', min_value=0.0, value=6.0)\n",
    "\n",
    "# Initialize session state to keep track of positions\n",
    "if 'positions' not in st.session_state:\n",
    "    st.session_state.positions = []\n",
    "\n",
    "# Add new position\n",
    "if st.button('Add Position'):\n",
    "    st.session_state.positions.append({'days_future': 1, 'lang_count': 1, 'adults_count': 1, 'refresh_frequency': 1, 'cost': 0})\n",
    "\n",
    "# Display positions and input fields for each in a columnar format\n",
    "total_cost = 0\n",
    "\n",
    "# Create a table to display the positions\n",
    "table_data = []\n",
    "\n",
    "for i, position in enumerate(st.session_state.positions):\n",
    "    st.write(f'### Position {i + 1}')\n",
    "    \n",
    "    cols = st.columns(5)\n",
    "    \n",
    "    with cols[0]:\n",
    "        days_future = st.number_input(f'Days in Future:', min_value=1, max_value=365, value=position['days_future'], key=f'days_future_{i}')\n",
    "    with cols[1]:\n",
    "        lang_count = st.number_input(f'Language Count:', min_value=1, max_value=10, value=position['lang_count'], key=f'lang_count_{i}')\n",
    "    with cols[2]:\n",
    "        adults_count = st.number_input(f'Adults Count:', min_value=1, max_value=10, value=position['adults_count'], key=f'adults_count_{i}')\n",
    "    with cols[3]:\n",
    "        refresh_frequency = st.number_input(f'Refresh Frequency:', min_value=1, max_value=30, value=position['refresh_frequency'], key=f'refresh_frequency_{i}')\n",
    "    \n",
    "    cost = calculate_cost(days_future, lang_count, adults_count, refresh_frequency, time_per_request, machine_price_per_sec)\n",
    "    st.session_state.positions[i]['cost'] = cost\n",
    "    total_cost += cost\n",
    "    \n",
    "    table_data.append({\n",
    "        'Days in Future': days_future,\n",
    "        'Language Count': lang_count,\n",
    "        'Adults Count': adults_count,\n",
    "        'Refresh Frequency per Month': refresh_frequency,\n",
    "        'Cost (EUR)': cost\n",
    "    })\n",
    "\n",
    "# Display the table\n",
    "st.write('### Positions Table')\n",
    "st.table(pd.DataFrame(table_data))\n",
    "\n",
    "# Display total cost\n",
    "st.write(f'## Total Cost: {total_cost:.4f} EUR')\n",
    "\n",
    "# Check if the total cost fits within the budget\n",
    "if total_cost <= budget:\n",
    "    st.success('The total cost fits within your budget!')\n",
    "else:\n",
    "    st.error('The total cost exceeds your budget!')\n"
   ]
  },
  {
   "cell_type": "code",
   "execution_count": null,
   "id": "a87420cf",
   "metadata": {},
   "outputs": [],
   "source": []
  }
 ],
 "metadata": {
  "kernelspec": {
   "display_name": "Python 3 (ipykernel)",
   "language": "python",
   "name": "python3"
  },
  "language_info": {
   "codemirror_mode": {
    "name": "ipython",
    "version": 3
   },
   "file_extension": ".py",
   "mimetype": "text/x-python",
   "name": "python",
   "nbconvert_exporter": "python",
   "pygments_lexer": "ipython3",
   "version": "3.10.11"
  }
 },
 "nbformat": 4,
 "nbformat_minor": 5
}
