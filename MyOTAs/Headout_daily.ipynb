{
 "cells": [
  {
   "cell_type": "code",
   "execution_count": 1,
   "metadata": {},
   "outputs": [],
   "source": [
    "from selenium import webdriver\n",
    "from selenium.webdriver.common.by import By\n",
    "from selenium.webdriver.support.ui import WebDriverWait\n",
    "from selenium.webdriver.support import expected_conditions as EC\n",
    "from selenium.common.exceptions import WebDriverException\n",
    "from selenium.webdriver.chrome.webdriver import WebDriver\n",
    "from bs4 import BeautifulSoup\n",
    "import time\n",
    "import pandas as pd\n",
    "import datetime\n",
    "from selenium.webdriver.common.action_chains import ActionChains\n",
    "import os\n",
    "import shutil\n",
    "import logging\n",
    "import traceback\n",
    "import re\n",
    "import csv\n",
    "from azure.storage.blob import BlobServiceClient\n",
    "import importlib\n",
    "import json\n",
    "import common_functions"
   ]
  },
  {
   "cell_type": "code",
   "execution_count": null,
   "metadata": {},
   "outputs": [],
   "source": []
  },
  {
   "cell_type": "code",
   "execution_count": 2,
   "metadata": {},
   "outputs": [],
   "source": [
    "css_selectors = {\n",
    "    'currency': 'button[class=\"elementText\"]',\n",
    "    'currency_list': 'div[class*=\"symbol-bold\"]',\n",
    "    'products_count': 'span[class*=\"product-count-text\"]',\n",
    "    'show_more_button': 'a[data-qa-marker*=\"loading-button\"]',\n",
    "    'product_card': 'div[id*=\"product-card-container\"]',\n",
    "    'tour_price': 'span[class*=\"tour-price\"]',\n",
    "    'tour_price_discount': 'div[class=\"tour-scratch-price\"]',\n",
    "    'ratings': 'span[class*=\"rating-count\"]',\n",
    "    'review_count': 'span[class*=\"review-count\"]',\n",
    "    'category_label': 'span[class*=\"booster-label\"]'\n",
    "}\n",
    "\n",
    "site = \"Headout\"\n",
    "file_manager_logger = common_functions.FilePathManager(site, \"NA\")\n",
    "logger = common_functions.LoggerManager(file_manager_logger)"
   ]
  },
  {
   "cell_type": "code",
   "execution_count": null,
   "metadata": {},
   "outputs": [],
   "source": [
    "# Load the config from the JSON file\n",
    "with open('config.json', 'r') as config_file:\n",
    "    config = json.load(config_file)\n",
    "config = config.get(site)\n",
    "\n",
    "# Access the city from the config\n",
    "cities = config.get('settings').get('city')\n",
    "\n",
    "for city in cities:\n",
    "    url = config.get('settings').get('url').replace(\"city\", city)\n",
    "    file_manager = common_functions.FilePathManager(site, city)\n",
    "    scraper = common_functions.ProductScraperMusment(url, city, css_selectors, file_manager, logger)\n",
    "    \n",
    "    \n",
    "    if scraper.is_city_already_done():\n",
    "        logger.logger_info.info(f\"Data for {city} already exists. Skipping...\")\n",
    "        continue\n",
    "    elif scraper.is_today_already_done():\n",
    "        logger.logger_info.info(f\"Data for today already exists. Exitng...\")\n",
    "        break\n",
    "\n",
    "    scraper.get_url()\n",
    "    scraper.select_currency()\n",
    "    products_count = scraper.get_product_count()\n",
    "    scraper.load_all_products_by_button(products_count)\n",
    "    df = scraper.scrape_products(global_category=True)\n",
    "    scraper.save_to_csv(df)\n",
    "    \n",
    "scraper.combine_csv_to_xlsx()"
   ]
  },
  {
   "cell_type": "code",
   "execution_count": null,
   "metadata": {},
   "outputs": [],
   "source": [
    "# Initialize the AzureBlobUploader with storage account details\n",
    "blob_uploader = common_functions.AzureBlobUploader(file_manager, logger)\n",
    "blob_uploader.upload_excel_to_azure_storage_account()\n",
    "blob_uploader.transform_upload_to_refined()"
   ]
  },
  {
   "cell_type": "code",
   "execution_count": null,
   "metadata": {},
   "outputs": [],
   "source": [
    "\n"
   ]
  },
  {
   "cell_type": "code",
   "execution_count": null,
   "metadata": {},
   "outputs": [],
   "source": []
  }
 ],
 "metadata": {
  "kernelspec": {
   "display_name": "Python 3",
   "language": "python",
   "name": "python3"
  },
  "language_info": {
   "codemirror_mode": {
    "name": "ipython",
    "version": 3
   },
   "file_extension": ".py",
   "mimetype": "text/x-python",
   "name": "python",
   "nbconvert_exporter": "python",
   "pygments_lexer": "ipython3",
   "version": "3.11.9"
  }
 },
 "nbformat": 4,
 "nbformat_minor": 2
}
