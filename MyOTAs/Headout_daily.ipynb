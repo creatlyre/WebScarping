{
 "cells": [
  {
   "cell_type": "code",
   "execution_count": 1,
   "metadata": {},
   "outputs": [],
   "source": [
    "import json\n",
    "import common_functions"
   ]
  },
  {
   "cell_type": "code",
   "execution_count": null,
   "metadata": {},
   "outputs": [],
   "source": []
  },
  {
   "cell_type": "code",
   "execution_count": 2,
   "metadata": {},
   "outputs": [],
   "source": [
    "css_selectors = {\n",
    "    'currency': 'button[class=\"elementText\"]',\n",
    "    'currency_list': 'div[class*=\"symbol-bold\"]',\n",
    "    'products_count': 'span[class*=\"product-count-text\"]',\n",
    "    'show_more_button': 'a[data-qa-marker*=\"loading-button\"]',\n",
    "    'product_card': 'div[id*=\"product-card-container\"]',\n",
    "    'tour_price': 'span[class*=\"tour-price\"]',\n",
    "    'tour_price_discount': 'div[class=\"tour-scratch-price\"]',\n",
    "    'ratings': 'span[class*=\"rating-count\"]',\n",
    "    'review_count': 'span[class*=\"review-count\"]',\n",
    "    'category_label': 'span[class*=\"booster-label\"]'\n",
    "}\n",
    "js_selectors = {\n",
    "    'js_script_for_shadow_root': 'return document.querySelector(\"msm-cookie-banner\").shadowRoot',\n",
    "\n",
    "}\n",
    "\n",
    "site = \"Headout\"\n",
    "file_manager_logger = common_functions.FilePathManager(site, \"NA\")\n",
    "logger = common_functions.LoggerManager(file_manager_logger)"
   ]
  },
  {
   "cell_type": "code",
   "execution_count": 3,
   "metadata": {},
   "outputs": [
    {
     "name": "stderr",
     "output_type": "stream",
     "text": [
      "2024-10-03 15:41:42,113 - Info_logger - INFO - Initializing the Chrome driver\n",
      "2024-10-03 15:41:43,868 - Info_logger - INFO - Successfully initiated Scraper for city: Lisbon\n"
     ]
    }
   ],
   "source": [
    "# Load the config from the JSON file\n",
    "with open('config.json', 'r') as config_file:\n",
    "    config = json.load(config_file)\n",
    "config = config.get(site)\n",
    "\n",
    "# Access the city from the config\n",
    "cities = config.get('settings').get('city')\n",
    "\n",
    "for city in cities:\n",
    "    url = config.get('settings').get('url').replace(\"city\", city)\n",
    "    file_manager = common_functions.FilePathManager(site, city)\n",
    "    scraper = common_functions.ScraperHeadout(url, city, css_selectors, file_manager, logger)\n",
    "    \n",
    "    \n",
    "    if scraper.is_city_already_done():\n",
    "        logger.logger_info.info(f\"Data for {city} already exists. Skipping...\")\n",
    "        continue\n",
    "    elif scraper.is_today_already_done():\n",
    "        logger.logger_info.info(f\"Data for today already exists. Exitng...\")\n",
    "        break\n",
    "\n",
    "    scraper.get_url()\n",
    "    scraper.select_currency()\n",
    "    products_count = scraper.get_product_count()\n",
    "    scraper.load_all_products(products_count)\n",
    "    df = scraper.scrape_products(global_category=True)\n",
    "    scraper.save_to_csv(df)\n",
    "    \n",
    "scraper.combine_csv_to_xlsx()"
   ]
  },
  {
   "cell_type": "code",
   "execution_count": null,
   "metadata": {},
   "outputs": [],
   "source": []
  },
  {
   "cell_type": "code",
   "execution_count": 4,
   "metadata": {},
   "outputs": [
    {
     "name": "stderr",
     "output_type": "stream",
     "text": [
      "2024-09-29 11:59:17,409 - Info_logger - INFO - Sucessfuly initiated AzureBlobUploader\n",
      "2024-09-29 11:59:18,168 - Done_logger - INFO - File uploaded successfully to Azure Blob Storage (raw).\n",
      "2024-09-29 11:59:19,563 - Done_logger - INFO - File uploaded successfully to Azure Blob Storage (refined).\n"
     ]
    }
   ],
   "source": [
    "# Initialize the AzureBlobUploader with storage account details\n",
    "blob_uploader = common_functions.AzureBlobUploader(file_manager, logger)\n",
    "blob_uploader.upload_excel_to_azure_storage_account()\n",
    "blob_uploader.transform_upload_to_refined()"
   ]
  },
  {
   "cell_type": "code",
   "execution_count": null,
   "metadata": {},
   "outputs": [],
   "source": [
    "\n"
   ]
  },
  {
   "cell_type": "code",
   "execution_count": null,
   "metadata": {},
   "outputs": [],
   "source": []
  }
 ],
 "metadata": {
  "kernelspec": {
   "display_name": "Python 3",
   "language": "python",
   "name": "python3"
  },
  "language_info": {
   "codemirror_mode": {
    "name": "ipython",
    "version": 3
   },
   "file_extension": ".py",
   "mimetype": "text/x-python",
   "name": "python",
   "nbconvert_exporter": "python",
   "pygments_lexer": "ipython3",
   "version": "3.11.9"
  }
 },
 "nbformat": 4,
 "nbformat_minor": 2
}
