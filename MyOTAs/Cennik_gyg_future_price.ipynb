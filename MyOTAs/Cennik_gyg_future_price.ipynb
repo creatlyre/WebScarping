{
 "cells": [
  {
   "cell_type": "code",
   "execution_count": 1,
   "id": "153cdbfb",
   "metadata": {},
   "outputs": [],
   "source": [
    "import pandas as pd\n",
    "import streamlit as st\n"
   ]
  },
  {
   "cell_type": "code",
   "execution_count": 7,
   "id": "a167c119",
   "metadata": {},
   "outputs": [
    {
     "name": "stdout",
     "output_type": "stream",
     "text": [
      "0.001851851851851852\n"
     ]
    },
    {
     "data": {
      "text/plain": [
       "[0.001851851851851852,\n",
       " 0.000462962962962963,\n",
       " 0.0002314814814814815,\n",
       " 0.00018518518518518518,\n",
       " 0.00013227513227513228,\n",
       " 0.000462962962962963,\n",
       " 0.0007936507936507937]"
      ]
     },
     "execution_count": 7,
     "metadata": {},
     "output_type": "execute_result"
    }
   ],
   "source": [
    "# Constants\n",
    "time_per_request = 6  # seconds\n",
    "budget = 2  # EUR\n",
    "\n",
    "# Function to calculate machine price per second\n",
    "def calculate_machine_price_per_sec(days_future, lang_count, adults_count, refresh_frequency_in_month, budget):\n",
    "    request = days_future * lang_count * adults_count * refresh_frequency_in_month\n",
    "    time_single_run = request * time_per_request\n",
    "    machine_price_per_sec = budget / time_single_run\n",
    "    return machine_price_per_sec\n",
    "\n",
    "# Input values for different scenarios\n",
    "scenarios = [\n",
    "    (180, 1, 1, 1),\n",
    "    (360, 1, 1, 2),\n",
    "    (360, 1, 1, 4),\n",
    "    (5, 3, 4, 30),\n",
    "    ((5, 3, 4, 30), (90, 1, 2, 4)),  # Combined scenario\n",
    "    (24,1 ,1, 30),\n",
    "    (14, 1, 1, 30)\n",
    "\n",
    "]\n",
    "\n",
    "# Calculate machine price per second for each scenario\n",
    "results = []\n",
    "for scenario in scenarios:\n",
    "    if isinstance(scenario, tuple) and len(scenario) == 2:\n",
    "        combined_requests = (scenario[0][0] * scenario[0][1] * scenario[0][2] * scenario[0][3]) + (scenario[1][0] * scenario[1][1] * scenario[1][2] * scenario[1][3])\n",
    "        combined_time_single_run = combined_requests * time_per_request\n",
    "        machine_price_per_sec = budget / combined_time_single_run\n",
    "    else:\n",
    "        machine_price_per_sec = calculate_machine_price_per_sec(*scenario, budget)\n",
    "    results.append(machine_price_per_sec)\n",
    "\n",
    "\n",
    "\"\"\"\n",
    "SELECTED OPTION IS Days_future = 360 \n",
    "lang_count = 1\n",
    "adults_count = 1\n",
    "refresh_frequency_in_month = 1\n",
    "\"\"\"\n",
    "print(results[0])\n",
    "\n",
    "results"
   ]
  },
  {
   "cell_type": "code",
   "execution_count": 3,
   "id": "3f56b047",
   "metadata": {},
   "outputs": [
    {
     "name": "stderr",
     "output_type": "stream",
     "text": [
      "2024-06-27 12:06:29.730 \n",
      "  \u001b[33m\u001b[1mWarning:\u001b[0m to view this Streamlit app on a browser, run it with the following\n",
      "  command:\n",
      "\n",
      "    streamlit run C:\\Users\\Wojciech\\AppData\\Local\\Packages\\PythonSoftwareFoundation.Python.3.10_qbz5n2kfra8p0\\LocalCache\\local-packages\\Python310\\site-packages\\ipykernel_launcher.py [ARGUMENTS]\n",
      "2024-06-27 12:06:29.731 Session state does not function when running a script without `streamlit run`\n"
     ]
    }
   ],
   "source": [
    "# Constants\n",
    "time_per_request = 6  # seconds\n",
    "machine_price_per_sec = 0.001851851851851852 # EUR per second\n",
    "\n",
    "# Function to calculate the cost for given parameters\n",
    "def calculate_cost(days_future, lang_count, adults_count, refresh_frequency_in_month, time_per_request, machine_price_per_sec):\n",
    "    request = days_future * lang_count * adults_count * refresh_frequency_in_month\n",
    "    time_single_run = request * time_per_request\n",
    "    cost = time_single_run * machine_price_per_sec\n",
    "    return cost\n",
    "\n",
    "st.title('Budget Checker for Refresh Requests')\n",
    "\n",
    "# Input the budget\n",
    "budget = st.number_input('Enter your budget (EUR):', min_value=0.0, value=6.0)\n",
    "\n",
    "# Initialize session state to keep track of positions\n",
    "if 'positions' not in st.session_state:\n",
    "    st.session_state.positions = []\n",
    "\n",
    "# Add new position\n",
    "if st.button('Add Position'):\n",
    "    st.session_state.positions.append({'days_future': 1, 'lang_count': 1, 'adults_count': 1, 'refresh_frequency': 1, 'cost': 0})\n",
    "\n",
    "# Display positions and input fields for each\n",
    "total_cost = 0\n",
    "for i, position in enumerate(st.session_state.positions):\n",
    "    st.write(f'### Position {i + 1}')\n",
    "    days_future = st.number_input(f'Days in Future (Position {i + 1}):', min_value=1, max_value=365, value=position['days_future'], key=f'days_future_{i}')\n",
    "    lang_count = st.number_input(f'Language Count (Position {i + 1}):', min_value=1, max_value=10, value=position['lang_count'], key=f'lang_count_{i}')\n",
    "    adults_count = st.number_input(f'Adults Count (Position {i + 1}):', min_value=1, max_value=10, value=position['adults_count'], key=f'adults_count_{i}')\n",
    "    refresh_frequency = st.number_input(f'Refresh Frequency per Month (Position {i + 1}):', min_value=1, max_value=30, value=position['refresh_frequency'], key=f'refresh_frequency_{i}')\n",
    "    \n",
    "    cost = calculate_cost(days_future, lang_count, adults_count, refresh_frequency, time_per_request, machine_price_per_sec)\n",
    "    st.session_state.positions[i]['cost'] = cost\n",
    "    total_cost += cost\n",
    "    \n",
    "    st.write(f'Cost (Position {i + 1}): {cost:.4f} EUR')\n",
    "\n",
    "# Display total cost\n",
    "st.write(f'## Total Cost: {total_cost:.4f} EUR')\n",
    "\n",
    "# Check if the total cost fits within the budget\n",
    "if total_cost <= budget:\n",
    "    st.success('The total cost fits within your budget!')\n",
    "else:\n",
    "    st.error('The total cost exceeds your budget!')\n",
    "\n"
   ]
  },
  {
   "cell_type": "code",
   "execution_count": null,
   "id": "a87420cf",
   "metadata": {},
   "outputs": [],
   "source": []
  },
  {
   "cell_type": "code",
   "execution_count": null,
   "id": "e29b8421",
   "metadata": {},
   "outputs": [],
   "source": []
  }
 ],
 "metadata": {
  "kernelspec": {
   "display_name": "Python 3 (ipykernel)",
   "language": "python",
   "name": "python3"
  },
  "language_info": {
   "codemirror_mode": {
    "name": "ipython",
    "version": 3
   },
   "file_extension": ".py",
   "mimetype": "text/x-python",
   "name": "python",
   "nbconvert_exporter": "python",
   "pygments_lexer": "ipython3",
   "version": "3.10.11"
  }
 },
 "nbformat": 4,
 "nbformat_minor": 5
}
