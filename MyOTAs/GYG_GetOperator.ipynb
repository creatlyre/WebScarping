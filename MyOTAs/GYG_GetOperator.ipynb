{
 "cells": [
  {
   "cell_type": "code",
   "execution_count": 1,
   "id": "29fc006a",
   "metadata": {},
   "outputs": [],
   "source": [
    "\n",
    "import pandas as pd\n",
    "import common_functions"
   ]
  },
  {
   "cell_type": "code",
   "execution_count": 2,
   "id": "e6c40eaa",
   "metadata": {},
   "outputs": [],
   "source": [
    "site = \"GYG\"\n",
    "file_manager = common_functions.FilePathManager(site, 'N/A')\n",
    "logger = common_functions.LoggerManager(file_manager, application=\"getoperator\")\n",
    "#\n",
    "# css_selectors = {\n",
    "#     'provider': 'div[data-test-id*=\"activity-provider\"]',\n",
    "# }\n",
    "class_selectors = {\n",
    "    'provider': 'supplier-name__link',\n",
    "}\n",
    "\n",
    "file_path_xlsx_operator = file_manager.get_file_paths()['file_path_xlsx_operator']"
   ]
  },
  {
   "cell_type": "code",
   "execution_count": null,
   "id": "992709ff",
   "metadata": {},
   "outputs": [],
   "source": []
  },
  {
   "cell_type": "code",
   "execution_count": 3,
   "id": "47dc4057",
   "metadata": {},
   "outputs": [
    {
     "name": "stderr",
     "output_type": "stream",
     "text": [
      "2024-10-03 20:43:30,641 - Info_logger - GetOperator - INFO - There are 6530\n",
      "2024-10-03 20:43:30,648 - Info_logger - GetOperator - INFO - Processing row 52550 with URL: https://www.getyourguide.com/beverwijk-l150238/wine-tasting-for-groups-of-10-persons-in-a-church-t772193/\n",
      "2024-10-03 20:43:30,649 - Info_logger - GetOperator - INFO - Initializing the Chrome driver\n",
      "2024-10-03 20:43:31,938 - Info_logger - GetOperator - INFO - Successfully initiated Scraper for city: N/A\n",
      "2024-10-03 20:43:31,939 - Info_logger - GetOperator - INFO - Initialized scraper for URL: https://www.getyourguide.com/beverwijk-l150238/wine-tasting-for-groups-of-10-persons-in-a-church-t772193/\n",
      "2024-10-03 20:43:33,734 - Done_logger - GetOperator - INFO - Provider name fetched for row 52550: Wijn Tasting for Groups in the Catacombes of an old Church\n",
      "2024-10-03 20:43:33,737 - Done_logger - GetOperator - INFO - Closed scraper for URL: https://www.getyourguide.com/beverwijk-l150238/wine-tasting-for-groups-of-10-persons-in-a-church-t772193/\n"
     ]
    }
   ],
   "source": [
    "\n",
    "df = pd.read_excel(file_path_xlsx_operator)\n",
    "logger.logger_info.info(f\"There are {len(df[df['Operator'] == 'ToDo'])}\")\n",
    "counter = 1\n",
    "df_todo = df[df['Operator'] == 'ToDo']\n",
    "for index, row in df_todo.iterrows():\n",
    "    \n",
    "    url = row['Link']\n",
    "    # Log the current row being processed\n",
    "    logger.logger_info.info(f\"Processing row {index} with URL: {url}\")\n",
    "\n",
    "    if row['Operator'] != \"ToDo\":\n",
    "        logger.logger_info.info(f\"Skipping row {index} as the URL is not 'ToDo'.\")\n",
    "        continue\n",
    "    try:\n",
    "        scraper = common_functions.ScraperGYG(url, \"N/A\", class_selectors, file_manager, logger, provider=True)\n",
    "        \n",
    "        # Log the initiation of the scraping process\n",
    "        logger.logger_info.info(f\"Initialized scraper for URL: {url}\")\n",
    "        scraper.get_url()\n",
    "        \n",
    "        provider_name = scraper.get_provider_name()\n",
    "        provider_name = provider_name.text\n",
    "        # Log that the provider name was successfully fetched\n",
    "        logger.logger_done.info(f\"Provider name fetched for row {index}: {provider_name}\")\n",
    "            \n",
    "        df.at[index, 'Operator'] = provider_name\n",
    "        if counter % 50 == 0:\n",
    "            logger.logger_done.info(f\"ALready process {counter} saving progress.\")\n",
    "            scraper.save_dataframe(df, file_path_xlsx_operator)\n",
    "    except Exception as e:\n",
    "        # Log any errors encountered during the scraping process\n",
    "        logger.logger_err.error(f\"Error processing row {index} with URL {url}: {str(e)}\")\n",
    "    finally:\n",
    "        # Ensure that the driver is closed\n",
    "        # scraper.quit_driver()\n",
    "        logger.logger_done.info(f\"Closed scraper for URL: {url}\")\n",
    "\n",
    "scraper.save_dataframe(df, file_path_xlsx_operator)\n"
   ]
  },
  {
   "cell_type": "code",
   "execution_count": null,
   "id": "35025a9f",
   "metadata": {},
   "outputs": [],
   "source": []
  }
 ],
 "metadata": {
  "kernelspec": {
   "display_name": "Python 3",
   "language": "python",
   "name": "python3"
  },
  "language_info": {
   "codemirror_mode": {
    "name": "ipython",
    "version": 3
   },
   "file_extension": ".py",
   "mimetype": "text/x-python",
   "name": "python",
   "nbconvert_exporter": "python",
   "pygments_lexer": "ipython3",
   "version": "3.11.9"
  }
 },
 "nbformat": 4,
 "nbformat_minor": 5
}
