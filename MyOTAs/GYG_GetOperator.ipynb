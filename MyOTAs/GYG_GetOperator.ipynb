{
 "cells": [
  {
   "cell_type": "code",
   "execution_count": 3,
   "id": "29fc006a",
   "metadata": {},
   "outputs": [],
   "source": [
    "\n",
    "import pandas as pd\n",
    "import common_functions"
   ]
  },
  {
   "cell_type": "code",
   "execution_count": 4,
   "id": "e6c40eaa",
   "metadata": {},
   "outputs": [],
   "source": [
    "site = \"GYG\"\n",
    "file_manager = common_functions.FilePathManager(site, 'N/A')\n",
    "logger = common_functions.LoggerManager(file_manager, application=\"getoperator\")\n",
    "#\n",
    "# css_selectors = {\n",
    "#     'provider': 'div[data-test-id*=\"activity-provider\"]',\n",
    "# }\n",
    "class_selectors = {\n",
    "    'provider': 'supplier-name__link',\n",
    "}\n",
    "\n",
    "file_path_xlsx_operator = file_manager.get_file_paths()['file_path_xlsx_operator']"
   ]
  },
  {
   "cell_type": "code",
   "execution_count": null,
   "id": "992709ff",
   "metadata": {},
   "outputs": [],
   "source": []
  },
  {
   "cell_type": "code",
   "execution_count": 5,
   "id": "47dc4057",
   "metadata": {},
   "outputs": [
    {
     "name": "stderr",
     "output_type": "stream",
     "text": [
      "2024-10-10 16:04:52,237 - Info_logger - INFO - There are 7009\n",
      "2024-10-10 16:04:53,057 - Info_logger - INFO - Processing row 52551 with URL: https://www.getyourguide.com/amsterdam-l36/amsterdam-open-boat-cruise-with-unlimited-drinks-option-t396132/\n",
      "2024-10-10 16:04:53,059 - Info_logger - INFO - Initializing the Chrome driver\n",
      "2024-10-10 16:04:54,702 - Info_logger - INFO - Successfully initiated Scraper for city: N/A\n",
      "2024-10-10 16:04:54,703 - Info_logger - INFO - Initialized scraper for URL: https://www.getyourguide.com/amsterdam-l36/amsterdam-open-boat-cruise-with-unlimited-drinks-option-t396132/\n",
      "2024-10-10 16:04:56,896 - Done_logger - INFO - Provider name fetched for row 52551: Flagship Amsterdam\n",
      "2024-10-10 16:04:56,908 - Done_logger - INFO - Closed scraper for URL: https://www.getyourguide.com/amsterdam-l36/amsterdam-open-boat-cruise-with-unlimited-drinks-option-t396132/\n",
      "2024-10-10 16:04:56,909 - Info_logger - INFO - Processing row 52552 with URL: https://www.getyourguide.com/amsterdam-l36/amsterdam-light-festival-canal-cruise-central-station-t778816/\n",
      "2024-10-10 16:04:56,910 - Info_logger - INFO - Initializing the Chrome driver\n",
      "2024-10-10 16:04:58,258 - Info_logger - INFO - Successfully initiated Scraper for city: N/A\n",
      "2024-10-10 16:05:00,308 - Info_logger - INFO - Initialized scraper for URL: https://www.getyourguide.com/amsterdam-l36/amsterdam-light-festival-canal-cruise-central-station-t778816/\n",
      "2024-10-10 16:05:02,217 - Done_logger - INFO - Provider name fetched for row 52552: Amsterdam Circle Line B.V.\n",
      "2024-10-10 16:05:02,218 - Done_logger - INFO - Closed scraper for URL: https://www.getyourguide.com/amsterdam-l36/amsterdam-light-festival-canal-cruise-central-station-t778816/\n",
      "2024-10-10 16:05:02,219 - Info_logger - INFO - Processing row 52553 with URL: https://www.getyourguide.com/amsterdam-l36/amsterdam-new-year-s-eve-pub-crawl-with-vip-club-entry-t822851/\n",
      "2024-10-10 16:05:02,220 - Info_logger - INFO - Initializing the Chrome driver\n",
      "2024-10-10 16:05:03,518 - Info_logger - INFO - Successfully initiated Scraper for city: N/A\n",
      "2024-10-10 16:05:05,575 - Info_logger - INFO - Initialized scraper for URL: https://www.getyourguide.com/amsterdam-l36/amsterdam-new-year-s-eve-pub-crawl-with-vip-club-entry-t822851/\n",
      "2024-10-10 16:05:07,441 - Done_logger - INFO - Provider name fetched for row 52553: LUDWIG'S ORIGINAL TOURS\n",
      "2024-10-10 16:05:07,442 - Done_logger - INFO - Closed scraper for URL: https://www.getyourguide.com/amsterdam-l36/amsterdam-new-year-s-eve-pub-crawl-with-vip-club-entry-t822851/\n",
      "2024-10-10 16:05:07,443 - Info_logger - INFO - Processing row 52554 with URL: https://www.getyourguide.com/amsterdam-l36/amsterdam-dgtl-ade-show-brutalismus-3000-invites-t784914/\n",
      "2024-10-10 16:05:07,443 - Info_logger - INFO - Initializing the Chrome driver\n",
      "2024-10-10 16:05:08,720 - Info_logger - INFO - Successfully initiated Scraper for city: N/A\n",
      "2024-10-10 16:05:10,780 - Info_logger - INFO - Initialized scraper for URL: https://www.getyourguide.com/amsterdam-l36/amsterdam-dgtl-ade-show-brutalismus-3000-invites-t784914/\n",
      "2024-10-10 16:05:12,534 - Done_logger - INFO - Provider name fetched for row 52554: DGTL\n",
      "2024-10-10 16:05:12,535 - Done_logger - INFO - Closed scraper for URL: https://www.getyourguide.com/amsterdam-l36/amsterdam-dgtl-ade-show-brutalismus-3000-invites-t784914/\n",
      "2024-10-10 16:05:12,536 - Info_logger - INFO - Processing row 52555 with URL: https://www.getyourguide.com/amsterdam-l36/amsterdam-dgtl-ade-show-gou-talk-by-peggy-gou-t784923/\n",
      "2024-10-10 16:05:12,536 - Info_logger - INFO - Initializing the Chrome driver\n",
      "2024-10-10 16:05:13,767 - Info_logger - INFO - Successfully initiated Scraper for city: N/A\n",
      "2024-10-10 16:05:15,806 - Info_logger - INFO - Initialized scraper for URL: https://www.getyourguide.com/amsterdam-l36/amsterdam-dgtl-ade-show-gou-talk-by-peggy-gou-t784923/\n",
      "2024-10-10 16:05:17,633 - Done_logger - INFO - Provider name fetched for row 52555: DGTL\n",
      "2024-10-10 16:05:17,634 - Done_logger - INFO - Closed scraper for URL: https://www.getyourguide.com/amsterdam-l36/amsterdam-dgtl-ade-show-gou-talk-by-peggy-gou-t784923/\n",
      "2024-10-10 16:05:17,635 - Info_logger - INFO - Processing row 52556 with URL: https://www.getyourguide.com/amsterdam-l36/amsterdam-dgtl-ade-show-colyn-jan-blomqvist-mathame-t784893/\n",
      "2024-10-10 16:05:17,636 - Info_logger - INFO - Initializing the Chrome driver\n",
      "2024-10-10 16:05:18,411 - Done_logger - INFO - Closed scraper for URL: https://www.getyourguide.com/amsterdam-l36/amsterdam-dgtl-ade-show-colyn-jan-blomqvist-mathame-t784893/\n"
     ]
    },
    {
     "ename": "KeyboardInterrupt",
     "evalue": "",
     "output_type": "error",
     "traceback": [
      "\u001b[1;31m---------------------------------------------------------------------------\u001b[0m",
      "\u001b[1;31mKeyboardInterrupt\u001b[0m                         Traceback (most recent call last)",
      "Cell \u001b[1;32mIn[5], line 15\u001b[0m\n\u001b[0;32m     13\u001b[0m     \u001b[38;5;28;01mcontinue\u001b[39;00m\n\u001b[0;32m     14\u001b[0m \u001b[38;5;28;01mtry\u001b[39;00m:\n\u001b[1;32m---> 15\u001b[0m     scraper \u001b[38;5;241m=\u001b[39m \u001b[43mcommon_functions\u001b[49m\u001b[38;5;241;43m.\u001b[39;49m\u001b[43mScraperGYG\u001b[49m\u001b[43m(\u001b[49m\u001b[43murl\u001b[49m\u001b[43m,\u001b[49m\u001b[43m \u001b[49m\u001b[38;5;124;43m\"\u001b[39;49m\u001b[38;5;124;43mN/A\u001b[39;49m\u001b[38;5;124;43m\"\u001b[39;49m\u001b[43m,\u001b[49m\u001b[43m \u001b[49m\u001b[43mclass_selectors\u001b[49m\u001b[43m,\u001b[49m\u001b[43m \u001b[49m\u001b[43mfile_manager\u001b[49m\u001b[43m,\u001b[49m\u001b[43m \u001b[49m\u001b[43mlogger\u001b[49m\u001b[43m,\u001b[49m\u001b[43m \u001b[49m\u001b[43mprovider\u001b[49m\u001b[38;5;241;43m=\u001b[39;49m\u001b[38;5;28;43;01mTrue\u001b[39;49;00m\u001b[43m)\u001b[49m\n\u001b[0;32m     17\u001b[0m     \u001b[38;5;66;03m# Log the initiation of the scraping process\u001b[39;00m\n\u001b[0;32m     18\u001b[0m     logger\u001b[38;5;241m.\u001b[39mlogger_info\u001b[38;5;241m.\u001b[39minfo(\u001b[38;5;124mf\u001b[39m\u001b[38;5;124m\"\u001b[39m\u001b[38;5;124mInitialized scraper for URL: \u001b[39m\u001b[38;5;132;01m{\u001b[39;00murl\u001b[38;5;132;01m}\u001b[39;00m\u001b[38;5;124m\"\u001b[39m)\n",
      "File \u001b[1;32mc:\\Users\\Wojciech\\Documents\\Python\\MyOTAs\\OTAs_Application\\MyOTAs\\common_functions.py:822\u001b[0m, in \u001b[0;36mScraperGYG.__init__\u001b[1;34m(self, url, city, css_selectors, file_manager, logger, provider)\u001b[0m\n\u001b[0;32m    821\u001b[0m \u001b[38;5;28;01mdef\u001b[39;00m \u001b[38;5;21m__init__\u001b[39m(\u001b[38;5;28mself\u001b[39m, url, city, css_selectors, file_manager, logger, provider\u001b[38;5;241m=\u001b[39m\u001b[38;5;28;01mFalse\u001b[39;00m):\n\u001b[1;32m--> 822\u001b[0m     \u001b[38;5;28;43msuper\u001b[39;49m\u001b[43m(\u001b[49m\u001b[43m)\u001b[49m\u001b[38;5;241;43m.\u001b[39;49m\u001b[38;5;21;43m__init__\u001b[39;49m\u001b[43m(\u001b[49m\u001b[43murl\u001b[49m\u001b[43m,\u001b[49m\u001b[43m \u001b[49m\u001b[43mcity\u001b[49m\u001b[43m,\u001b[49m\u001b[43m \u001b[49m\u001b[43mcss_selectors\u001b[49m\u001b[43m,\u001b[49m\u001b[43m \u001b[49m\u001b[43mfile_manager\u001b[49m\u001b[43m,\u001b[49m\u001b[43m \u001b[49m\u001b[43mlogger\u001b[49m\u001b[43m)\u001b[49m\n\u001b[0;32m    823\u001b[0m     \u001b[38;5;28;01mif\u001b[39;00m provider:\n\u001b[0;32m    824\u001b[0m         \u001b[38;5;28mself\u001b[39m\u001b[38;5;241m.\u001b[39mcss_provider \u001b[38;5;241m=\u001b[39m \u001b[38;5;28mself\u001b[39m\u001b[38;5;241m.\u001b[39mcss_selectors\u001b[38;5;241m.\u001b[39mget(\u001b[38;5;124m'\u001b[39m\u001b[38;5;124mprovider\u001b[39m\u001b[38;5;124m'\u001b[39m)\n",
      "File \u001b[1;32mc:\\Users\\Wojciech\\Documents\\Python\\MyOTAs\\OTAs_Application\\MyOTAs\\common_functions.py:344\u001b[0m, in \u001b[0;36mScraperBase.__init__\u001b[1;34m(self, url, city, css_selectors, file_manager, logger)\u001b[0m\n\u001b[0;32m    341\u001b[0m \u001b[38;5;28mself\u001b[39m\u001b[38;5;241m.\u001b[39mcss_category_label \u001b[38;5;241m=\u001b[39m \u001b[38;5;28mself\u001b[39m\u001b[38;5;241m.\u001b[39mcss_selectors\u001b[38;5;241m.\u001b[39mget(\u001b[38;5;124m'\u001b[39m\u001b[38;5;124mcategory_label\u001b[39m\u001b[38;5;124m'\u001b[39m)\n\u001b[0;32m    343\u001b[0m \u001b[38;5;66;03m# Initialize the driver\u001b[39;00m\n\u001b[1;32m--> 344\u001b[0m \u001b[38;5;28mself\u001b[39m\u001b[38;5;241m.\u001b[39mdriver \u001b[38;5;241m=\u001b[39m \u001b[38;5;28;43mself\u001b[39;49m\u001b[38;5;241;43m.\u001b[39;49m\u001b[43minitialize_driver\u001b[49m\u001b[43m(\u001b[49m\u001b[43m)\u001b[49m\n\u001b[0;32m    345\u001b[0m \u001b[38;5;28mself\u001b[39m\u001b[38;5;241m.\u001b[39mlogger\u001b[38;5;241m.\u001b[39mlogger_info\u001b[38;5;241m.\u001b[39minfo(\u001b[38;5;124m\"\u001b[39m\u001b[38;5;124mSuccessfully initiated Scraper for city: \u001b[39m\u001b[38;5;132;01m%s\u001b[39;00m\u001b[38;5;124m\"\u001b[39m, \u001b[38;5;28mself\u001b[39m\u001b[38;5;241m.\u001b[39mcity)\n",
      "File \u001b[1;32mc:\\Users\\Wojciech\\Documents\\Python\\MyOTAs\\OTAs_Application\\MyOTAs\\common_functions.py:356\u001b[0m, in \u001b[0;36mScraperBase.initialize_driver\u001b[1;34m(self)\u001b[0m\n\u001b[0;32m    353\u001b[0m options\u001b[38;5;241m.\u001b[39madd_argument(\u001b[38;5;124m'\u001b[39m\u001b[38;5;124m--blink-settings=imagesEnabled=false\u001b[39m\u001b[38;5;124m'\u001b[39m)\n\u001b[0;32m    355\u001b[0m \u001b[38;5;66;03m# Initialize the Chrome driver\u001b[39;00m\n\u001b[1;32m--> 356\u001b[0m driver \u001b[38;5;241m=\u001b[39m \u001b[43mwebdriver\u001b[49m\u001b[38;5;241;43m.\u001b[39;49m\u001b[43mChrome\u001b[49m\u001b[43m(\u001b[49m\u001b[43moptions\u001b[49m\u001b[38;5;241;43m=\u001b[39;49m\u001b[43moptions\u001b[49m\u001b[43m)\u001b[49m\n\u001b[0;32m    357\u001b[0m driver\u001b[38;5;241m.\u001b[39mmaximize_window()\n\u001b[0;32m    358\u001b[0m \u001b[38;5;28;01mreturn\u001b[39;00m driver\n",
      "File \u001b[1;32m~\\AppData\\Local\\Packages\\PythonSoftwareFoundation.Python.3.11_qbz5n2kfra8p0\\LocalCache\\local-packages\\Python311\\site-packages\\selenium\\webdriver\\chrome\\webdriver.py:45\u001b[0m, in \u001b[0;36mWebDriver.__init__\u001b[1;34m(self, options, service, keep_alive)\u001b[0m\n\u001b[0;32m     42\u001b[0m service \u001b[38;5;241m=\u001b[39m service \u001b[38;5;28;01mif\u001b[39;00m service \u001b[38;5;28;01melse\u001b[39;00m Service()\n\u001b[0;32m     43\u001b[0m options \u001b[38;5;241m=\u001b[39m options \u001b[38;5;28;01mif\u001b[39;00m options \u001b[38;5;28;01melse\u001b[39;00m Options()\n\u001b[1;32m---> 45\u001b[0m \u001b[38;5;28;43msuper\u001b[39;49m\u001b[43m(\u001b[49m\u001b[43m)\u001b[49m\u001b[38;5;241;43m.\u001b[39;49m\u001b[38;5;21;43m__init__\u001b[39;49m\u001b[43m(\u001b[49m\n\u001b[0;32m     46\u001b[0m \u001b[43m    \u001b[49m\u001b[43mbrowser_name\u001b[49m\u001b[38;5;241;43m=\u001b[39;49m\u001b[43mDesiredCapabilities\u001b[49m\u001b[38;5;241;43m.\u001b[39;49m\u001b[43mCHROME\u001b[49m\u001b[43m[\u001b[49m\u001b[38;5;124;43m\"\u001b[39;49m\u001b[38;5;124;43mbrowserName\u001b[39;49m\u001b[38;5;124;43m\"\u001b[39;49m\u001b[43m]\u001b[49m\u001b[43m,\u001b[49m\n\u001b[0;32m     47\u001b[0m \u001b[43m    \u001b[49m\u001b[43mvendor_prefix\u001b[49m\u001b[38;5;241;43m=\u001b[39;49m\u001b[38;5;124;43m\"\u001b[39;49m\u001b[38;5;124;43mgoog\u001b[39;49m\u001b[38;5;124;43m\"\u001b[39;49m\u001b[43m,\u001b[49m\n\u001b[0;32m     48\u001b[0m \u001b[43m    \u001b[49m\u001b[43moptions\u001b[49m\u001b[38;5;241;43m=\u001b[39;49m\u001b[43moptions\u001b[49m\u001b[43m,\u001b[49m\n\u001b[0;32m     49\u001b[0m \u001b[43m    \u001b[49m\u001b[43mservice\u001b[49m\u001b[38;5;241;43m=\u001b[39;49m\u001b[43mservice\u001b[49m\u001b[43m,\u001b[49m\n\u001b[0;32m     50\u001b[0m \u001b[43m    \u001b[49m\u001b[43mkeep_alive\u001b[49m\u001b[38;5;241;43m=\u001b[39;49m\u001b[43mkeep_alive\u001b[49m\u001b[43m,\u001b[49m\n\u001b[0;32m     51\u001b[0m \u001b[43m\u001b[49m\u001b[43m)\u001b[49m\n",
      "File \u001b[1;32m~\\AppData\\Local\\Packages\\PythonSoftwareFoundation.Python.3.11_qbz5n2kfra8p0\\LocalCache\\local-packages\\Python311\\site-packages\\selenium\\webdriver\\chromium\\webdriver.py:50\u001b[0m, in \u001b[0;36mChromiumDriver.__init__\u001b[1;34m(self, browser_name, vendor_prefix, options, service, keep_alive)\u001b[0m\n\u001b[0;32m     47\u001b[0m \u001b[38;5;28mself\u001b[39m\u001b[38;5;241m.\u001b[39mservice \u001b[38;5;241m=\u001b[39m service\n\u001b[0;32m     49\u001b[0m \u001b[38;5;28mself\u001b[39m\u001b[38;5;241m.\u001b[39mservice\u001b[38;5;241m.\u001b[39mpath \u001b[38;5;241m=\u001b[39m DriverFinder\u001b[38;5;241m.\u001b[39mget_path(\u001b[38;5;28mself\u001b[39m\u001b[38;5;241m.\u001b[39mservice, options)\n\u001b[1;32m---> 50\u001b[0m \u001b[38;5;28;43mself\u001b[39;49m\u001b[38;5;241;43m.\u001b[39;49m\u001b[43mservice\u001b[49m\u001b[38;5;241;43m.\u001b[39;49m\u001b[43mstart\u001b[49m\u001b[43m(\u001b[49m\u001b[43m)\u001b[49m\n\u001b[0;32m     52\u001b[0m executor \u001b[38;5;241m=\u001b[39m ChromiumRemoteConnection(\n\u001b[0;32m     53\u001b[0m     remote_server_addr\u001b[38;5;241m=\u001b[39m\u001b[38;5;28mself\u001b[39m\u001b[38;5;241m.\u001b[39mservice\u001b[38;5;241m.\u001b[39mservice_url,\n\u001b[0;32m     54\u001b[0m     browser_name\u001b[38;5;241m=\u001b[39mbrowser_name,\n\u001b[1;32m   (...)\u001b[0m\n\u001b[0;32m     57\u001b[0m     ignore_proxy\u001b[38;5;241m=\u001b[39moptions\u001b[38;5;241m.\u001b[39m_ignore_local_proxy,\n\u001b[0;32m     58\u001b[0m )\n\u001b[0;32m     60\u001b[0m \u001b[38;5;28;01mtry\u001b[39;00m:\n",
      "File \u001b[1;32m~\\AppData\\Local\\Packages\\PythonSoftwareFoundation.Python.3.11_qbz5n2kfra8p0\\LocalCache\\local-packages\\Python311\\site-packages\\selenium\\webdriver\\common\\service.py:103\u001b[0m, in \u001b[0;36mService.start\u001b[1;34m(self)\u001b[0m\n\u001b[0;32m    101\u001b[0m \u001b[38;5;28;01mwhile\u001b[39;00m \u001b[38;5;28;01mTrue\u001b[39;00m:\n\u001b[0;32m    102\u001b[0m     \u001b[38;5;28mself\u001b[39m\u001b[38;5;241m.\u001b[39massert_process_still_running()\n\u001b[1;32m--> 103\u001b[0m     \u001b[38;5;28;01mif\u001b[39;00m \u001b[38;5;28;43mself\u001b[39;49m\u001b[38;5;241;43m.\u001b[39;49m\u001b[43mis_connectable\u001b[49m\u001b[43m(\u001b[49m\u001b[43m)\u001b[49m:\n\u001b[0;32m    104\u001b[0m         \u001b[38;5;28;01mbreak\u001b[39;00m\n\u001b[0;32m    105\u001b[0m     \u001b[38;5;66;03m# sleep increasing: 0.01, 0.06, 0.11, 0.16, 0.21, 0.26, 0.31, 0.36, 0.41, 0.46, 0.5\u001b[39;00m\n",
      "File \u001b[1;32m~\\AppData\\Local\\Packages\\PythonSoftwareFoundation.Python.3.11_qbz5n2kfra8p0\\LocalCache\\local-packages\\Python311\\site-packages\\selenium\\webdriver\\common\\service.py:120\u001b[0m, in \u001b[0;36mService.is_connectable\u001b[1;34m(self)\u001b[0m\n\u001b[0;32m    117\u001b[0m \u001b[38;5;28;01mdef\u001b[39;00m \u001b[38;5;21mis_connectable\u001b[39m(\u001b[38;5;28mself\u001b[39m) \u001b[38;5;241m-\u001b[39m\u001b[38;5;241m>\u001b[39m \u001b[38;5;28mbool\u001b[39m:\n\u001b[0;32m    118\u001b[0m \u001b[38;5;250m    \u001b[39m\u001b[38;5;124;03m\"\"\"Establishes a socket connection to determine if the service running\u001b[39;00m\n\u001b[0;32m    119\u001b[0m \u001b[38;5;124;03m    on the port is accessible.\"\"\"\u001b[39;00m\n\u001b[1;32m--> 120\u001b[0m     \u001b[38;5;28;01mreturn\u001b[39;00m \u001b[43mutils\u001b[49m\u001b[38;5;241;43m.\u001b[39;49m\u001b[43mis_connectable\u001b[49m\u001b[43m(\u001b[49m\u001b[38;5;28;43mself\u001b[39;49m\u001b[38;5;241;43m.\u001b[39;49m\u001b[43mport\u001b[49m\u001b[43m)\u001b[49m\n",
      "File \u001b[1;32m~\\AppData\\Local\\Packages\\PythonSoftwareFoundation.Python.3.11_qbz5n2kfra8p0\\LocalCache\\local-packages\\Python311\\site-packages\\selenium\\webdriver\\common\\utils.py:101\u001b[0m, in \u001b[0;36mis_connectable\u001b[1;34m(port, host)\u001b[0m\n\u001b[0;32m     99\u001b[0m socket_ \u001b[38;5;241m=\u001b[39m \u001b[38;5;28;01mNone\u001b[39;00m\n\u001b[0;32m    100\u001b[0m \u001b[38;5;28;01mtry\u001b[39;00m:\n\u001b[1;32m--> 101\u001b[0m     socket_ \u001b[38;5;241m=\u001b[39m \u001b[43msocket\u001b[49m\u001b[38;5;241;43m.\u001b[39;49m\u001b[43mcreate_connection\u001b[49m\u001b[43m(\u001b[49m\u001b[43m(\u001b[49m\u001b[43mhost\u001b[49m\u001b[43m,\u001b[49m\u001b[43m \u001b[49m\u001b[43mport\u001b[49m\u001b[43m)\u001b[49m\u001b[43m,\u001b[49m\u001b[43m \u001b[49m\u001b[38;5;241;43m1\u001b[39;49m\u001b[43m)\u001b[49m\n\u001b[0;32m    102\u001b[0m     result \u001b[38;5;241m=\u001b[39m \u001b[38;5;28;01mTrue\u001b[39;00m\n\u001b[0;32m    103\u001b[0m \u001b[38;5;28;01mexcept\u001b[39;00m _is_connectable_exceptions:\n",
      "File \u001b[1;32mC:\\Program Files\\WindowsApps\\PythonSoftwareFoundation.Python.3.11_3.11.2544.0_x64__qbz5n2kfra8p0\\Lib\\socket.py:836\u001b[0m, in \u001b[0;36mcreate_connection\u001b[1;34m(address, timeout, source_address, all_errors)\u001b[0m\n\u001b[0;32m    834\u001b[0m \u001b[38;5;28;01mif\u001b[39;00m source_address:\n\u001b[0;32m    835\u001b[0m     sock\u001b[38;5;241m.\u001b[39mbind(source_address)\n\u001b[1;32m--> 836\u001b[0m sock\u001b[38;5;241m.\u001b[39mconnect(sa)\n\u001b[0;32m    837\u001b[0m \u001b[38;5;66;03m# Break explicitly a reference cycle\u001b[39;00m\n\u001b[0;32m    838\u001b[0m exceptions\u001b[38;5;241m.\u001b[39mclear()\n",
      "\u001b[1;31mKeyboardInterrupt\u001b[0m: "
     ]
    }
   ],
   "source": [
    "\n",
    "df = pd.read_excel(file_path_xlsx_operator)\n",
    "logger.logger_info.info(f\"There are {len(df[df['Operator'] == 'ToDo'])}\")\n",
    "counter = 1\n",
    "df_todo = df[df['Operator'] == 'ToDo']\n",
    "for index, row in df_todo.iterrows():\n",
    "    \n",
    "    url = row['Link']\n",
    "    # Log the current row being processed\n",
    "    logger.logger_info.info(f\"Processing row {index} with URL: {url}\")\n",
    "\n",
    "    if row['Operator'] != \"ToDo\":\n",
    "        logger.logger_info.info(f\"Skipping row {index} as the URL is not 'ToDo'.\")\n",
    "        continue\n",
    "    try:\n",
    "        scraper = common_functions.ScraperGYG(url, \"N/A\", class_selectors, file_manager, logger, provider=True)\n",
    "        \n",
    "        # Log the initiation of the scraping process\n",
    "        logger.logger_info.info(f\"Initialized scraper for URL: {url}\")\n",
    "        scraper.get_url()\n",
    "        \n",
    "        provider_name = scraper.get_provider_name()\n",
    "        provider_name = provider_name.text\n",
    "        # Log that the provider name was successfully fetched\n",
    "        logger.logger_done.info(f\"Provider name fetched for row {index}: {provider_name}\")\n",
    "            \n",
    "        df.at[index, 'Operator'] = provider_name\n",
    "        counter += 1\n",
    "        if counter % 50 == 0:\n",
    "            logger.logger_done.info(f\"Already process {counter} saving progress.\")\n",
    "            scraper.save_dataframe(df, file_path_xlsx_operator)\n",
    "    except Exception as e:\n",
    "        # Log any errors encountered during the scraping process\n",
    "        logger.logger_err.error(f\"Error processing row {index} with URL {url}: {str(e)}\")\n",
    "    finally:\n",
    "        # Ensure that the driver is closed\n",
    "        # scraper.quit_driver()\n",
    "        logger.logger_done.info(f\"Closed scraper for URL: {url}\")\n",
    "\n",
    "scraper.save_dataframe(df, file_path_xlsx_operator)\n"
   ]
  },
  {
   "cell_type": "code",
   "execution_count": 6,
   "id": "35025a9f",
   "metadata": {},
   "outputs": [
    {
     "data": {
      "text/plain": [
       "1"
      ]
     },
     "execution_count": 6,
     "metadata": {},
     "output_type": "execute_result"
    },
    {
     "ename": "",
     "evalue": "",
     "output_type": "error",
     "traceback": [
      "\u001b[1;31mThe Kernel crashed while executing code in the current cell or a previous cell. \n",
      "\u001b[1;31mPlease review the code in the cell(s) to identify a possible cause of the failure. \n",
      "\u001b[1;31mClick <a href='https://aka.ms/vscodeJupyterKernelCrash'>here</a> for more info. \n",
      "\u001b[1;31mView Jupyter <a href='command:jupyter.viewOutput'>log</a> for further details."
     ]
    }
   ],
   "source": [
    "counter"
   ]
  },
  {
   "cell_type": "code",
   "execution_count": null,
   "id": "a71ee347",
   "metadata": {},
   "outputs": [],
   "source": []
  }
 ],
 "metadata": {
  "kernelspec": {
   "display_name": "Python 3",
   "language": "python",
   "name": "python3"
  },
  "language_info": {
   "codemirror_mode": {
    "name": "ipython",
    "version": 3
   },
   "file_extension": ".py",
   "mimetype": "text/x-python",
   "name": "python",
   "nbconvert_exporter": "python",
   "pygments_lexer": "ipython3",
   "version": "3.11.9"
  }
 },
 "nbformat": 4,
 "nbformat_minor": 5
}
