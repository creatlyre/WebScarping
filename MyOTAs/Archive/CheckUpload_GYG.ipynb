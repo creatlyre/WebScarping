{
 "cells": [
  {
   "cell_type": "code",
   "execution_count": 1,
   "id": "fd00c44c",
   "metadata": {},
   "outputs": [],
   "source": [
    "import os\n",
    "import pickle\n",
    "import google.auth\n",
    "from googleapiclient.discovery import build\n",
    "from google.oauth2 import service_account\n",
    "from googleapiclient.errors import HttpError\n",
    "import googleapiclient\n",
    "import gspread\n",
    "import base64\n",
    "from email.mime.text import MIMEText\n",
    "from google.oauth2.credentials import Credentials\n",
    "from google_auth_oauthlib.flow import InstalledAppFlow\n",
    "from google.auth.transport.requests import Request\n",
    "import google.auth\n",
    "import datetime\n"
   ]
  },
  {
   "cell_type": "code",
   "execution_count": 2,
   "id": "ad8c5753",
   "metadata": {},
   "outputs": [],
   "source": [
    "date_today = datetime.date.today().strftime(\"%Y-%m-%d\")\n",
    "blob_name = fr'GYG - {date_today}.xlsx'\n",
    "blob_name_short = blob_name.split('.')[0]\n",
    "file_path_logs_processed = fr'G:/.shortcut-targets-by-id/1ER8hilqZ2TuX2C34R3SMAtd1Xbk94LE2/MyOTAs/Baza Excel/Logs/files_processed/{blob_name_short}'\n"
   ]
  },
  {
   "cell_type": "code",
   "execution_count": 3,
   "id": "978cfdb0",
   "metadata": {},
   "outputs": [],
   "source": [
    "#Send emial via gmail api template\n",
    "def send_email(subject, message, recipient, static_discovery=False):\n",
    "    # If modifying these SCOPES, delete the file token.pickle.\n",
    "    SCOPES = ['https://www.googleapis.com/auth/gmail.send',\n",
    "              'https://www.googleapis.com/auth/spreadsheets']\n",
    "\n",
    "    creds = None\n",
    "    if os.path.exists('token.pickle'):\n",
    "        with open('token.pickle', 'rb') as token:\n",
    "            creds = pickle.load(token)\n",
    "    # If there are no (valid) credentials available, let the user log in.\n",
    "    if not creds or not creds.valid:\n",
    "        if creds and creds.expired and creds.refresh_token:\n",
    "            creds.refresh(Request())\n",
    "        else:\n",
    "            flow = InstalledAppFlow.from_client_secrets_file(\n",
    "                'client_secret.json', SCOPES)\n",
    "            creds = flow.run_local_server(port=0)\n",
    "        # Save the credentials for the next run\n",
    "        with open('token.pickle', 'wb') as token:\n",
    "            pickle.dump(creds, token)\n",
    "\n",
    "    service = build('gmail', 'v1', credentials=creds)\n",
    "    # create a MIMEText object with the message content\n",
    "    message_text = MIMEText(message +\"<br><br>\", 'html')\n",
    "\n",
    "    # set the recipient and subject fields\n",
    "    message_text['to'] = recipient\n",
    "    message_text['subject'] = subject\n",
    "#     create_message = {'raw': base64.urlsafe_b64encode(message.as_bytes()).decode()}\n",
    "    create_message = {'raw': base64.urlsafe_b64encode(message_text.as_bytes()).decode()}\n",
    "    \n",
    "    # send the message\n",
    "    send_message = service.users().messages().send(userId=\"me\", body=create_message).execute()\n",
    "    print(F'The message was sent to {recipient} Message Id: {send_message[\"id\"]}')"
   ]
  },
  {
   "cell_type": "code",
   "execution_count": null,
   "id": "8494ac2f",
   "metadata": {},
   "outputs": [],
   "source": []
  },
  {
   "cell_type": "code",
   "execution_count": 4,
   "id": "05ef75c2",
   "metadata": {},
   "outputs": [
    {
     "name": "stdout",
     "output_type": "stream",
     "text": [
      "The file \"G:/.shortcut-targets-by-id/1ER8hilqZ2TuX2C34R3SMAtd1Xbk94LE2/MyOTAs/Baza Excel/Logs/files_processed/GYG - 2023-07-03\" does not exist.\n",
      "The file \"G:/.shortcut-targets-by-id/1ER8hilqZ2TuX2C34R3SMAtd1Xbk94LE2/MyOTAs/Baza Excel/Logs/files_processed/GYG - 2023-07-03\" does not exist.\n",
      "The message was sent to wojbal3@gmail.com Message Id: 1891b6f4293fdf0a\n",
      "The message was sent to tech@myotas.com Message Id: 1891b6f4450790d2\n"
     ]
    }
   ],
   "source": [
    "message = ''\n",
    "subject = ''\n",
    "#check raw\n",
    "if os.path.isfile(f'{file_path_logs_processed}-raw.txt'):\n",
    "    print(f'The file \"{file_path_logs_processed}\" exists.')\n",
    "else:\n",
    "    print(f'The file \"{file_path_logs_processed}\" does not exist.')\n",
    "    message = f'{blob_name_short}-raw not exist'\n",
    "    subject = f'{blob_name_short}-raw'\n",
    "\n",
    "# check refined\n",
    "if os.path.isfile(f'{file_path_logs_processed}-refined.txt'):\n",
    "    print(f'The file \"{file_path_logs_processed}\" exists.')\n",
    "else:\n",
    "    print(f'The file \"{file_path_logs_processed}\" does not exist.')\n",
    "    if len(message) == 0:\n",
    "        message = f'{blob_name_short}-refined not exist'\n",
    "        subject = f'{blob_name_short}-refined'\n",
    "    else:\n",
    "        message = message + f' | {blob_name_short}-refined not exist'\n",
    "        subject = subject + f' | {blob_name_short}-refined'\n",
    "    \n",
    "if len(subject) != 0:\n",
    "    send_email(subject, message, 'wojbal3@gmail.com')\n",
    "    send_email(subject, message, 'tech@myotas.com')\n",
    "\n",
    "    "
   ]
  },
  {
   "cell_type": "code",
   "execution_count": null,
   "id": "e01bb663",
   "metadata": {},
   "outputs": [],
   "source": []
  }
 ],
 "metadata": {
  "kernelspec": {
   "display_name": "Python 3 (ipykernel)",
   "language": "python",
   "name": "python3"
  },
  "language_info": {
   "codemirror_mode": {
    "name": "ipython",
    "version": 3
   },
   "file_extension": ".py",
   "mimetype": "text/x-python",
   "name": "python",
   "nbconvert_exporter": "python",
   "pygments_lexer": "ipython3",
   "version": "3.10.9"
  }
 },
 "nbformat": 4,
 "nbformat_minor": 5
}
