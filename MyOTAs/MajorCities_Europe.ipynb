{
 "cells": [
  {
   "cell_type": "code",
   "execution_count": null,
   "id": "e59d4d78",
   "metadata": {},
   "outputs": [],
   "source": [
    "import csv\n",
    "from io import StringIO\n",
    "\n",
    "# List of countries and their major cities or popular travel destinations\n",
    "europe_data = {\n",
    "    \"United Kingdom\": [\n",
    "        \"London\", \"Edinburgh\", \"Manchester\", \"Birmingham\", \"Liverpool\", \n",
    "        \"Glasgow\", \"Bristol\", \"Oxford\", \"Cambridge\", \"Leeds\", \"Newcastle\", \n",
    "        \"Sheffield\", \"Belfast\", \"Brighton\", \"Cardiff\", \"York\", \"Nottingham\", \n",
    "        \"Bath\", \"Reading\", \"Norwich\", \"Leicester\", \"Southampton\", \"Portsmouth\", \n",
    "        \"Durham\", \"Swansea\", \"Exeter\", \"Dundee\", \"Coventry\", \"Stirling\", \"Plymouth\"\n",
    "    ],\n",
    "    \"France\": [\n",
    "        \"Paris\", \"Marseille\", \"Lyon\", \"Toulouse\", \"Nice\", \"Nantes\", \"Bordeaux\", \n",
    "        \"Lille\", \"Rennes\", \"Strasbourg\", \"Montpellier\", \"Grenoble\", \"Dijon\", \n",
    "        \"Angers\", \"Avignon\", \"Cannes\", \"Rouen\", \"Toulon\", \"Aix-en-Provence\", \n",
    "        \"Amiens\", \"Nancy\", \"Reims\", \"Clermont-Ferrand\", \"La Rochelle\", \"Versailles\", \n",
    "        \"Tours\", \"Besançon\", \"Orléans\", \"Mulhouse\", \"Caen\"\n",
    "    ],\n",
    "    # Continue with the same structure for other countries...\n",
    "    \"Germany\": [\n",
    "        \"Berlin\", \"Munich\", \"Hamburg\", \"Cologne\", \"Frankfurt\", \"Stuttgart\", \n",
    "        \"Düsseldorf\", \"Dresden\", \"Leipzig\", \"Heidelberg\", \"Nuremberg\", \n",
    "        \"Hanover\", \"Bremen\", \"Bonn\", \"Karlsruhe\", \"Mannheim\", \"Freiburg\", \n",
    "        \"Wiesbaden\", \"Mönchengladbach\", \"Dortmund\", \"Essen\", \"Kiel\", \"Lübeck\", \n",
    "        \"Osnabrück\", \"Potsdam\", \"Rostock\", \"Regensburg\", \"Ulm\", \"Augsburg\", \"Bielefeld\"\n",
    "    ],\n",
    "    # ... For brevity, I'll limit the list to just three countries here\n",
    "}\n",
    "\n",
    "# Create the CSV content\n",
    "output = StringIO()\n",
    "csv_writer = csv.writer(output)\n",
    "csv_writer.writerow([\"Country\", \"City\"])\n",
    "\n",
    "for country, cities in europe_data.items():\n",
    "    for city in cities:\n",
    "        csv_writer.writerow([country, city])\n",
    "\n",
    "# Seek to the start of the output to read its content\n",
    "output.seek(0)\n",
    "csv_content = output.getvalue()\n",
    "\n",
    "csv_content[:1000]  # Displaying only the first 1000 characters for brevity\n"
   ]
  }
 ],
 "metadata": {
  "kernelspec": {
   "display_name": "Python 3 (ipykernel)",
   "language": "python",
   "name": "python3"
  },
  "language_info": {
   "codemirror_mode": {
    "name": "ipython",
    "version": 3
   },
   "file_extension": ".py",
   "mimetype": "text/x-python",
   "name": "python",
   "nbconvert_exporter": "python",
   "pygments_lexer": "ipython3",
   "version": "3.10.9"
  }
 },
 "nbformat": 4,
 "nbformat_minor": 5
}
