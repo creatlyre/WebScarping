{
 "cells": [
  {
   "cell_type": "code",
   "execution_count": 7,
   "id": "d2c9ecc7",
   "metadata": {},
   "outputs": [],
   "source": [
    "from azure.storage.blob import BlobServiceClient\n",
    "import datetime\n"
   ]
  },
  {
   "cell_type": "code",
   "execution_count": 9,
   "id": "7b4d4426",
   "metadata": {},
   "outputs": [
    {
     "name": "stdout",
     "output_type": "stream",
     "text": [
      "An error occurred: The specified blob already exists.\n",
      "RequestId:0af943c0-b01e-0009-6561-982dce000000\n",
      "Time:2023-06-06T10:26:48.3492818Z\n",
      "ErrorCode:BlobAlreadyExists\n",
      "Content: <?xml version=\"1.0\" encoding=\"utf-8\"?><Error><Code>BlobAlreadyExists</Code><Message>The specified blob already exists.\n",
      "RequestId:0af943c0-b01e-0009-6561-982dce000000\n",
      "Time:2023-06-06T10:26:48.3492818Z</Message></Error>\n"
     ]
    }
   ],
   "source": [
    "\n",
    "def upload_excel_to_azure_storage_account(local_file_path, storage_account_name, storage_account_key, container_name, blob_name):\n",
    "    try:\n",
    "        # Create a connection string to the Azure Storage account\n",
    "        connection_string = f\"DefaultEndpointsProtocol=https;AccountName={storage_account_name};AccountKey={storage_account_key};EndpointSuffix=core.windows.net\"\n",
    "\n",
    "        # Create a BlobServiceClient object using the connection string\n",
    "        blob_service_client = BlobServiceClient.from_connection_string(connection_string)\n",
    "\n",
    "        # Get a reference to the container\n",
    "        container_client = blob_service_client.get_container_client(container_name)\n",
    "\n",
    "        # Upload the file to Azure Blob Storage\n",
    "        with open(local_file_path, \"rb\") as file:\n",
    "            container_client.upload_blob(name=blob_name, data=file)\n",
    "\n",
    "        print(\"File uploaded successfully to Azure Blob Storage.\")\n",
    "\n",
    "    except Exception as e:\n",
    "        print(f\"An error occurred: {e}\")\n",
    "\n",
    "\n",
    "# Set the path of the local file\n",
    "date_today = datetime.date.today().strftime(\"%Y-%m-%d\")\n",
    "local_file_path = fr'G:/.shortcut-targets-by-id/1ER8hilqZ2TuX2C34R3SMAtd1Xbk94LE2/MyOTAs/Baza Excel/Get Your Guide/GYG - {date_today}.xlsx'\n",
    "\n",
    "# Set the name of your Azure Storage account and the corresponding access key\n",
    "storage_account_name = \"storagemyotas\"\n",
    "storage_account_key = \"vyHHUXSN761ELqivtl/U3F61lUY27jGrLIKOyAplmE0krUzwaJuFVomDXsIc51ZkFWMjtxZ8wJiN+AStbsJHjA==\"\n",
    "\n",
    "# Set the name of the container and the desired blob name\n",
    "container_name = \"gyg\"\n",
    "blob_name = fr'GYG - {date_today}.xlsx'\n",
    "\n",
    "# Call the function to upload the file to Azure Blob Storage\n",
    "upload_excel_to_azure_storage_account(local_file_path, storage_account_name, storage_account_key, container_name, blob_name)\n"
   ]
  },
  {
   "cell_type": "code",
   "execution_count": null,
   "id": "278a41a1",
   "metadata": {},
   "outputs": [],
   "source": []
  }
 ],
 "metadata": {
  "kernelspec": {
   "display_name": "Python 3 (ipykernel)",
   "language": "python",
   "name": "python3"
  },
  "language_info": {
   "codemirror_mode": {
    "name": "ipython",
    "version": 3
   },
   "file_extension": ".py",
   "mimetype": "text/x-python",
   "name": "python",
   "nbconvert_exporter": "python",
   "pygments_lexer": "ipython3",
   "version": "3.10.9"
  }
 },
 "nbformat": 4,
 "nbformat_minor": 5
}
