{
 "cells": [
  {
   "cell_type": "code",
   "execution_count": 1,
   "id": "9f89d798",
   "metadata": {},
   "outputs": [],
   "source": [
    "import json\n",
    "import common_functions"
   ]
  },
  {
   "cell_type": "code",
   "execution_count": 2,
   "id": "e078e048",
   "metadata": {},
   "outputs": [],
   "source": [
    "css_selectors = {\n",
    "    'currency': 'div[data-test*=\"dropdown-currency\"]',\n",
    "    'currency_list': 'section[class*=\"row-start-center\"]',\n",
    "    'products_count': 'span[data-test-id*=\"search-component-activity-count-text\"]',\n",
    "    'view_more_button': 'button[data-test-id=\"search-component-test-btn\"]',\n",
    "    'show_more_button': 'a[data-qa-marker*=\"loading-button\"]',\n",
    "    'product_card': 'div[data-test*=\"ActivityCard\"]',\n",
    "    'tour_price': 'span[data-test=\"realPrice\"]',\n",
    "    'tour_price_discount': 'div[class=\"tour-scratch-price\"]',\n",
    "    'ratings': 'div[data-test=\"reviewTest\"]',\n",
    "    'review_count': 'p[class*=\"reviewsNumber\"]',\n",
    "    'category_label': 'div[data-test=\"main-category\"]',\n",
    "    'js_script_for_shadow_root': 'return document.querySelector(\"msm-cookie-banner\").shadowRoot',\n",
    "    'cookies_banner': 'button[data-test*=\"decline-cookies\"]',\n",
    "    'sort_by': 'select[data-test-id=\"search-component-sort-selector\"]',\n",
    "    'option_rating': 'option[value*=\"rating\"]',\n",
    "    'option_popularity': 'option[value*=\"relevance-city\"]'\n",
    "}\n",
    "\n",
    "\n",
    "site = \"Musement\"\n",
    "file_manager_logger = common_functions.FilePathManager(site, \"NA\")\n",
    "logger = common_functions.LoggerManager(file_manager_logger)"
   ]
  },
  {
   "cell_type": "code",
   "execution_count": null,
   "id": "f0589847",
   "metadata": {},
   "outputs": [],
   "source": []
  },
  {
   "cell_type": "code",
   "execution_count": 3,
   "id": "c35b1bc4",
   "metadata": {},
   "outputs": [
    {
     "name": "stderr",
     "output_type": "stream",
     "text": [
      "2024-10-02 09:23:09,132 - Info_logger - INFO - Initializing the Chrome driver\n",
      "2024-10-02 09:23:10,443 - Info_logger - INFO - Successfully initiated Scraper for city: Lisbon\n",
      "2024-10-02 09:23:20,969 - Info_logger - INFO - Current count of products: 0 Products count: 259 80% --> 207.20000000000002\n",
      "2024-10-02 09:23:22,516 - Info_logger - INFO - Current count of products: 12 Products count: 259 80% --> 207.20000000000002\n",
      "2024-10-02 09:23:24,068 - Info_logger - INFO - Current count of products: 24 Products count: 259 80% --> 207.20000000000002\n",
      "2024-10-02 09:23:25,622 - Info_logger - INFO - Current count of products: 36 Products count: 259 80% --> 207.20000000000002\n",
      "2024-10-02 09:23:27,175 - Info_logger - INFO - Current count of products: 48 Products count: 259 80% --> 207.20000000000002\n",
      "2024-10-02 09:23:28,729 - Info_logger - INFO - Current count of products: 60 Products count: 259 80% --> 207.20000000000002\n",
      "2024-10-02 09:23:30,294 - Info_logger - INFO - Current count of products: 72 Products count: 259 80% --> 207.20000000000002\n",
      "2024-10-02 09:23:31,834 - Info_logger - INFO - Current count of products: 84 Products count: 259 80% --> 207.20000000000002\n",
      "2024-10-02 09:23:33,382 - Info_logger - INFO - Current count of products: 96 Products count: 259 80% --> 207.20000000000002\n",
      "2024-10-02 09:23:34,954 - Info_logger - INFO - Current count of products: 108 Products count: 259 80% --> 207.20000000000002\n",
      "2024-10-02 09:23:36,499 - Info_logger - INFO - Current count of products: 120 Products count: 259 80% --> 207.20000000000002\n",
      "2024-10-02 09:23:38,050 - Info_logger - INFO - Current count of products: 132 Products count: 259 80% --> 207.20000000000002\n",
      "2024-10-02 09:23:39,600 - Info_logger - INFO - Current count of products: 144 Products count: 259 80% --> 207.20000000000002\n",
      "2024-10-02 09:23:41,151 - Info_logger - INFO - Current count of products: 156 Products count: 259 80% --> 207.20000000000002\n",
      "2024-10-02 09:23:42,703 - Info_logger - INFO - Current count of products: 168 Products count: 259 80% --> 207.20000000000002\n",
      "2024-10-02 09:23:44,294 - Info_logger - INFO - Current count of products: 180 Products count: 259 80% --> 207.20000000000002\n",
      "2024-10-02 09:23:45,880 - Info_logger - INFO - Current count of products: 192 Products count: 259 80% --> 207.20000000000002\n",
      "2024-10-02 09:23:47,482 - Info_logger - INFO - Current count of products: 204 Products count: 259 80% --> 207.20000000000002\n",
      "2024-10-02 09:24:07,324 - Done_logger - INFO - Rows: 228 Data saved to G:/.shortcut-targets-by-id/1ER8hilqZ2TuX2C34R3SMAtd1Xbk94LE2/MyOTAs/Baza Excel/Musement/Daily/2024-10-02-Lisbon-Musement.csv\n",
      "2024-10-02 09:24:07,328 - Info_logger - INFO - Initializing the Chrome driver\n",
      "2024-10-02 09:24:08,604 - Info_logger - INFO - Successfully initiated Scraper for city: Rome\n"
     ]
    }
   ],
   "source": [
    "# Load the config from the JSON file\n",
    "with open('config.json', 'r') as config_file:\n",
    "    config = json.load(config_file)\n",
    "config = config.get(site)\n",
    "\n",
    "# Access the city from the config\n",
    "cities = config.get('settings').get('city')\n",
    "\n",
    "for city in cities:\n",
    "    url = config.get('settings').get('url').replace(\"city\", city)\n",
    "    file_manager = common_functions.FilePathManager(site, city)\n",
    "    scraper = common_functions.ScraperMusement(url, city, css_selectors, file_manager, logger)\n",
    "    \n",
    "    \n",
    "    if scraper.is_city_already_done():\n",
    "        logger.logger_info.info(f\"Data for {city} already exists. Skipping...\")\n",
    "        continue\n",
    "    elif scraper.is_today_already_done():\n",
    "        logger.logger_info.info(f\"Data for today already exists. Exitng...\")\n",
    "        break\n",
    "\n",
    "    scraper.get_url()\n",
    "    scraper.select_currency()\n",
    "    products_count = scraper.get_product_count()\n",
    "    scraper.load_all_products_by_button(products_count)\n",
    "    df = scraper.scrape_products(global_category=True)\n",
    "    scraper.save_to_csv(df)\n",
    "    \n",
    "scraper.combine_csv_to_xlsx()"
   ]
  },
  {
   "cell_type": "code",
   "execution_count": 4,
   "id": "d13ac692",
   "metadata": {},
   "outputs": [
    {
     "name": "stderr",
     "output_type": "stream",
     "text": [
      "2024-09-29 10:18:20,709 - Info_logger - INFO - Sucessfuly initiated AzureBlobUploader\n",
      "2024-09-29 10:18:21,474 - Done_logger - INFO - File uploaded successfully to Azure Blob Storage (raw).\n",
      "2024-09-29 10:18:23,875 - Done_logger - INFO - File uploaded successfully to Azure Blob Storage (refined).\n"
     ]
    }
   ],
   "source": [
    "# Initialize the AzureBlobUploader with storage account details\n",
    "blob_uploader = common_functions.AzureBlobUploader(file_manager, logger)\n",
    "blob_uploader.upload_excel_to_azure_storage_account()\n",
    "blob_uploader.transform_upload_to_refined()"
   ]
  }
 ],
 "metadata": {
  "kernelspec": {
   "display_name": "Python 3 (ipykernel)",
   "language": "python",
   "name": "python3"
  },
  "language_info": {
   "codemirror_mode": {
    "name": "ipython",
    "version": 3
   },
   "file_extension": ".py",
   "mimetype": "text/x-python",
   "name": "python",
   "nbconvert_exporter": "python",
   "pygments_lexer": "ipython3",
   "version": "3.11.9"
  }
 },
 "nbformat": 4,
 "nbformat_minor": 5
}
