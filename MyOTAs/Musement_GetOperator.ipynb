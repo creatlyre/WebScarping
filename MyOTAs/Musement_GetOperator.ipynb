{
 "cells": [
  {
   "cell_type": "code",
   "execution_count": 1,
   "id": "29fc006a",
   "metadata": {},
   "outputs": [],
   "source": [
    "import common_functions\n",
    "import pandas as pd"
   ]
  },
  {
   "cell_type": "code",
   "execution_count": null,
   "id": "b16a01d4",
   "metadata": {},
   "outputs": [],
   "source": []
  },
  {
   "cell_type": "code",
   "execution_count": 2,
   "id": "e6c40eaa",
   "metadata": {},
   "outputs": [],
   "source": [
    "site = \"Musement\"\n",
    "css_selectors = {\n",
    "    'currency': 'div[data-test*=\"dropdown-currency\"]',\n",
    "    'currency_list': 'section[class*=\"row-start-center\"]',\n",
    "    'products_count': 'span[data-test-id*=\"search-component-activity-count-text\"]',\n",
    "    'view_more_button': 'button[data-test-id=\"search-component-test-btn\"]',\n",
    "    'show_more_button': 'a[data-qa-marker*=\"loading-button\"]',\n",
    "    'product_card': 'div[data-test*=\"ActivityCard\"]',\n",
    "    'tour_price': 'span[data-test=\"realPrice\"]',\n",
    "    'tour_price_discount': 'div[class=\"tour-scratch-price\"]',\n",
    "    'ratings': 'div[data-test=\"reviewTest\"]',\n",
    "    'review_count': 'p[class*=\"reviewsNumber\"]',\n",
    "    'category_label': 'div[data-test=\"main-category\"]',\n",
    "    'js_script_for_shadow_root': 'return document.querySelector(\"msm-cookie-banner\").shadowRoot',\n",
    "    'cookies_banner': 'button[data-test*=\"decline-cookies\"]',\n",
    "    'sort_by': 'select[data-test-id=\"search-component-sort-selector\"]',\n",
    "    'option_rating': 'option[value*=\"rating\"]',\n",
    "    'option_popularity': 'option[value*=\"relevance-city\"]',\n",
    "    'provider': 'div[class*=\"src-shared_component-blockBody\"]'\n",
    "}\n"
   ]
  },
  {
   "cell_type": "code",
   "execution_count": 3,
   "id": "de12715c",
   "metadata": {},
   "outputs": [],
   "source": [
    "file_manager = common_functions.FilePathManager(site, \"NA\")\n",
    "logger = common_functions.LoggerManager(file_manager)\n",
    "file_path_xlsx_operator = file_manager.get_file_paths()['file_path_xlsx_operator']\n"
   ]
  },
  {
   "cell_type": "code",
   "execution_count": 4,
   "id": "997cee78",
   "metadata": {},
   "outputs": [
    {
     "name": "stderr",
     "output_type": "stream",
     "text": [
      "2024-10-10 16:42:12,804 - Info_logger - INFO - Processing row 0 with URL: https://www.musement.com/uk/lisbon/lisboa-card-for-24h-48h-or-72h-83764/\n",
      "2024-10-10 16:42:13,555 - Info_logger - INFO - Skipping row 0 as the URL is not 'ToDo'.\n",
      "2024-10-10 16:42:13,556 - Info_logger - INFO - Processing row 1 with URL: https://www.musement.com/uk/lisbon/lisbon-oceanarium-entrance-tickets-133813/\n",
      "2024-10-10 16:42:13,557 - Info_logger - INFO - Skipping row 1 as the URL is not 'ToDo'.\n",
      "2024-10-10 16:42:13,558 - Info_logger - INFO - Processing row 2 with URL: https://www.musement.com/uk/lisbon/belem-and-modern-lisbon-bus-hop-on-hop-off-combined-tickets-347911/\n",
      "2024-10-10 16:42:13,559 - Info_logger - INFO - Skipping row 2 as the URL is not 'ToDo'.\n",
      "2024-10-10 16:42:13,560 - Info_logger - INFO - Processing row 3 with URL: https://www.musement.com/uk/lisbon/nat-geo-day-tour-oceanario-odyssey-a-behind-the-scenes-experience-437349/\n",
      "2024-10-10 16:42:13,561 - Info_logger - INFO - Skipping row 3 as the URL is not 'ToDo'.\n",
      "2024-10-10 16:42:13,562 - Info_logger - INFO - Processing row 4 with URL: https://www.musement.com/uk/lisbon/nat-geo-day-tour-crafting-lisbon-s-culinary-heritage-445128/\n",
      "2024-10-10 16:42:13,562 - Info_logger - INFO - Skipping row 4 as the URL is not 'ToDo'.\n",
      "2024-10-10 16:42:13,563 - Info_logger - INFO - Processing row 5 with URL: https://www.musement.com/uk/lisbon/all-in-one-in-lisbon-bus-tram-and-boat-60701/\n",
      "2024-10-10 16:42:13,564 - Info_logger - INFO - Skipping row 5 as the URL is not 'ToDo'.\n",
      "2024-10-10 16:42:13,564 - Info_logger - INFO - Processing row 6 with URL: https://www.musement.com/uk/lisbon/telecabine-lisboa-skip-the-line-tickets-395760/\n",
      "2024-10-10 16:42:13,565 - Info_logger - INFO - Skipping row 6 as the URL is not 'ToDo'.\n",
      "2024-10-10 16:42:13,565 - Info_logger - INFO - Processing row 7 with URL: https://www.musement.com/uk/lisbon/entrance-tickets-for-fado-in-chiado-live-show-in-lisbon-372434/\n",
      "2024-10-10 16:42:13,566 - Info_logger - INFO - Skipping row 7 as the URL is not 'ToDo'.\n",
      "2024-10-10 16:42:13,567 - Info_logger - INFO - Processing row 8 with URL: https://www.musement.com/uk/lisbon/telecabine-lisboa-tickets-with-city-audio-guide-401899/\n",
      "2024-10-10 16:42:13,567 - Info_logger - INFO - Initializing the Chrome driver\n",
      "2024-10-10 16:42:15,056 - Info_logger - INFO - Successfully initiated Scraper for city: None\n",
      "2024-10-10 16:42:15,057 - Info_logger - INFO - Initialized scraper for URL: https://www.musement.com/uk/lisbon/telecabine-lisboa-tickets-with-city-audio-guide-401899/\n",
      "2024-10-10 16:42:17,688 - Error_logger - ERROR - Error processing row 8 with URL https://www.musement.com/uk/lisbon/telecabine-lisboa-tickets-with-city-audio-guide-401899/: Message: no such element: Unable to locate element: {\"method\":\"css selector\",\"selector\":\"div[class*=\"src-shared_component-blockBody\"]\"}\n",
      "  (Session info: chrome=129.0.6668.90); For documentation on this error, please visit: https://www.selenium.dev/documentation/webdriver/troubleshooting/errors#no-such-element-exception\n",
      "Stacktrace:\n",
      "\tGetHandleVerifier [0x00007FF65E47B095+29557]\n",
      "\t(No symbol) [0x00007FF65E3EFA50]\n",
      "\t(No symbol) [0x00007FF65E2AB56A]\n",
      "\t(No symbol) [0x00007FF65E2FF695]\n",
      "\t(No symbol) [0x00007FF65E2FF8EC]\n",
      "\t(No symbol) [0x00007FF65E34B777]\n",
      "\t(No symbol) [0x00007FF65E3271CF]\n",
      "\t(No symbol) [0x00007FF65E34851C]\n",
      "\t(No symbol) [0x00007FF65E326F33]\n",
      "\t(No symbol) [0x00007FF65E2F116F]\n",
      "\t(No symbol) [0x00007FF65E2F22D1]\n",
      "\tGetHandleVerifier [0x00007FF65E7AC96D+3378253]\n",
      "\tGetHandleVerifier [0x00007FF65E7F8497+3688311]\n",
      "\tGetHandleVerifier [0x00007FF65E7ED1CB+3642539]\n",
      "\tGetHandleVerifier [0x00007FF65E53A6B6+813462]\n",
      "\t(No symbol) [0x00007FF65E3FAB5F]\n",
      "\t(No symbol) [0x00007FF65E3F6B74]\n",
      "\t(No symbol) [0x00007FF65E3F6D10]\n",
      "\t(No symbol) [0x00007FF65E3E5C1F]\n",
      "\tBaseThreadInitThunk [0x00007FFB8E91257D+29]\n",
      "\tRtlUserThreadStart [0x00007FFB902AAF08+40]\n",
      "\n"
     ]
    },
    {
     "ename": "TypeError",
     "evalue": "ScraperBase.quit_driver() takes 1 positional argument but 2 were given",
     "output_type": "error",
     "traceback": [
      "\u001b[1;31m---------------------------------------------------------------------------\u001b[0m",
      "\u001b[1;31mTypeError\u001b[0m                                 Traceback (most recent call last)",
      "Cell \u001b[1;32mIn[4], line 32\u001b[0m\n\u001b[0;32m     29\u001b[0m         logger\u001b[38;5;241m.\u001b[39mlogger_err\u001b[38;5;241m.\u001b[39merror(\u001b[38;5;124mf\u001b[39m\u001b[38;5;124m\"\u001b[39m\u001b[38;5;124mError processing row \u001b[39m\u001b[38;5;132;01m{\u001b[39;00mindex\u001b[38;5;132;01m}\u001b[39;00m\u001b[38;5;124m with URL \u001b[39m\u001b[38;5;132;01m{\u001b[39;00murl\u001b[38;5;132;01m}\u001b[39;00m\u001b[38;5;124m: \u001b[39m\u001b[38;5;132;01m{\u001b[39;00m\u001b[38;5;28mstr\u001b[39m(e)\u001b[38;5;132;01m}\u001b[39;00m\u001b[38;5;124m\"\u001b[39m)\n\u001b[0;32m     30\u001b[0m     \u001b[38;5;28;01mfinally\u001b[39;00m:\n\u001b[0;32m     31\u001b[0m         \u001b[38;5;66;03m# Ensure that the driver is closed\u001b[39;00m\n\u001b[1;32m---> 32\u001b[0m         \u001b[43mscraper\u001b[49m\u001b[38;5;241;43m.\u001b[39;49m\u001b[43mquit_driver\u001b[49m\u001b[43m(\u001b[49m\u001b[43mscraper\u001b[49m\u001b[38;5;241;43m.\u001b[39;49m\u001b[43mdriver\u001b[49m\u001b[43m)\u001b[49m\n\u001b[0;32m     33\u001b[0m         logger\u001b[38;5;241m.\u001b[39mlogger_done\u001b[38;5;241m.\u001b[39minfo(\u001b[38;5;124mf\u001b[39m\u001b[38;5;124m\"\u001b[39m\u001b[38;5;124mClosed scraper for URL: \u001b[39m\u001b[38;5;132;01m{\u001b[39;00murl\u001b[38;5;132;01m}\u001b[39;00m\u001b[38;5;124m\"\u001b[39m)\n\u001b[0;32m     35\u001b[0m scraper\u001b[38;5;241m.\u001b[39m_save_dataframe(df)\n",
      "\u001b[1;31mTypeError\u001b[0m: ScraperBase.quit_driver() takes 1 positional argument but 2 were given"
     ]
    },
    {
     "ename": "",
     "evalue": "",
     "output_type": "error",
     "traceback": [
      "\u001b[1;31mThe Kernel crashed while executing code in the current cell or a previous cell. \n",
      "\u001b[1;31mPlease review the code in the cell(s) to identify a possible cause of the failure. \n",
      "\u001b[1;31mClick <a href='https://aka.ms/vscodeJupyterKernelCrash'>here</a> for more info. \n",
      "\u001b[1;31mView Jupyter <a href='command:jupyter.viewOutput'>log</a> for further details."
     ]
    }
   ],
   "source": [
    "df = pd.read_excel(file_path_xlsx_operator)\n",
    "counter = 1\n",
    "for index, row in df.iterrows():\n",
    "    \n",
    "    url = row['Link']\n",
    "    # Log the current row being processed\n",
    "    logger.logger_info.info(f\"Processing row {index} with URL: {url}\")\n",
    "\n",
    "    if row['Operator'] != \"ToDo\":\n",
    "        logger.logger_info.info(f\"Skipping row {index} as the URL is not 'ToDo'.\")\n",
    "        continue\n",
    "    try:\n",
    "        scraper = common_functions.ScraperMusement(url, None, css_selectors,  file_manager, logger, provider=True)\n",
    "        # Log the initiation of the scraping process\n",
    "        logger.logger_info.info(f\"Initialized scraper for URL: {url}\")\n",
    "        scraper.get_url()\n",
    "        \n",
    "        provider_name = scraper.get_provider_name()\n",
    "        if provider_name == 'Not Found':\n",
    "            logger.logger_done.info(f\"Provider not found for row {index}: url: {url}\")\n",
    "            continue\n",
    "        # Log that the provider name was successfully fetched\n",
    "        logger.logger_done.info(f\"Provider name fetched for row {index}: {provider_name.text}\")\n",
    "            \n",
    "        df.at[index, 'Operator'] = provider_name.text\n",
    "        counter += 1\n",
    "        if counter % 50 == 0:\n",
    "            logger.logger_done.info(f\"Already process {counter} saving progress.\")\n",
    "            scraper.save_dataframe(df, file_path_xlsx_operator)\n",
    "    except Exception as e:\n",
    "        # Log any errors encountered during the scraping process\n",
    "        logger.logger_err.error(f\"Error processing row {index} with URL {url}: {str(e)}\")\n",
    "    finally:\n",
    "        # Ensure that the driver is closed\n",
    "        scraper.quit_driver()"
   ]
  },
  {
   "cell_type": "code",
   "execution_count": 5,
   "id": "35025a9f",
   "metadata": {},
   "outputs": [],
   "source": [
    "scraper._save_dataframe(df)\n"
   ]
  },
  {
   "cell_type": "code",
   "execution_count": 11,
   "id": "315104d6",
   "metadata": {},
   "outputs": [],
   "source": []
  },
  {
   "cell_type": "code",
   "execution_count": null,
   "id": "99c7f76b",
   "metadata": {},
   "outputs": [],
   "source": []
  },
  {
   "cell_type": "code",
   "execution_count": null,
   "id": "584dc739",
   "metadata": {},
   "outputs": [],
   "source": []
  }
 ],
 "metadata": {
  "kernelspec": {
   "display_name": "Python 3",
   "language": "python",
   "name": "python3"
  },
  "language_info": {
   "codemirror_mode": {
    "name": "ipython",
    "version": 3
   },
   "file_extension": ".py",
   "mimetype": "text/x-python",
   "name": "python",
   "nbconvert_exporter": "python",
   "pygments_lexer": "ipython3",
   "version": "3.11.9"
  }
 },
 "nbformat": 4,
 "nbformat_minor": 5
}
