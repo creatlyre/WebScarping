{
 "cells": [
  {
   "cell_type": "code",
   "execution_count": 11,
   "id": "29fc006a",
   "metadata": {},
   "outputs": [],
   "source": [
    "import common_functions\n",
    "import pandas as pd"
   ]
  },
  {
   "cell_type": "code",
   "execution_count": null,
   "id": "b16a01d4",
   "metadata": {},
   "outputs": [],
   "source": []
  },
  {
   "cell_type": "code",
   "execution_count": 13,
   "id": "e6c40eaa",
   "metadata": {},
   "outputs": [],
   "source": [
    "site = \"Musement\"\n",
    "css_selectors = {\n",
    "    'currency': 'div[data-test*=\"dropdown-currency\"]',\n",
    "    'currency_list': 'section[class*=\"row-start-center\"]',\n",
    "    'products_count': 'span[data-test-id*=\"search-component-activity-count-text\"]',\n",
    "    'view_more_button': 'button[data-test-id=\"search-component-test-btn\"]',\n",
    "    'show_more_button': 'a[data-qa-marker*=\"loading-button\"]',\n",
    "    'product_card': 'div[data-test*=\"ActivityCard\"]',\n",
    "    'tour_price': 'span[data-test=\"realPrice\"]',\n",
    "    'tour_price_discount': 'div[class=\"tour-scratch-price\"]',\n",
    "    'ratings': 'div[data-test=\"reviewTest\"]',\n",
    "    'review_count': 'p[class*=\"reviewsNumber\"]',\n",
    "    'category_label': 'div[data-test=\"main-category\"]',\n",
    "    'js_script_for_shadow_root': 'return document.querySelector(\"msm-cookie-banner\").shadowRoot',\n",
    "    'cookies_banner': 'button[data-test*=\"decline-cookies\"]',\n",
    "    'sort_by': 'select[data-test-id=\"search-component-sort-selector\"]',\n",
    "    'option_rating': 'option[value*=\"rating\"]',\n",
    "    'option_popularity': 'option[value*=\"relevance-city\"]',\n",
    "    'provider': 'div[class*=\"src-shared_component-blockBody\"]'\n",
    "}\n"
   ]
  },
  {
   "cell_type": "code",
   "execution_count": 14,
   "id": "de12715c",
   "metadata": {},
   "outputs": [],
   "source": [
    "file_manager = common_functions.FilePathManager(site, \"NA\")\n",
    "logger = common_functions.LoggerManager(file_manager)\n",
    "file_path_xlsx_operator = file_manager.get_file_paths()['file_path_xlsx_operator']\n"
   ]
  },
  {
   "cell_type": "code",
   "execution_count": 9,
   "id": "997cee78",
   "metadata": {},
   "outputs": [
    {
     "name": "stderr",
     "output_type": "stream",
     "text": [
      "2024-09-27 22:54:16,250 - Info_logger - INFO - Processing row 0 with URL: https://www.musement.com/uk/lisbon/lisboa-card-for-24h-48h-or-72h-83764/\n",
      "2024-09-27 22:54:16,251 - Info_logger - INFO - Skipping row 0 as the URL is not 'ToDo'.\n",
      "2024-09-27 22:54:16,252 - Info_logger - INFO - Processing row 1 with URL: https://www.musement.com/uk/lisbon/lisbon-oceanarium-entrance-tickets-133813/\n",
      "2024-09-27 22:54:16,253 - Info_logger - INFO - Initializing the Chrome driver and logging into the website\n",
      "2024-09-27 22:54:17,478 - Info_logger - INFO - Successfully initiated ProductScraper for city: None\n",
      "2024-09-27 22:54:17,479 - Info_logger - INFO - Initialized scraper for URL: https://www.musement.com/uk/lisbon/lisbon-oceanarium-entrance-tickets-133813/\n",
      "2024-09-27 22:54:24,073 - Done_logger - INFO - Provider name fetched for row 1: Oceanario Lisboa\n",
      "2024-09-27 22:54:26,176 - Done_logger - INFO - Closed scraper for URL: https://www.musement.com/uk/lisbon/lisbon-oceanarium-entrance-tickets-133813/\n"
     ]
    }
   ],
   "source": [
    "\n",
    "df = pd.read_excel(file_path_xlsx_operator)\n",
    "\n",
    "for index, row in df.iterrows():\n",
    "    \n",
    "    url = row['Link']\n",
    "    # Log the current row being processed\n",
    "    logger.logger_info.info(f\"Processing row {index} with URL: {url}\")\n",
    "\n",
    "    if row['Operator'] != \"ToDo\":\n",
    "        logger.logger_info.info(f\"Skipping row {index} as the URL is not 'ToDo'.\")\n",
    "        continue\n",
    "    try:\n",
    "        scraper = common_functions.ProductScraperMusment(url, None, css_selectors,  file_manager, logger, provider=True)\n",
    "        # Log the initiation of the scraping process\n",
    "        logger.logger_info.info(f\"Initialized scraper for URL: {url}\")\n",
    "        scraper.get_url()\n",
    "        \n",
    "        provider_name = scraper.get_provider_name()\n",
    "        # Log that the provider name was successfully fetched\n",
    "        logger.logger_done.info(f\"Provider name fetched for row {index}: {provider_name.text}\")\n",
    "            \n",
    "        df.at[index, 'Operator'] = provider_name.text\n",
    "    except Exception as e:\n",
    "        # Log any errors encountered during the scraping process\n",
    "        logger.logger_err.error(f\"Error processing row {index} with URL {url}: {str(e)}\")\n",
    "    finally:\n",
    "        # Ensure that the driver is closed\n",
    "        scraper.quit_driver(scraper.driver)\n",
    "        logger.logger_done.info(f\"Closed scraper for URL: {url}\")\n",
    "\n",
    "scraper._save_dataframe(df)\n"
   ]
  },
  {
   "cell_type": "code",
   "execution_count": 10,
   "id": "35025a9f",
   "metadata": {},
   "outputs": [],
   "source": []
  },
  {
   "cell_type": "code",
   "execution_count": 11,
   "id": "315104d6",
   "metadata": {},
   "outputs": [],
   "source": []
  },
  {
   "cell_type": "code",
   "execution_count": null,
   "id": "99c7f76b",
   "metadata": {},
   "outputs": [],
   "source": []
  },
  {
   "cell_type": "code",
   "execution_count": null,
   "id": "584dc739",
   "metadata": {},
   "outputs": [],
   "source": []
  }
 ],
 "metadata": {
  "kernelspec": {
   "display_name": "Python 3 (ipykernel)",
   "language": "python",
   "name": "python3"
  },
  "language_info": {
   "codemirror_mode": {
    "name": "ipython",
    "version": 3
   },
   "file_extension": ".py",
   "mimetype": "text/x-python",
   "name": "python",
   "nbconvert_exporter": "python",
   "pygments_lexer": "ipython3",
   "version": "3.11.9"
  }
 },
 "nbformat": 4,
 "nbformat_minor": 5
}
